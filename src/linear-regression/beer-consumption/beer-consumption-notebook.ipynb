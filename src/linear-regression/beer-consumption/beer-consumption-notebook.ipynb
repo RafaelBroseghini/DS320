{
 "cells": [
  {
   "cell_type": "markdown",
   "metadata": {},
   "source": [
    "from IPython.display import HTML\n",
    "\n",
    "HTML('''<script>\n",
    "code_show=true; \n",
    "function code_toggle() {\n",
    " if (code_show){\n",
    " $('div.input').hide();\n",
    " } else {\n",
    " $('div.input').show();\n",
    " }\n",
    " code_show = !code_show\n",
    "} \n",
    "$( document ).ready(code_toggle);\n",
    "</script>\n",
    "<form action=\"javascript:code_toggle()\"><input type=\"submit\" value=\"Click here to toggle on/off the raw code.\"></form>''')"
   ]
  },
  {
   "cell_type": "markdown",
   "metadata": {},
   "source": [
    "# Beer Consumption in Sao Paulo Universities."
   ]
  },
  {
   "cell_type": "markdown",
   "metadata": {},
   "source": [
    "> The data (sample) was collected in São Paulo — Brazil, within a university area, where there are parties with groups of students from 18 to 28 years of age (average). The dataset used for this activity has 7 attributes, and ranges within period of one year."
   ]
  },
  {
   "cell_type": "code",
   "execution_count": 1345,
   "metadata": {},
   "outputs": [],
   "source": [
    "import pandas as pd\n",
    "import pandas_profiling\n",
    "import numpy as np\n",
    "import seaborn as sns\n",
    "import matplotlib.pyplot as plt\n",
    "from matrixprofile import *"
   ]
  },
  {
   "cell_type": "code",
   "execution_count": 1346,
   "metadata": {},
   "outputs": [],
   "source": [
    "sns.set_palette('cubehelix')"
   ]
  },
  {
   "cell_type": "code",
   "execution_count": 1347,
   "metadata": {},
   "outputs": [],
   "source": [
    "new_cols = ['date', 'avg_temp', 'min_temp', 'max_temp', 'precipitation_mm', 'weekend', 'total_consumption']\n",
    "beer_df = pd.read_csv('consumo_cerveja.csv', skiprows=1, names=new_cols, index_col=['date'], parse_dates=['date'])"
   ]
  },
  {
   "cell_type": "code",
   "execution_count": 1348,
   "metadata": {},
   "outputs": [],
   "source": [
    "profile = beer_df.profile_report(title='Beer Profiling Report')\n",
    "profile.to_file(output_file=\"init_beer_profile_report.html\")"
   ]
  },
  {
   "cell_type": "markdown",
   "metadata": {},
   "source": [
    "## Data exploration"
   ]
  },
  {
   "cell_type": "code",
   "execution_count": 1349,
   "metadata": {},
   "outputs": [
    {
     "data": {
      "text/html": [
       "<div>\n",
       "<style scoped>\n",
       "    .dataframe tbody tr th:only-of-type {\n",
       "        vertical-align: middle;\n",
       "    }\n",
       "\n",
       "    .dataframe tbody tr th {\n",
       "        vertical-align: top;\n",
       "    }\n",
       "\n",
       "    .dataframe thead th {\n",
       "        text-align: right;\n",
       "    }\n",
       "</style>\n",
       "<table border=\"1\" class=\"dataframe\">\n",
       "  <thead>\n",
       "    <tr style=\"text-align: right;\">\n",
       "      <th></th>\n",
       "      <th>avg_temp</th>\n",
       "      <th>min_temp</th>\n",
       "      <th>max_temp</th>\n",
       "      <th>precipitation_mm</th>\n",
       "      <th>weekend</th>\n",
       "      <th>total_consumption</th>\n",
       "    </tr>\n",
       "    <tr>\n",
       "      <th>date</th>\n",
       "      <th></th>\n",
       "      <th></th>\n",
       "      <th></th>\n",
       "      <th></th>\n",
       "      <th></th>\n",
       "      <th></th>\n",
       "    </tr>\n",
       "  </thead>\n",
       "  <tbody>\n",
       "    <tr>\n",
       "      <td>2015-01-01</td>\n",
       "      <td>27,3</td>\n",
       "      <td>23,9</td>\n",
       "      <td>32,5</td>\n",
       "      <td>0</td>\n",
       "      <td>0.0</td>\n",
       "      <td>25.461</td>\n",
       "    </tr>\n",
       "    <tr>\n",
       "      <td>2015-01-02</td>\n",
       "      <td>27,02</td>\n",
       "      <td>24,5</td>\n",
       "      <td>33,5</td>\n",
       "      <td>0</td>\n",
       "      <td>0.0</td>\n",
       "      <td>28.972</td>\n",
       "    </tr>\n",
       "    <tr>\n",
       "      <td>2015-01-03</td>\n",
       "      <td>24,82</td>\n",
       "      <td>22,4</td>\n",
       "      <td>29,9</td>\n",
       "      <td>0</td>\n",
       "      <td>1.0</td>\n",
       "      <td>30.814</td>\n",
       "    </tr>\n",
       "    <tr>\n",
       "      <td>2015-01-04</td>\n",
       "      <td>23,98</td>\n",
       "      <td>21,5</td>\n",
       "      <td>28,6</td>\n",
       "      <td>1,2</td>\n",
       "      <td>1.0</td>\n",
       "      <td>29.799</td>\n",
       "    </tr>\n",
       "    <tr>\n",
       "      <td>2015-01-05</td>\n",
       "      <td>23,82</td>\n",
       "      <td>21</td>\n",
       "      <td>28,3</td>\n",
       "      <td>0</td>\n",
       "      <td>0.0</td>\n",
       "      <td>28.900</td>\n",
       "    </tr>\n",
       "  </tbody>\n",
       "</table>\n",
       "</div>"
      ],
      "text/plain": [
       "           avg_temp min_temp max_temp precipitation_mm  weekend  \\\n",
       "date                                                              \n",
       "2015-01-01     27,3     23,9     32,5                0      0.0   \n",
       "2015-01-02    27,02     24,5     33,5                0      0.0   \n",
       "2015-01-03    24,82     22,4     29,9                0      1.0   \n",
       "2015-01-04    23,98     21,5     28,6              1,2      1.0   \n",
       "2015-01-05    23,82       21     28,3                0      0.0   \n",
       "\n",
       "            total_consumption  \n",
       "date                           \n",
       "2015-01-01             25.461  \n",
       "2015-01-02             28.972  \n",
       "2015-01-03             30.814  \n",
       "2015-01-04             29.799  \n",
       "2015-01-05             28.900  "
      ]
     },
     "execution_count": 1349,
     "metadata": {},
     "output_type": "execute_result"
    }
   ],
   "source": [
    "beer_df.head()"
   ]
  },
  {
   "cell_type": "code",
   "execution_count": 1350,
   "metadata": {},
   "outputs": [
    {
     "data": {
      "text/html": [
       "<div>\n",
       "<style scoped>\n",
       "    .dataframe tbody tr th:only-of-type {\n",
       "        vertical-align: middle;\n",
       "    }\n",
       "\n",
       "    .dataframe tbody tr th {\n",
       "        vertical-align: top;\n",
       "    }\n",
       "\n",
       "    .dataframe thead th {\n",
       "        text-align: right;\n",
       "    }\n",
       "</style>\n",
       "<table border=\"1\" class=\"dataframe\">\n",
       "  <thead>\n",
       "    <tr style=\"text-align: right;\">\n",
       "      <th></th>\n",
       "      <th>avg_temp</th>\n",
       "      <th>min_temp</th>\n",
       "      <th>max_temp</th>\n",
       "      <th>precipitation_mm</th>\n",
       "      <th>weekend</th>\n",
       "      <th>total_consumption</th>\n",
       "    </tr>\n",
       "    <tr>\n",
       "      <th>date</th>\n",
       "      <th></th>\n",
       "      <th></th>\n",
       "      <th></th>\n",
       "      <th></th>\n",
       "      <th></th>\n",
       "      <th></th>\n",
       "    </tr>\n",
       "  </thead>\n",
       "  <tbody>\n",
       "    <tr>\n",
       "      <td>NaT</td>\n",
       "      <td>NaN</td>\n",
       "      <td>NaN</td>\n",
       "      <td>NaN</td>\n",
       "      <td>NaN</td>\n",
       "      <td>NaN</td>\n",
       "      <td>NaN</td>\n",
       "    </tr>\n",
       "    <tr>\n",
       "      <td>NaT</td>\n",
       "      <td>NaN</td>\n",
       "      <td>NaN</td>\n",
       "      <td>NaN</td>\n",
       "      <td>NaN</td>\n",
       "      <td>NaN</td>\n",
       "      <td>NaN</td>\n",
       "    </tr>\n",
       "    <tr>\n",
       "      <td>NaT</td>\n",
       "      <td>NaN</td>\n",
       "      <td>NaN</td>\n",
       "      <td>NaN</td>\n",
       "      <td>NaN</td>\n",
       "      <td>NaN</td>\n",
       "      <td>NaN</td>\n",
       "    </tr>\n",
       "    <tr>\n",
       "      <td>NaT</td>\n",
       "      <td>NaN</td>\n",
       "      <td>NaN</td>\n",
       "      <td>NaN</td>\n",
       "      <td>NaN</td>\n",
       "      <td>NaN</td>\n",
       "      <td>NaN</td>\n",
       "    </tr>\n",
       "    <tr>\n",
       "      <td>NaT</td>\n",
       "      <td>NaN</td>\n",
       "      <td>NaN</td>\n",
       "      <td>NaN</td>\n",
       "      <td>NaN</td>\n",
       "      <td>NaN</td>\n",
       "      <td>NaN</td>\n",
       "    </tr>\n",
       "  </tbody>\n",
       "</table>\n",
       "</div>"
      ],
      "text/plain": [
       "     avg_temp min_temp max_temp precipitation_mm  weekend  total_consumption\n",
       "date                                                                        \n",
       "NaT       NaN      NaN      NaN              NaN      NaN                NaN\n",
       "NaT       NaN      NaN      NaN              NaN      NaN                NaN\n",
       "NaT       NaN      NaN      NaN              NaN      NaN                NaN\n",
       "NaT       NaN      NaN      NaN              NaN      NaN                NaN\n",
       "NaT       NaN      NaN      NaN              NaN      NaN                NaN"
      ]
     },
     "execution_count": 1350,
     "metadata": {},
     "output_type": "execute_result"
    }
   ],
   "source": [
    "beer_df.tail()"
   ]
  },
  {
   "cell_type": "code",
   "execution_count": 1351,
   "metadata": {},
   "outputs": [
    {
     "name": "stdout",
     "output_type": "stream",
     "text": [
      "<class 'pandas.core.frame.DataFrame'>\n",
      "DatetimeIndex: 941 entries, 2015-01-01 to NaT\n",
      "Data columns (total 6 columns):\n",
      "avg_temp             365 non-null object\n",
      "min_temp             365 non-null object\n",
      "max_temp             365 non-null object\n",
      "precipitation_mm     365 non-null object\n",
      "weekend              365 non-null float64\n",
      "total_consumption    365 non-null float64\n",
      "dtypes: float64(2), object(4)\n",
      "memory usage: 51.5+ KB\n"
     ]
    }
   ],
   "source": [
    "beer_df.info()"
   ]
  },
  {
   "cell_type": "markdown",
   "metadata": {},
   "source": [
    "## Data transformation"
   ]
  },
  {
   "cell_type": "code",
   "execution_count": 1352,
   "metadata": {},
   "outputs": [],
   "source": [
    "beer_df = beer_df.dropna(how='all')\n",
    "cols_to_float = ['avg_temp', 'min_temp', 'max_temp', 'precipitation_mm']\n",
    "beer_df[cols_to_float] = beer_df[cols_to_float].applymap(lambda x: str(x).replace(',', '.')).astype(float)"
   ]
  },
  {
   "cell_type": "code",
   "execution_count": 1353,
   "metadata": {},
   "outputs": [],
   "source": [
    "beer_df['day_of_year'] = beer_df.index.dayofyear\n",
    "beer_df['day'] = beer_df.index.day\n",
    "beer_df['week_day'] = beer_df.index.weekday\n",
    "beer_df['month'] = beer_df.index.month\n",
    "beer_df['year'] = beer_df.index.year\n",
    "\n",
    "beer_df['temp_variance'] = beer_df.max_temp - beer_df.min_temp"
   ]
  },
  {
   "cell_type": "code",
   "execution_count": 1354,
   "metadata": {},
   "outputs": [
    {
     "data": {
      "text/html": [
       "<div>\n",
       "<style scoped>\n",
       "    .dataframe tbody tr th:only-of-type {\n",
       "        vertical-align: middle;\n",
       "    }\n",
       "\n",
       "    .dataframe tbody tr th {\n",
       "        vertical-align: top;\n",
       "    }\n",
       "\n",
       "    .dataframe thead th {\n",
       "        text-align: right;\n",
       "    }\n",
       "</style>\n",
       "<table border=\"1\" class=\"dataframe\">\n",
       "  <thead>\n",
       "    <tr style=\"text-align: right;\">\n",
       "      <th></th>\n",
       "      <th>avg_temp</th>\n",
       "      <th>min_temp</th>\n",
       "      <th>max_temp</th>\n",
       "      <th>precipitation_mm</th>\n",
       "      <th>weekend</th>\n",
       "      <th>total_consumption</th>\n",
       "      <th>day_of_year</th>\n",
       "      <th>day</th>\n",
       "      <th>week_day</th>\n",
       "      <th>month</th>\n",
       "      <th>year</th>\n",
       "      <th>temp_variance</th>\n",
       "    </tr>\n",
       "  </thead>\n",
       "  <tbody>\n",
       "    <tr>\n",
       "      <td>count</td>\n",
       "      <td>365.000000</td>\n",
       "      <td>365.000000</td>\n",
       "      <td>365.000000</td>\n",
       "      <td>365.000000</td>\n",
       "      <td>365.000000</td>\n",
       "      <td>365.000000</td>\n",
       "      <td>365.000000</td>\n",
       "      <td>365.000000</td>\n",
       "      <td>365.0</td>\n",
       "      <td>365.000000</td>\n",
       "      <td>365.0</td>\n",
       "      <td>365.000000</td>\n",
       "    </tr>\n",
       "    <tr>\n",
       "      <td>mean</td>\n",
       "      <td>21.226356</td>\n",
       "      <td>17.461370</td>\n",
       "      <td>26.611507</td>\n",
       "      <td>5.196712</td>\n",
       "      <td>0.284932</td>\n",
       "      <td>25.401367</td>\n",
       "      <td>183.000000</td>\n",
       "      <td>15.720548</td>\n",
       "      <td>3.0</td>\n",
       "      <td>6.526027</td>\n",
       "      <td>2015.0</td>\n",
       "      <td>9.150137</td>\n",
       "    </tr>\n",
       "    <tr>\n",
       "      <td>std</td>\n",
       "      <td>3.180108</td>\n",
       "      <td>2.826185</td>\n",
       "      <td>4.317366</td>\n",
       "      <td>12.417844</td>\n",
       "      <td>0.452001</td>\n",
       "      <td>4.399143</td>\n",
       "      <td>105.510663</td>\n",
       "      <td>8.808321</td>\n",
       "      <td>2.0</td>\n",
       "      <td>3.452584</td>\n",
       "      <td>0.0</td>\n",
       "      <td>3.194566</td>\n",
       "    </tr>\n",
       "    <tr>\n",
       "      <td>min</td>\n",
       "      <td>12.900000</td>\n",
       "      <td>10.600000</td>\n",
       "      <td>14.500000</td>\n",
       "      <td>0.000000</td>\n",
       "      <td>0.000000</td>\n",
       "      <td>14.343000</td>\n",
       "      <td>1.000000</td>\n",
       "      <td>1.000000</td>\n",
       "      <td>0.0</td>\n",
       "      <td>1.000000</td>\n",
       "      <td>2015.0</td>\n",
       "      <td>2.500000</td>\n",
       "    </tr>\n",
       "    <tr>\n",
       "      <td>25%</td>\n",
       "      <td>19.020000</td>\n",
       "      <td>15.300000</td>\n",
       "      <td>23.800000</td>\n",
       "      <td>0.000000</td>\n",
       "      <td>0.000000</td>\n",
       "      <td>22.008000</td>\n",
       "      <td>92.000000</td>\n",
       "      <td>8.000000</td>\n",
       "      <td>1.0</td>\n",
       "      <td>4.000000</td>\n",
       "      <td>2015.0</td>\n",
       "      <td>6.700000</td>\n",
       "    </tr>\n",
       "    <tr>\n",
       "      <td>50%</td>\n",
       "      <td>21.380000</td>\n",
       "      <td>17.900000</td>\n",
       "      <td>26.900000</td>\n",
       "      <td>0.000000</td>\n",
       "      <td>0.000000</td>\n",
       "      <td>24.867000</td>\n",
       "      <td>183.000000</td>\n",
       "      <td>16.000000</td>\n",
       "      <td>3.0</td>\n",
       "      <td>7.000000</td>\n",
       "      <td>2015.0</td>\n",
       "      <td>9.400000</td>\n",
       "    </tr>\n",
       "    <tr>\n",
       "      <td>75%</td>\n",
       "      <td>23.280000</td>\n",
       "      <td>19.600000</td>\n",
       "      <td>29.400000</td>\n",
       "      <td>3.200000</td>\n",
       "      <td>1.000000</td>\n",
       "      <td>28.631000</td>\n",
       "      <td>274.000000</td>\n",
       "      <td>23.000000</td>\n",
       "      <td>5.0</td>\n",
       "      <td>10.000000</td>\n",
       "      <td>2015.0</td>\n",
       "      <td>11.400000</td>\n",
       "    </tr>\n",
       "    <tr>\n",
       "      <td>max</td>\n",
       "      <td>28.860000</td>\n",
       "      <td>24.500000</td>\n",
       "      <td>36.500000</td>\n",
       "      <td>94.800000</td>\n",
       "      <td>1.000000</td>\n",
       "      <td>37.937000</td>\n",
       "      <td>365.000000</td>\n",
       "      <td>31.000000</td>\n",
       "      <td>6.0</td>\n",
       "      <td>12.000000</td>\n",
       "      <td>2015.0</td>\n",
       "      <td>18.100000</td>\n",
       "    </tr>\n",
       "  </tbody>\n",
       "</table>\n",
       "</div>"
      ],
      "text/plain": [
       "         avg_temp    min_temp    max_temp  precipitation_mm     weekend  \\\n",
       "count  365.000000  365.000000  365.000000        365.000000  365.000000   \n",
       "mean    21.226356   17.461370   26.611507          5.196712    0.284932   \n",
       "std      3.180108    2.826185    4.317366         12.417844    0.452001   \n",
       "min     12.900000   10.600000   14.500000          0.000000    0.000000   \n",
       "25%     19.020000   15.300000   23.800000          0.000000    0.000000   \n",
       "50%     21.380000   17.900000   26.900000          0.000000    0.000000   \n",
       "75%     23.280000   19.600000   29.400000          3.200000    1.000000   \n",
       "max     28.860000   24.500000   36.500000         94.800000    1.000000   \n",
       "\n",
       "       total_consumption  day_of_year         day  week_day       month  \\\n",
       "count         365.000000   365.000000  365.000000     365.0  365.000000   \n",
       "mean           25.401367   183.000000   15.720548       3.0    6.526027   \n",
       "std             4.399143   105.510663    8.808321       2.0    3.452584   \n",
       "min            14.343000     1.000000    1.000000       0.0    1.000000   \n",
       "25%            22.008000    92.000000    8.000000       1.0    4.000000   \n",
       "50%            24.867000   183.000000   16.000000       3.0    7.000000   \n",
       "75%            28.631000   274.000000   23.000000       5.0   10.000000   \n",
       "max            37.937000   365.000000   31.000000       6.0   12.000000   \n",
       "\n",
       "         year  temp_variance  \n",
       "count   365.0     365.000000  \n",
       "mean   2015.0       9.150137  \n",
       "std       0.0       3.194566  \n",
       "min    2015.0       2.500000  \n",
       "25%    2015.0       6.700000  \n",
       "50%    2015.0       9.400000  \n",
       "75%    2015.0      11.400000  \n",
       "max    2015.0      18.100000  "
      ]
     },
     "execution_count": 1354,
     "metadata": {},
     "output_type": "execute_result"
    }
   ],
   "source": [
    "beer_df.describe()"
   ]
  },
  {
   "cell_type": "markdown",
   "metadata": {},
   "source": [
    "## Dataframe `info`"
   ]
  },
  {
   "cell_type": "code",
   "execution_count": 1355,
   "metadata": {},
   "outputs": [
    {
     "name": "stdout",
     "output_type": "stream",
     "text": [
      "<class 'pandas.core.frame.DataFrame'>\n",
      "DatetimeIndex: 365 entries, 2015-01-01 to 2015-12-31\n",
      "Data columns (total 12 columns):\n",
      "avg_temp             365 non-null float64\n",
      "min_temp             365 non-null float64\n",
      "max_temp             365 non-null float64\n",
      "precipitation_mm     365 non-null float64\n",
      "weekend              365 non-null float64\n",
      "total_consumption    365 non-null float64\n",
      "day_of_year          365 non-null int64\n",
      "day                  365 non-null int64\n",
      "week_day             365 non-null int64\n",
      "month                365 non-null int64\n",
      "year                 365 non-null int64\n",
      "temp_variance        365 non-null float64\n",
      "dtypes: float64(7), int64(5)\n",
      "memory usage: 37.1 KB\n"
     ]
    }
   ],
   "source": [
    "beer_df.info()"
   ]
  },
  {
   "cell_type": "code",
   "execution_count": 1356,
   "metadata": {},
   "outputs": [],
   "source": [
    "def weekend_day(val: float) -> int:\n",
    "    if val == 5:\n",
    "        return 'saturday'\n",
    "    elif val == 6:\n",
    "        return 'sunday'\n",
    "    return 'workday'"
   ]
  },
  {
   "cell_type": "code",
   "execution_count": 1357,
   "metadata": {},
   "outputs": [],
   "source": [
    "beer_df['weekend_day'] = beer_df['week_day'].apply(weekend_day)"
   ]
  },
  {
   "cell_type": "code",
   "execution_count": null,
   "metadata": {},
   "outputs": [],
   "source": [
    "profile = beer_df.profile_report(title='Beer Profiling Report')\n",
    "profile.to_file(output_file=\"cleaned_beer_profile_report.html\")"
   ]
  },
  {
   "cell_type": "markdown",
   "metadata": {},
   "source": [
    "## Data visualization"
   ]
  },
  {
   "cell_type": "code",
   "execution_count": null,
   "metadata": {},
   "outputs": [],
   "source": [
    "fig, (ax1, ax2, ax3) = plt.subplots(3, 2, figsize=(20,20))\n",
    "beer_df[['avg_temp']].hist(ax=ax1[0])\n",
    "beer_df[['min_temp']].hist(ax=ax1[1])\n",
    "beer_df[['max_temp']].hist(ax=ax2[0])\n",
    "beer_df[['precipitation_mm']].hist(ax=ax2[1])\n",
    "beer_df[['temp_variance']].hist(ax=ax3[0])\n",
    "beer_df[['total_consumption']].hist(ax=ax3[1])"
   ]
  },
  {
   "cell_type": "markdown",
   "metadata": {},
   "source": [
    "## Total vs mean %: drinking on weekends"
   ]
  },
  {
   "cell_type": "code",
   "execution_count": null,
   "metadata": {},
   "outputs": [],
   "source": [
    "fig, (ax1, ax2) = plt.subplots(1, 2, figsize=(20, 10))\n",
    "\n",
    "# Pie chart\n",
    "labels = ['workday', 'weekend']\n",
    "means = beer_df.groupby('weekend')['total_consumption'].mean()\n",
    "sums = beer_df.groupby('weekend')['total_consumption'].sum()\n",
    "#colors\n",
    "colors = ['#ff9999','#66b3ff']\n",
    " \n",
    "ax1.pie(means, colors = colors, labels=labels, autopct='%2.2f%%', startangle=90, pctdistance=0.5, shadow=True)\n",
    "ax2.pie(sums, colors = colors, labels=labels, autopct='%2.2f%%', startangle=90, pctdistance=0.5, shadow=True)\n",
    "\n",
    "# #draw circle\n",
    "# centre_circle = plt.Circle((0,0),0.80,fc='white')\n",
    "# fig = plt.gcf()\n",
    "\n",
    "# fig.gca().add_artist(centre_circle)\n",
    "\n",
    "\n",
    "ax1.set_xlabel('% mean consumption')\n",
    "ax2.set_xlabel('% total consumption')\n",
    "\n",
    "# plt.tight_layout()\n",
    "plt.show()"
   ]
  },
  {
   "cell_type": "markdown",
   "metadata": {},
   "source": [
    "## Average consumption and Total consumption on weekdays vs weekends"
   ]
  },
  {
   "cell_type": "code",
   "execution_count": null,
   "metadata": {},
   "outputs": [],
   "source": [
    "avg_consumption_df = beer_df.groupby('weekend')['total_consumption'].mean().reset_index(name='avg_consumption')\n",
    "total_consumption_df = beer_df.groupby('weekend')['total_consumption'].sum().reset_index(name='sum_consumption')\n",
    "\n",
    "fig, axes = plt.subplots(1, 2, figsize=(20,10))\n",
    "\n",
    "sns.barplot('weekend', 'avg_consumption', data=avg_consumption_df, ax=axes[0])\n",
    "sns.barplot('weekend', 'sum_consumption', data=total_consumption_df, ax=axes[1])"
   ]
  },
  {
   "cell_type": "code",
   "execution_count": null,
   "metadata": {},
   "outputs": [],
   "source": [
    "total_cons_df = beer_df.sort_values('total_consumption', ascending=False).head(92)\n"
   ]
  },
  {
   "cell_type": "markdown",
   "metadata": {},
   "source": [
    "## Total consumption per month and per month (weekday vs weekend)"
   ]
  },
  {
   "cell_type": "code",
   "execution_count": null,
   "metadata": {
    "scrolled": true
   },
   "outputs": [],
   "source": [
    "fig, (ax1, ax2) = plt.subplots(2, 1, figsize=(20,10))\n",
    "sns.barplot(x=\"month\", y=\"total_consumption\", data=beer_df, estimator=sum, ax=ax1)\n",
    "sns.barplot(x='month', y='total_consumption', hue='weekend', data=beer_df, estimator=sum, ax=ax2)\n"
   ]
  },
  {
   "cell_type": "markdown",
   "metadata": {},
   "source": [
    "## Total vs Avg consumption per weekday"
   ]
  },
  {
   "cell_type": "code",
   "execution_count": null,
   "metadata": {},
   "outputs": [],
   "source": [
    "fig, (ax1, ax2) = plt.subplots(2, 1, figsize=(20,10))\n",
    "sns.barplot(x=\"week_day\", y=\"total_consumption\", data=beer_df, estimator=sum, ax=ax1)\n",
    "sns.barplot(x=\"week_day\", y=\"total_consumption\", data=beer_df, estimator=np.mean, ax=ax2)\n",
    "\n",
    "ax2.set_ylabel('Avg consumption')"
   ]
  },
  {
   "cell_type": "markdown",
   "metadata": {},
   "source": [
    "## Liter per `mm` of rain XD"
   ]
  },
  {
   "cell_type": "code",
   "execution_count": null,
   "metadata": {},
   "outputs": [],
   "source": [
    "liters_per_mm = sum(beer_df.total_consumption)/sum(beer_df.precipitation_mm)\n",
    "print(\"{0:.2f}L for every mm of rain during the year.\".format(liters_per_mm))\n"
   ]
  },
  {
   "cell_type": "markdown",
   "metadata": {},
   "source": [
    "## Next day's difference in consumption\n",
    "> The first bar chart represent a regular bar chart of total consumption each day of the year (100 days). The second chart represent the differnce in consumption from one day to the next."
   ]
  },
  {
   "cell_type": "code",
   "execution_count": null,
   "metadata": {},
   "outputs": [],
   "source": [
    "data = beer_df[['total_consumption']].head(100)\n",
    "weekends = beer_df[['weekend']].head(100)\n",
    "data = data.diff().join(weekends)"
   ]
  },
  {
   "cell_type": "code",
   "execution_count": null,
   "metadata": {},
   "outputs": [],
   "source": [
    "sample = beer_df.head(100)"
   ]
  },
  {
   "cell_type": "code",
   "execution_count": null,
   "metadata": {},
   "outputs": [],
   "source": [
    "fig, (ax1, ax2) = plt.subplots(2, 1, figsize=(20,10))\n",
    "sns.barplot(x=list(range(len(sample))), y='total_consumption', hue='weekend', data=sample, ax=ax1)\n",
    "sns.barplot(x=list(range(len(data))), y='total_consumption', hue='weekend', data=data, ax=ax2)"
   ]
  },
  {
   "cell_type": "markdown",
   "metadata": {},
   "source": [
    "## "
   ]
  },
  {
   "cell_type": "code",
   "execution_count": null,
   "metadata": {},
   "outputs": [],
   "source": [
    "data = beer_df[['avg_temp','min_temp','max_temp', 'temp_variance','precipitation_mm', 'total_consumption', 'weekend']]"
   ]
  },
  {
   "cell_type": "code",
   "execution_count": null,
   "metadata": {},
   "outputs": [],
   "source": [
    "# g = sns.PairGrid(data, vars=data.columns[:-1], hue='weekend')\n",
    "# g = g.map_upper(plt.scatter)\n",
    "# g = g.map_lower(sns.kdeplot, cmap=\"Blues_d\")\n",
    "# g = g.map_diag(sns.kdeplot, lw=3, legend=False)"
   ]
  },
  {
   "cell_type": "markdown",
   "metadata": {},
   "source": [
    "## Total consumption correlation with temps and weekend"
   ]
  },
  {
   "cell_type": "code",
   "execution_count": null,
   "metadata": {},
   "outputs": [],
   "source": [
    "fig, axes = plt.subplots(2, 2, figsize=(20,10))\n",
    "sns.regplot('precipitation_mm', 'total_consumption', beer_df, ax=axes[1,0])\n",
    "sns.regplot('min_temp', 'total_consumption', beer_df, ax=axes[0,0])\n",
    "sns.regplot('max_temp', 'total_consumption', beer_df, ax=axes[0,1])\n",
    "sns.regplot('weekend', 'total_consumption', beer_df, ax=axes[1,1])\n"
   ]
  },
  {
   "cell_type": "markdown",
   "metadata": {},
   "source": [
    "# Time Series"
   ]
  },
  {
   "cell_type": "code",
   "execution_count": null,
   "metadata": {},
   "outputs": [],
   "source": [
    "weekly_consumption = beer_df.resample('W').sum()\n",
    "monthly_consumption = beer_df.resample('M').sum()\n",
    "trimester_consumption = beer_df.resample('3M').sum()"
   ]
  },
  {
   "cell_type": "code",
   "execution_count": null,
   "metadata": {},
   "outputs": [],
   "source": [
    "fig, (ax1,ax2,ax3,ax4) =plt.subplots(4, 1, figsize=(20,10), sharex=True)\n",
    "\n",
    "ax1.set_ylabel('Total daily consumption')\n",
    "ax1.plot(beer_df['total_consumption'])\n",
    "\n",
    "ax2.set_ylabel('Total weekly consumption')\n",
    "ax2.plot(weekly_consumption['total_consumption'])\n",
    "\n",
    "ax3.set_ylabel('Total monthly consumption')\n",
    "ax3.plot(monthly_consumption['total_consumption'])\n",
    "\n",
    "ax4.set_ylabel('Total trimester consumption')\n",
    "ax4.plot(trimester_consumption['total_consumption'])"
   ]
  },
  {
   "cell_type": "code",
   "execution_count": null,
   "metadata": {},
   "outputs": [],
   "source": [
    "fig, (ax0, ax1, ax2, ax3) = plt.subplots(4, 1, figsize=(25,10), sharex=True)\n",
    "\n",
    "fig.suptitle('Moving averages total consumption', fontsize=16)\n",
    "\n",
    "ax0.plot(beer_df.total_consumption.rolling(window=7).mean())\n",
    "ax1.plot(beer_df.total_consumption.rolling(window=14).mean())\n",
    "ax2.plot(beer_df.total_consumption.rolling(window=30).mean())\n",
    "ax3.plot(beer_df.total_consumption.rolling(window=90).mean())\n",
    "\n",
    "ylabels = ['Weekly', 'BiWeekly', 'Monthly', 'Trimester']\n",
    "ax0.set_ylabel(ylabels[0])\n",
    "ax1.set_ylabel(ylabels[1])\n",
    "ax2.set_ylabel(ylabels[2])\n",
    "ax3.set_ylabel(ylabels[3])"
   ]
  },
  {
   "cell_type": "markdown",
   "metadata": {},
   "source": [
    "# Matrix Profile"
   ]
  },
  {
   "cell_type": "code",
   "execution_count": null,
   "metadata": {},
   "outputs": [],
   "source": [
    "from matrixprofile import matrixProfile\n",
    "m = 32\n",
    "mp = matrixProfile.stomp(beer_df['total_consumption'].values,m)\n",
    "mp_adj = np.append(mp[0],np.zeros(m-1)+np.nan)"
   ]
  },
  {
   "cell_type": "code",
   "execution_count": null,
   "metadata": {},
   "outputs": [],
   "source": [
    "fig, (ax1, ax2) = plt.subplots(2, 1, figsize=(20,10))\n",
    "\n",
    "ax1.set_ylabel('Total monthly consumption', size=22)\n",
    "ax1.set_xlabel('Date', size=22)\n",
    "ax1.plot(beer_df.total_consumption)\n",
    "\n",
    "ax2.plot(np.arange(len(mp_adj)),mp_adj, label=\"Matrix Profile\", color='red')\n",
    "ax2.set_ylabel('Matrix Profile', size=22)\n",
    "ax2.set_xlabel('Sample', size=22)"
   ]
  },
  {
   "cell_type": "markdown",
   "metadata": {},
   "source": [
    "# Linear Regression"
   ]
  },
  {
   "cell_type": "code",
   "execution_count": null,
   "metadata": {},
   "outputs": [],
   "source": [
    "one_hot = pd.get_dummies(beer_df.weekend, prefix='weekend')\n",
    "two_hot = pd.get_dummies(beer_df.weekend_day, prefix='weekend_day')\n",
    "two_hot = two_hot.join(one_hot)\n",
    "beer_df = beer_df.join(two_hot, on=beer_df.index)"
   ]
  },
  {
   "cell_type": "code",
   "execution_count": null,
   "metadata": {},
   "outputs": [],
   "source": [
    "from sklearn.model_selection import train_test_split, cross_val_score, cross_val_predict\n",
    "from sklearn.linear_model import LinearRegression\n",
    "from sklearn.preprocessing import (\n",
    "                                     MinMaxScaler, \n",
    "                                     StandardScaler, \n",
    "                                     OneHotEncoder, \n",
    "                                     LabelEncoder\n",
    "                                  )\n",
    "\n",
    "from sklearn.model_selection import KFold\n",
    "from sklearn.svm import SVR\n",
    "from sklearn import metrics"
   ]
  },
  {
   "cell_type": "code",
   "execution_count": null,
   "metadata": {},
   "outputs": [],
   "source": [
    "lin_reg_df_min_max = beer_df.copy(deep=True)\n",
    "lin_reg_df_std = beer_df.copy(deep=True)"
   ]
  },
  {
   "cell_type": "code",
   "execution_count": null,
   "metadata": {},
   "outputs": [],
   "source": [
    "cols_to_normalize = ['avg_temp', 'min_temp', 'max_temp', 'precipitation_mm', 'temp_variance']"
   ]
  },
  {
   "cell_type": "code",
   "execution_count": null,
   "metadata": {},
   "outputs": [],
   "source": [
    "min_max_scaler = MinMaxScaler()\n",
    "standard_scaler = StandardScaler()\n",
    "\n",
    "min_max_scaler.fit(lin_reg_df_min_max[cols_to_normalize])\n",
    "lin_reg_df_min_max[cols_to_normalize] = min_max_scaler.transform(lin_reg_df_min_max[cols_to_normalize])\n",
    "\n",
    "standard_scaler.fit(lin_reg_df_std[cols_to_normalize])\n",
    "lin_reg_df_std[cols_to_normalize] = standard_scaler.transform(lin_reg_df_std[cols_to_normalize])"
   ]
  },
  {
   "cell_type": "code",
   "execution_count": null,
   "metadata": {},
   "outputs": [],
   "source": [
    "lin_reg_df_std.head()"
   ]
  },
  {
   "cell_type": "code",
   "execution_count": null,
   "metadata": {},
   "outputs": [],
   "source": [
    "lin_reg_df_min_max.head()"
   ]
  },
  {
   "cell_type": "code",
   "execution_count": null,
   "metadata": {},
   "outputs": [],
   "source": [
    "corr = beer_df.corr()"
   ]
  },
  {
   "cell_type": "code",
   "execution_count": null,
   "metadata": {},
   "outputs": [],
   "source": [
    "fig, ax = plt.subplots(figsize=(20,10))\n",
    "cmap = sns.diverging_palette(220, 10, as_cmap=True)\n",
    "sns.heatmap(corr, cmap=cmap, square=True, linewidths=.5)"
   ]
  },
  {
   "cell_type": "markdown",
   "metadata": {},
   "source": [
    "## Train Test Split, hm...."
   ]
  },
  {
   "cell_type": "code",
   "execution_count": null,
   "metadata": {},
   "outputs": [],
   "source": [
    "X = beer_df[beer_df.columns.difference(\n",
    "    [\n",
    "        'total_consumption',\n",
    "        'day_of_year',\n",
    "        'day',\n",
    "        'week_day',\n",
    "        'year',\n",
    "        'weekend',\n",
    "        'weekend_day'\n",
    "    ]\n",
    ")]\n",
    "y = beer_df[['total_consumption']]"
   ]
  },
  {
   "cell_type": "markdown",
   "metadata": {},
   "source": []
  },
  {
   "cell_type": "code",
   "execution_count": null,
   "metadata": {},
   "outputs": [],
   "source": [
    "reg = LinearRegression()\n",
    "X_train, X_test, y_train, y_test = train_test_split(X, y, test_size=0.3, random_state=42)\n",
    "reg.fit(X_train, y_train)\n",
    "r2_score = reg.score(X_test, y_test)\n",
    "print(f\"{r2_score:.2f} variance explained.\")"
   ]
  },
  {
   "cell_type": "code",
   "execution_count": null,
   "metadata": {},
   "outputs": [],
   "source": [
    "coefs = np.array(reg.coef_).tolist()[0]\n",
    "pd.DataFrame(list(zip(list(X.columns), coefs)), columns=['features', 'coefs'])"
   ]
  },
  {
   "cell_type": "markdown",
   "metadata": {},
   "source": [
    "## Pred vs True values"
   ]
  },
  {
   "cell_type": "code",
   "execution_count": null,
   "metadata": {},
   "outputs": [],
   "source": [
    "y_predict = reg.predict(X_test)"
   ]
  },
  {
   "cell_type": "code",
   "execution_count": null,
   "metadata": {},
   "outputs": [],
   "source": [
    "plt.scatter(y_test, y_predict)\n",
    "plt.xlabel('True Values')\n",
    "plt.ylabel('Predictions')"
   ]
  },
  {
   "cell_type": "markdown",
   "metadata": {},
   "source": [
    "## Scoring"
   ]
  },
  {
   "cell_type": "code",
   "execution_count": null,
   "metadata": {},
   "outputs": [],
   "source": [
    "from sklearn.metrics import mean_squared_error\n",
    "import math\n",
    "\n",
    "reg_mse = mean_squared_error(y_predict, y_test)\n",
    "\n",
    "print(f\"MSE: {reg_mse:.2f}\")\n",
    "print(f\"RMSE: {math.sqrt(reg_mse):.2f}\")"
   ]
  },
  {
   "cell_type": "markdown",
   "metadata": {},
   "source": [
    "## Cross-validation"
   ]
  },
  {
   "cell_type": "code",
   "execution_count": null,
   "metadata": {},
   "outputs": [],
   "source": [
    "scores = cross_val_score(reg, X, y, cv=6)"
   ]
  },
  {
   "cell_type": "code",
   "execution_count": null,
   "metadata": {},
   "outputs": [],
   "source": [
    "plt.bar(list(range(1, len(scores)+1)), scores)\n",
    "plt.xlabel(\"Fold number\")\n",
    "plt.ylabel(\"R2 score\")"
   ]
  },
  {
   "cell_type": "code",
   "execution_count": null,
   "metadata": {},
   "outputs": [],
   "source": [
    "print(f\"Mean 6-Fold R Squared: {np.mean(scores):.2f}\")"
   ]
  },
  {
   "cell_type": "code",
   "execution_count": null,
   "metadata": {},
   "outputs": [],
   "source": [
    "beer_df.columns"
   ]
  },
  {
   "cell_type": "code",
   "execution_count": null,
   "metadata": {},
   "outputs": [],
   "source": [
    "fig, (ax1) = plt.subplots(figsize=(20,10))\n",
    "sns.regplot(lin_reg_df_min_max.max_temp, lin_reg_df_min_max.total_consumption, ax=ax1)"
   ]
  },
  {
   "cell_type": "code",
   "execution_count": null,
   "metadata": {},
   "outputs": [],
   "source": [
    "from sklearn.cluster import KMeans\n",
    "\n",
    "data = np.array(list(zip(beer_df.total_consumption, beer_df.max_temp)))"
   ]
  },
  {
   "cell_type": "code",
   "execution_count": null,
   "metadata": {},
   "outputs": [],
   "source": [
    "fig, axes = plt.subplots(figsize=(20,10))\n",
    "wcss = []\n",
    "for i in range(1,11):\n",
    "    kmeans = KMeans(n_clusters = i, init = 'k-means++', random_state = 42)\n",
    "    kmeans.fit(data)\n",
    "    wcss.append(kmeans.inertia_)\n",
    "\n",
    "plt.plot(range(1,11), wcss)\n",
    "plt.title('The elbow method')\n",
    "plt.xlabel('The number of clusters')\n",
    "plt.ylabel('WCSS')"
   ]
  },
  {
   "cell_type": "code",
   "execution_count": null,
   "metadata": {},
   "outputs": [],
   "source": [
    "kmeans = KMeans(n_clusters=3, random_state=100)\n",
    "kmeans.fit(data)\n",
    "y_km = kmeans.fit_predict(data)"
   ]
  },
  {
   "cell_type": "code",
   "execution_count": null,
   "metadata": {},
   "outputs": [],
   "source": [
    "fig, axes = plt.subplots(figsize=(20,10))\n",
    "\n",
    "plt.scatter(data[y_km ==0,0], data[y_km == 0,1], s=50, c='red', marker='o', label='summer')\n",
    "plt.scatter(data[y_km ==1,0], data[y_km == 1,1], s=50, c='green', marker='v', label='fall, spring?')\n",
    "plt.scatter(data[y_km ==2,0], data[y_km == 2,1], s=50, c='blue',  marker='+', label='winter')\n",
    "# plt.scatter(data[y_km ==3,0], data[y_km == 3,1], s=50, c='red',  marker='o', label='summer')\n",
    "\n",
    "plt.title('Beer consumption by Season')\n",
    "plt.xlabel('Total Consumption (L)')\n",
    "plt.ylabel('Temp')\n",
    "plt.legend()"
   ]
  },
  {
   "cell_type": "code",
   "execution_count": null,
   "metadata": {},
   "outputs": [],
   "source": [
    "s = sum(data[y_km==1,0])\n",
    "f = sum(data[y_km==1,0])\n",
    "w = sum(data[y_km==2,0])\n",
    "\n",
    "print(f\"{s:.2f}L in the summer, {f:.2f}L in the 'fall, spring?', {w:.2f}L in the winter.\")"
   ]
  }
 ],
 "metadata": {
  "file_extension": ".py",
  "kernelspec": {
   "display_name": "Python 3",
   "language": "python",
   "name": "python3"
  },
  "language_info": {
   "codemirror_mode": {
    "name": "ipython",
    "version": 3
   },
   "file_extension": ".py",
   "mimetype": "text/x-python",
   "name": "python",
   "nbconvert_exporter": "python",
   "pygments_lexer": "ipython3",
   "version": "3.7.3"
  },
  "mimetype": "text/x-python",
  "name": "python",
  "npconvert_exporter": "python",
  "pygments_lexer": "ipython3",
  "version": 3
 },
 "nbformat": 4,
 "nbformat_minor": 2
}
