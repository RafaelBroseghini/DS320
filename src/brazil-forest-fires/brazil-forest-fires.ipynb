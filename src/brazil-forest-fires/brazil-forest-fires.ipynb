{
 "cells": [
  {
   "cell_type": "markdown",
   "metadata": {},
   "source": [
    "# Goold ol' imports"
   ]
  },
  {
   "cell_type": "code",
   "execution_count": 1697,
   "metadata": {},
   "outputs": [],
   "source": [
    "import pandas as pd\n",
    "import pandas_profiling\n",
    "import numpy as np\n",
    "import matplotlib\n",
    "import matplotlib.pyplot as plt\n",
    "import matplotlib.pylab as pylab\n",
    "import seaborn as sns\n",
    "import autopep8"
   ]
  },
  {
   "cell_type": "code",
   "execution_count": 1698,
   "metadata": {},
   "outputs": [
    {
     "data": {
      "text/html": [
       "\n",
       "    <div class=\"bk-root\">\n",
       "        <a href=\"https://bokeh.pydata.org\" target=\"_blank\" class=\"bk-logo bk-logo-small bk-logo-notebook\"></a>\n",
       "        <span id=\"163828\">Loading BokehJS ...</span>\n",
       "    </div>"
      ]
     },
     "metadata": {},
     "output_type": "display_data"
    },
    {
     "data": {
      "application/javascript": [
       "\n",
       "(function(root) {\n",
       "  function now() {\n",
       "    return new Date();\n",
       "  }\n",
       "\n",
       "  var force = true;\n",
       "\n",
       "  if (typeof root._bokeh_onload_callbacks === \"undefined\" || force === true) {\n",
       "    root._bokeh_onload_callbacks = [];\n",
       "    root._bokeh_is_loading = undefined;\n",
       "  }\n",
       "\n",
       "  var JS_MIME_TYPE = 'application/javascript';\n",
       "  var HTML_MIME_TYPE = 'text/html';\n",
       "  var EXEC_MIME_TYPE = 'application/vnd.bokehjs_exec.v0+json';\n",
       "  var CLASS_NAME = 'output_bokeh rendered_html';\n",
       "\n",
       "  /**\n",
       "   * Render data to the DOM node\n",
       "   */\n",
       "  function render(props, node) {\n",
       "    var script = document.createElement(\"script\");\n",
       "    node.appendChild(script);\n",
       "  }\n",
       "\n",
       "  /**\n",
       "   * Handle when an output is cleared or removed\n",
       "   */\n",
       "  function handleClearOutput(event, handle) {\n",
       "    var cell = handle.cell;\n",
       "\n",
       "    var id = cell.output_area._bokeh_element_id;\n",
       "    var server_id = cell.output_area._bokeh_server_id;\n",
       "    // Clean up Bokeh references\n",
       "    if (id != null && id in Bokeh.index) {\n",
       "      Bokeh.index[id].model.document.clear();\n",
       "      delete Bokeh.index[id];\n",
       "    }\n",
       "\n",
       "    if (server_id !== undefined) {\n",
       "      // Clean up Bokeh references\n",
       "      var cmd = \"from bokeh.io.state import curstate; print(curstate().uuid_to_server['\" + server_id + \"'].get_sessions()[0].document.roots[0]._id)\";\n",
       "      cell.notebook.kernel.execute(cmd, {\n",
       "        iopub: {\n",
       "          output: function(msg) {\n",
       "            var id = msg.content.text.trim();\n",
       "            if (id in Bokeh.index) {\n",
       "              Bokeh.index[id].model.document.clear();\n",
       "              delete Bokeh.index[id];\n",
       "            }\n",
       "          }\n",
       "        }\n",
       "      });\n",
       "      // Destroy server and session\n",
       "      var cmd = \"import bokeh.io.notebook as ion; ion.destroy_server('\" + server_id + \"')\";\n",
       "      cell.notebook.kernel.execute(cmd);\n",
       "    }\n",
       "  }\n",
       "\n",
       "  /**\n",
       "   * Handle when a new output is added\n",
       "   */\n",
       "  function handleAddOutput(event, handle) {\n",
       "    var output_area = handle.output_area;\n",
       "    var output = handle.output;\n",
       "\n",
       "    // limit handleAddOutput to display_data with EXEC_MIME_TYPE content only\n",
       "    if ((output.output_type != \"display_data\") || (!output.data.hasOwnProperty(EXEC_MIME_TYPE))) {\n",
       "      return\n",
       "    }\n",
       "\n",
       "    var toinsert = output_area.element.find(\".\" + CLASS_NAME.split(' ')[0]);\n",
       "\n",
       "    if (output.metadata[EXEC_MIME_TYPE][\"id\"] !== undefined) {\n",
       "      toinsert[toinsert.length - 1].firstChild.textContent = output.data[JS_MIME_TYPE];\n",
       "      // store reference to embed id on output_area\n",
       "      output_area._bokeh_element_id = output.metadata[EXEC_MIME_TYPE][\"id\"];\n",
       "    }\n",
       "    if (output.metadata[EXEC_MIME_TYPE][\"server_id\"] !== undefined) {\n",
       "      var bk_div = document.createElement(\"div\");\n",
       "      bk_div.innerHTML = output.data[HTML_MIME_TYPE];\n",
       "      var script_attrs = bk_div.children[0].attributes;\n",
       "      for (var i = 0; i < script_attrs.length; i++) {\n",
       "        toinsert[toinsert.length - 1].firstChild.setAttribute(script_attrs[i].name, script_attrs[i].value);\n",
       "      }\n",
       "      // store reference to server id on output_area\n",
       "      output_area._bokeh_server_id = output.metadata[EXEC_MIME_TYPE][\"server_id\"];\n",
       "    }\n",
       "  }\n",
       "\n",
       "  function register_renderer(events, OutputArea) {\n",
       "\n",
       "    function append_mime(data, metadata, element) {\n",
       "      // create a DOM node to render to\n",
       "      var toinsert = this.create_output_subarea(\n",
       "        metadata,\n",
       "        CLASS_NAME,\n",
       "        EXEC_MIME_TYPE\n",
       "      );\n",
       "      this.keyboard_manager.register_events(toinsert);\n",
       "      // Render to node\n",
       "      var props = {data: data, metadata: metadata[EXEC_MIME_TYPE]};\n",
       "      render(props, toinsert[toinsert.length - 1]);\n",
       "      element.append(toinsert);\n",
       "      return toinsert\n",
       "    }\n",
       "\n",
       "    /* Handle when an output is cleared or removed */\n",
       "    events.on('clear_output.CodeCell', handleClearOutput);\n",
       "    events.on('delete.Cell', handleClearOutput);\n",
       "\n",
       "    /* Handle when a new output is added */\n",
       "    events.on('output_added.OutputArea', handleAddOutput);\n",
       "\n",
       "    /**\n",
       "     * Register the mime type and append_mime function with output_area\n",
       "     */\n",
       "    OutputArea.prototype.register_mime_type(EXEC_MIME_TYPE, append_mime, {\n",
       "      /* Is output safe? */\n",
       "      safe: true,\n",
       "      /* Index of renderer in `output_area.display_order` */\n",
       "      index: 0\n",
       "    });\n",
       "  }\n",
       "\n",
       "  // register the mime type if in Jupyter Notebook environment and previously unregistered\n",
       "  if (root.Jupyter !== undefined) {\n",
       "    var events = require('base/js/events');\n",
       "    var OutputArea = require('notebook/js/outputarea').OutputArea;\n",
       "\n",
       "    if (OutputArea.prototype.mime_types().indexOf(EXEC_MIME_TYPE) == -1) {\n",
       "      register_renderer(events, OutputArea);\n",
       "    }\n",
       "  }\n",
       "\n",
       "  \n",
       "  if (typeof (root._bokeh_timeout) === \"undefined\" || force === true) {\n",
       "    root._bokeh_timeout = Date.now() + 5000;\n",
       "    root._bokeh_failed_load = false;\n",
       "  }\n",
       "\n",
       "  var NB_LOAD_WARNING = {'data': {'text/html':\n",
       "     \"<div style='background-color: #fdd'>\\n\"+\n",
       "     \"<p>\\n\"+\n",
       "     \"BokehJS does not appear to have successfully loaded. If loading BokehJS from CDN, this \\n\"+\n",
       "     \"may be due to a slow or bad network connection. Possible fixes:\\n\"+\n",
       "     \"</p>\\n\"+\n",
       "     \"<ul>\\n\"+\n",
       "     \"<li>re-rerun `output_notebook()` to attempt to load from CDN again, or</li>\\n\"+\n",
       "     \"<li>use INLINE resources instead, as so:</li>\\n\"+\n",
       "     \"</ul>\\n\"+\n",
       "     \"<code>\\n\"+\n",
       "     \"from bokeh.resources import INLINE\\n\"+\n",
       "     \"output_notebook(resources=INLINE)\\n\"+\n",
       "     \"</code>\\n\"+\n",
       "     \"</div>\"}};\n",
       "\n",
       "  function display_loaded() {\n",
       "    var el = document.getElementById(\"163828\");\n",
       "    if (el != null) {\n",
       "      el.textContent = \"BokehJS is loading...\";\n",
       "    }\n",
       "    if (root.Bokeh !== undefined) {\n",
       "      if (el != null) {\n",
       "        el.textContent = \"BokehJS \" + root.Bokeh.version + \" successfully loaded.\";\n",
       "      }\n",
       "    } else if (Date.now() < root._bokeh_timeout) {\n",
       "      setTimeout(display_loaded, 100)\n",
       "    }\n",
       "  }\n",
       "\n",
       "\n",
       "  function run_callbacks() {\n",
       "    try {\n",
       "      root._bokeh_onload_callbacks.forEach(function(callback) {\n",
       "        if (callback != null)\n",
       "          callback();\n",
       "      });\n",
       "    } finally {\n",
       "      delete root._bokeh_onload_callbacks\n",
       "    }\n",
       "    console.debug(\"Bokeh: all callbacks have finished\");\n",
       "  }\n",
       "\n",
       "  function load_libs(css_urls, js_urls, callback) {\n",
       "    if (css_urls == null) css_urls = [];\n",
       "    if (js_urls == null) js_urls = [];\n",
       "\n",
       "    root._bokeh_onload_callbacks.push(callback);\n",
       "    if (root._bokeh_is_loading > 0) {\n",
       "      console.debug(\"Bokeh: BokehJS is being loaded, scheduling callback at\", now());\n",
       "      return null;\n",
       "    }\n",
       "    if (js_urls == null || js_urls.length === 0) {\n",
       "      run_callbacks();\n",
       "      return null;\n",
       "    }\n",
       "    console.debug(\"Bokeh: BokehJS not loaded, scheduling load and callback at\", now());\n",
       "    root._bokeh_is_loading = css_urls.length + js_urls.length;\n",
       "\n",
       "    function on_load() {\n",
       "      root._bokeh_is_loading--;\n",
       "      if (root._bokeh_is_loading === 0) {\n",
       "        console.debug(\"Bokeh: all BokehJS libraries/stylesheets loaded\");\n",
       "        run_callbacks()\n",
       "      }\n",
       "    }\n",
       "\n",
       "    function on_error() {\n",
       "      console.error(\"failed to load \" + url);\n",
       "    }\n",
       "\n",
       "    for (var i = 0; i < css_urls.length; i++) {\n",
       "      var url = css_urls[i];\n",
       "      const element = document.createElement(\"link\");\n",
       "      element.onload = on_load;\n",
       "      element.onerror = on_error;\n",
       "      element.rel = \"stylesheet\";\n",
       "      element.type = \"text/css\";\n",
       "      element.href = url;\n",
       "      console.debug(\"Bokeh: injecting link tag for BokehJS stylesheet: \", url);\n",
       "      document.body.appendChild(element);\n",
       "    }\n",
       "\n",
       "    for (var i = 0; i < js_urls.length; i++) {\n",
       "      var url = js_urls[i];\n",
       "      var element = document.createElement('script');\n",
       "      element.onload = on_load;\n",
       "      element.onerror = on_error;\n",
       "      element.async = false;\n",
       "      element.src = url;\n",
       "      console.debug(\"Bokeh: injecting script tag for BokehJS library: \", url);\n",
       "      document.head.appendChild(element);\n",
       "    }\n",
       "  };var element = document.getElementById(\"163828\");\n",
       "  if (element == null) {\n",
       "    console.error(\"Bokeh: ERROR: autoload.js configured with elementid '163828' but no matching script tag was found. \")\n",
       "    return false;\n",
       "  }\n",
       "\n",
       "  function inject_raw_css(css) {\n",
       "    const element = document.createElement(\"style\");\n",
       "    element.appendChild(document.createTextNode(css));\n",
       "    document.body.appendChild(element);\n",
       "  }\n",
       "\n",
       "  var js_urls = [\"https://cdn.pydata.org/bokeh/release/bokeh-1.3.4.min.js\", \"https://cdn.pydata.org/bokeh/release/bokeh-widgets-1.3.4.min.js\", \"https://cdn.pydata.org/bokeh/release/bokeh-tables-1.3.4.min.js\", \"https://cdn.pydata.org/bokeh/release/bokeh-gl-1.3.4.min.js\"];\n",
       "  var css_urls = [];\n",
       "\n",
       "  var inline_js = [\n",
       "    function(Bokeh) {\n",
       "      Bokeh.set_log_level(\"info\");\n",
       "    },\n",
       "    \n",
       "    function(Bokeh) {\n",
       "      \n",
       "    },\n",
       "    function(Bokeh) {} // ensure no trailing comma for IE\n",
       "  ];\n",
       "\n",
       "  function run_inline_js() {\n",
       "    \n",
       "    if ((root.Bokeh !== undefined) || (force === true)) {\n",
       "      for (var i = 0; i < inline_js.length; i++) {\n",
       "        inline_js[i].call(root, root.Bokeh);\n",
       "      }if (force === true) {\n",
       "        display_loaded();\n",
       "      }} else if (Date.now() < root._bokeh_timeout) {\n",
       "      setTimeout(run_inline_js, 100);\n",
       "    } else if (!root._bokeh_failed_load) {\n",
       "      console.log(\"Bokeh: BokehJS failed to load within specified timeout.\");\n",
       "      root._bokeh_failed_load = true;\n",
       "    } else if (force !== true) {\n",
       "      var cell = $(document.getElementById(\"163828\")).parents('.cell').data().cell;\n",
       "      cell.output_area.append_execute_result(NB_LOAD_WARNING)\n",
       "    }\n",
       "\n",
       "  }\n",
       "\n",
       "  if (root._bokeh_is_loading === 0) {\n",
       "    console.debug(\"Bokeh: BokehJS loaded, going straight to plotting\");\n",
       "    run_inline_js();\n",
       "  } else {\n",
       "    load_libs(css_urls, js_urls, function() {\n",
       "      console.debug(\"Bokeh: BokehJS plotting callback run at\", now());\n",
       "      run_inline_js();\n",
       "    });\n",
       "  }\n",
       "}(window));"
      ],
      "application/vnd.bokehjs_load.v0+json": "\n(function(root) {\n  function now() {\n    return new Date();\n  }\n\n  var force = true;\n\n  if (typeof root._bokeh_onload_callbacks === \"undefined\" || force === true) {\n    root._bokeh_onload_callbacks = [];\n    root._bokeh_is_loading = undefined;\n  }\n\n  \n\n  \n  if (typeof (root._bokeh_timeout) === \"undefined\" || force === true) {\n    root._bokeh_timeout = Date.now() + 5000;\n    root._bokeh_failed_load = false;\n  }\n\n  var NB_LOAD_WARNING = {'data': {'text/html':\n     \"<div style='background-color: #fdd'>\\n\"+\n     \"<p>\\n\"+\n     \"BokehJS does not appear to have successfully loaded. If loading BokehJS from CDN, this \\n\"+\n     \"may be due to a slow or bad network connection. Possible fixes:\\n\"+\n     \"</p>\\n\"+\n     \"<ul>\\n\"+\n     \"<li>re-rerun `output_notebook()` to attempt to load from CDN again, or</li>\\n\"+\n     \"<li>use INLINE resources instead, as so:</li>\\n\"+\n     \"</ul>\\n\"+\n     \"<code>\\n\"+\n     \"from bokeh.resources import INLINE\\n\"+\n     \"output_notebook(resources=INLINE)\\n\"+\n     \"</code>\\n\"+\n     \"</div>\"}};\n\n  function display_loaded() {\n    var el = document.getElementById(\"163828\");\n    if (el != null) {\n      el.textContent = \"BokehJS is loading...\";\n    }\n    if (root.Bokeh !== undefined) {\n      if (el != null) {\n        el.textContent = \"BokehJS \" + root.Bokeh.version + \" successfully loaded.\";\n      }\n    } else if (Date.now() < root._bokeh_timeout) {\n      setTimeout(display_loaded, 100)\n    }\n  }\n\n\n  function run_callbacks() {\n    try {\n      root._bokeh_onload_callbacks.forEach(function(callback) {\n        if (callback != null)\n          callback();\n      });\n    } finally {\n      delete root._bokeh_onload_callbacks\n    }\n    console.debug(\"Bokeh: all callbacks have finished\");\n  }\n\n  function load_libs(css_urls, js_urls, callback) {\n    if (css_urls == null) css_urls = [];\n    if (js_urls == null) js_urls = [];\n\n    root._bokeh_onload_callbacks.push(callback);\n    if (root._bokeh_is_loading > 0) {\n      console.debug(\"Bokeh: BokehJS is being loaded, scheduling callback at\", now());\n      return null;\n    }\n    if (js_urls == null || js_urls.length === 0) {\n      run_callbacks();\n      return null;\n    }\n    console.debug(\"Bokeh: BokehJS not loaded, scheduling load and callback at\", now());\n    root._bokeh_is_loading = css_urls.length + js_urls.length;\n\n    function on_load() {\n      root._bokeh_is_loading--;\n      if (root._bokeh_is_loading === 0) {\n        console.debug(\"Bokeh: all BokehJS libraries/stylesheets loaded\");\n        run_callbacks()\n      }\n    }\n\n    function on_error() {\n      console.error(\"failed to load \" + url);\n    }\n\n    for (var i = 0; i < css_urls.length; i++) {\n      var url = css_urls[i];\n      const element = document.createElement(\"link\");\n      element.onload = on_load;\n      element.onerror = on_error;\n      element.rel = \"stylesheet\";\n      element.type = \"text/css\";\n      element.href = url;\n      console.debug(\"Bokeh: injecting link tag for BokehJS stylesheet: \", url);\n      document.body.appendChild(element);\n    }\n\n    for (var i = 0; i < js_urls.length; i++) {\n      var url = js_urls[i];\n      var element = document.createElement('script');\n      element.onload = on_load;\n      element.onerror = on_error;\n      element.async = false;\n      element.src = url;\n      console.debug(\"Bokeh: injecting script tag for BokehJS library: \", url);\n      document.head.appendChild(element);\n    }\n  };var element = document.getElementById(\"163828\");\n  if (element == null) {\n    console.error(\"Bokeh: ERROR: autoload.js configured with elementid '163828' but no matching script tag was found. \")\n    return false;\n  }\n\n  function inject_raw_css(css) {\n    const element = document.createElement(\"style\");\n    element.appendChild(document.createTextNode(css));\n    document.body.appendChild(element);\n  }\n\n  var js_urls = [\"https://cdn.pydata.org/bokeh/release/bokeh-1.3.4.min.js\", \"https://cdn.pydata.org/bokeh/release/bokeh-widgets-1.3.4.min.js\", \"https://cdn.pydata.org/bokeh/release/bokeh-tables-1.3.4.min.js\", \"https://cdn.pydata.org/bokeh/release/bokeh-gl-1.3.4.min.js\"];\n  var css_urls = [];\n\n  var inline_js = [\n    function(Bokeh) {\n      Bokeh.set_log_level(\"info\");\n    },\n    \n    function(Bokeh) {\n      \n    },\n    function(Bokeh) {} // ensure no trailing comma for IE\n  ];\n\n  function run_inline_js() {\n    \n    if ((root.Bokeh !== undefined) || (force === true)) {\n      for (var i = 0; i < inline_js.length; i++) {\n        inline_js[i].call(root, root.Bokeh);\n      }if (force === true) {\n        display_loaded();\n      }} else if (Date.now() < root._bokeh_timeout) {\n      setTimeout(run_inline_js, 100);\n    } else if (!root._bokeh_failed_load) {\n      console.log(\"Bokeh: BokehJS failed to load within specified timeout.\");\n      root._bokeh_failed_load = true;\n    } else if (force !== true) {\n      var cell = $(document.getElementById(\"163828\")).parents('.cell').data().cell;\n      cell.output_area.append_execute_result(NB_LOAD_WARNING)\n    }\n\n  }\n\n  if (root._bokeh_is_loading === 0) {\n    console.debug(\"Bokeh: BokehJS loaded, going straight to plotting\");\n    run_inline_js();\n  } else {\n    load_libs(css_urls, js_urls, function() {\n      console.debug(\"Bokeh: BokehJS plotting callback run at\", now());\n      run_inline_js();\n    });\n  }\n}(window));"
     },
     "metadata": {},
     "output_type": "display_data"
    }
   ],
   "source": [
    "from math import pi\n",
    "from bokeh.io import curdoc, show, output_notebook, reset_output\n",
    "from bokeh.plotting import figure, ColumnDataSource\n",
    "from bokeh.models import HoverTool, LabelSet\n",
    "from bokeh.transform import dodge, cumsum\n",
    "from bokeh.core.properties import value\n",
    "from bokeh.layouts import column\n",
    "from bokeh.palettes import Spectral4, Spectral11\n",
    "\n",
    "reset_output()\n",
    "output_notebook()\n",
    "\n",
    "curdoc().theme = 'dark_minimal'\n",
    "_tools_to_show = 'box_zoom,pan,save,hover,reset,tap,wheel_zoom'"
   ]
  },
  {
   "cell_type": "code",
   "execution_count": 1699,
   "metadata": {},
   "outputs": [],
   "source": [
    "WIDTH = 900\n",
    "HEIGHT = 700"
   ]
  },
  {
   "cell_type": "markdown",
   "metadata": {},
   "source": [
    "# Setting themes"
   ]
  },
  {
   "cell_type": "code",
   "execution_count": 1700,
   "metadata": {},
   "outputs": [],
   "source": [
    "sns.set_palette('rainbow')\n",
    "plt.style.use(\"dark_background\")\n",
    "\n",
    "params = {\n",
    "    'legend.fontsize': 'x-large',\n",
    "    'figure.figsize': (20, 15),\n",
    "    'axes.grid': False,\n",
    "    'axes.labelsize': 'x-large',\n",
    "    'axes.titlesize': 'x-large',\n",
    "    'xtick.labelsize': 'x-large',\n",
    "    'ytick.labelsize': 'x-large'\n",
    "}\n",
    "\n",
    "pylab.rcParams.update(params)"
   ]
  },
  {
   "cell_type": "markdown",
   "metadata": {},
   "source": [
    "# Read that data"
   ]
  },
  {
   "cell_type": "code",
   "execution_count": 1701,
   "metadata": {},
   "outputs": [],
   "source": [
    "df = pd.read_csv('forest-fires.csv', encoding='latin1',\n",
    "                 parse_dates=['date'], index_col='date')"
   ]
  },
  {
   "cell_type": "code",
   "execution_count": 1702,
   "metadata": {},
   "outputs": [
    {
     "data": {
      "text/html": [
       "<div>\n",
       "<style scoped>\n",
       "    .dataframe tbody tr th:only-of-type {\n",
       "        vertical-align: middle;\n",
       "    }\n",
       "\n",
       "    .dataframe tbody tr th {\n",
       "        vertical-align: top;\n",
       "    }\n",
       "\n",
       "    .dataframe thead th {\n",
       "        text-align: right;\n",
       "    }\n",
       "</style>\n",
       "<table border=\"1\" class=\"dataframe\">\n",
       "  <thead>\n",
       "    <tr style=\"text-align: right;\">\n",
       "      <th></th>\n",
       "      <th>year</th>\n",
       "      <th>state</th>\n",
       "      <th>month</th>\n",
       "      <th>number</th>\n",
       "    </tr>\n",
       "    <tr>\n",
       "      <th>date</th>\n",
       "      <th></th>\n",
       "      <th></th>\n",
       "      <th></th>\n",
       "      <th></th>\n",
       "    </tr>\n",
       "  </thead>\n",
       "  <tbody>\n",
       "    <tr>\n",
       "      <td>1998-01-01</td>\n",
       "      <td>1998</td>\n",
       "      <td>Acre</td>\n",
       "      <td>Janeiro</td>\n",
       "      <td>0.0</td>\n",
       "    </tr>\n",
       "    <tr>\n",
       "      <td>1999-01-01</td>\n",
       "      <td>1999</td>\n",
       "      <td>Acre</td>\n",
       "      <td>Janeiro</td>\n",
       "      <td>0.0</td>\n",
       "    </tr>\n",
       "    <tr>\n",
       "      <td>2000-01-01</td>\n",
       "      <td>2000</td>\n",
       "      <td>Acre</td>\n",
       "      <td>Janeiro</td>\n",
       "      <td>0.0</td>\n",
       "    </tr>\n",
       "    <tr>\n",
       "      <td>2001-01-01</td>\n",
       "      <td>2001</td>\n",
       "      <td>Acre</td>\n",
       "      <td>Janeiro</td>\n",
       "      <td>0.0</td>\n",
       "    </tr>\n",
       "    <tr>\n",
       "      <td>2002-01-01</td>\n",
       "      <td>2002</td>\n",
       "      <td>Acre</td>\n",
       "      <td>Janeiro</td>\n",
       "      <td>0.0</td>\n",
       "    </tr>\n",
       "  </tbody>\n",
       "</table>\n",
       "</div>"
      ],
      "text/plain": [
       "            year state    month  number\n",
       "date                                   \n",
       "1998-01-01  1998  Acre  Janeiro     0.0\n",
       "1999-01-01  1999  Acre  Janeiro     0.0\n",
       "2000-01-01  2000  Acre  Janeiro     0.0\n",
       "2001-01-01  2001  Acre  Janeiro     0.0\n",
       "2002-01-01  2002  Acre  Janeiro     0.0"
      ]
     },
     "execution_count": 1702,
     "metadata": {},
     "output_type": "execute_result"
    }
   ],
   "source": [
    "df.head()"
   ]
  },
  {
   "cell_type": "code",
   "execution_count": 1703,
   "metadata": {},
   "outputs": [],
   "source": [
    "# this will generate a profile report of the data. Takes around 30 seconds to finish execution.\n",
    "\n",
    "# report = df.profile_report()\n",
    "# report"
   ]
  },
  {
   "cell_type": "markdown",
   "metadata": {},
   "source": [
    "# Dump me a little math?"
   ]
  },
  {
   "cell_type": "code",
   "execution_count": 1704,
   "metadata": {},
   "outputs": [
    {
     "data": {
      "text/html": [
       "<div>\n",
       "<style scoped>\n",
       "    .dataframe tbody tr th:only-of-type {\n",
       "        vertical-align: middle;\n",
       "    }\n",
       "\n",
       "    .dataframe tbody tr th {\n",
       "        vertical-align: top;\n",
       "    }\n",
       "\n",
       "    .dataframe thead th {\n",
       "        text-align: right;\n",
       "    }\n",
       "</style>\n",
       "<table border=\"1\" class=\"dataframe\">\n",
       "  <thead>\n",
       "    <tr style=\"text-align: right;\">\n",
       "      <th></th>\n",
       "      <th>year</th>\n",
       "      <th>number</th>\n",
       "    </tr>\n",
       "  </thead>\n",
       "  <tbody>\n",
       "    <tr>\n",
       "      <td>count</td>\n",
       "      <td>6454.000000</td>\n",
       "      <td>6454.000000</td>\n",
       "    </tr>\n",
       "    <tr>\n",
       "      <td>mean</td>\n",
       "      <td>2007.461729</td>\n",
       "      <td>108.293163</td>\n",
       "    </tr>\n",
       "    <tr>\n",
       "      <td>std</td>\n",
       "      <td>5.746654</td>\n",
       "      <td>190.812242</td>\n",
       "    </tr>\n",
       "    <tr>\n",
       "      <td>min</td>\n",
       "      <td>1998.000000</td>\n",
       "      <td>0.000000</td>\n",
       "    </tr>\n",
       "    <tr>\n",
       "      <td>25%</td>\n",
       "      <td>2002.000000</td>\n",
       "      <td>3.000000</td>\n",
       "    </tr>\n",
       "    <tr>\n",
       "      <td>50%</td>\n",
       "      <td>2007.000000</td>\n",
       "      <td>24.000000</td>\n",
       "    </tr>\n",
       "    <tr>\n",
       "      <td>75%</td>\n",
       "      <td>2012.000000</td>\n",
       "      <td>113.000000</td>\n",
       "    </tr>\n",
       "    <tr>\n",
       "      <td>max</td>\n",
       "      <td>2017.000000</td>\n",
       "      <td>998.000000</td>\n",
       "    </tr>\n",
       "  </tbody>\n",
       "</table>\n",
       "</div>"
      ],
      "text/plain": [
       "              year       number\n",
       "count  6454.000000  6454.000000\n",
       "mean   2007.461729   108.293163\n",
       "std       5.746654   190.812242\n",
       "min    1998.000000     0.000000\n",
       "25%    2002.000000     3.000000\n",
       "50%    2007.000000    24.000000\n",
       "75%    2012.000000   113.000000\n",
       "max    2017.000000   998.000000"
      ]
     },
     "execution_count": 1704,
     "metadata": {},
     "output_type": "execute_result"
    }
   ],
   "source": [
    "df.describe()"
   ]
  },
  {
   "cell_type": "markdown",
   "metadata": {},
   "source": [
    "# Info, please."
   ]
  },
  {
   "cell_type": "code",
   "execution_count": 1705,
   "metadata": {},
   "outputs": [
    {
     "name": "stdout",
     "output_type": "stream",
     "text": [
      "<class 'pandas.core.frame.DataFrame'>\n",
      "DatetimeIndex: 6454 entries, 1998-01-01 to 2016-01-01\n",
      "Data columns (total 4 columns):\n",
      "year      6454 non-null int64\n",
      "state     6454 non-null object\n",
      "month     6454 non-null object\n",
      "number    6454 non-null float64\n",
      "dtypes: float64(1), int64(1), object(2)\n",
      "memory usage: 252.1+ KB\n"
     ]
    }
   ],
   "source": [
    "df.info()"
   ]
  },
  {
   "cell_type": "markdown",
   "metadata": {},
   "source": [
    "# Line Charts and Pie Charts"
   ]
  },
  {
   "cell_type": "markdown",
   "metadata": {},
   "source": [
    "## Total Fires per year"
   ]
  },
  {
   "cell_type": "code",
   "execution_count": 1706,
   "metadata": {},
   "outputs": [
    {
     "data": {
      "text/html": [
       "\n",
       "\n",
       "\n",
       "\n",
       "\n",
       "\n",
       "  <div class=\"bk-root\" id=\"5c7d1ba6-a56c-4381-b1fb-46a089669f4b\" data-root-id=\"163830\"></div>\n"
      ]
     },
     "metadata": {},
     "output_type": "display_data"
    },
    {
     "data": {
      "application/javascript": [
       "(function(root) {\n",
       "  function embed_document(root) {\n",
       "    \n",
       "  var docs_json = {\"b897a1ed-2115-4668-ac27-8a0f25c4fe0b\":{\"roots\":{\"references\":[{\"attributes\":{\"background_fill_color\":{\"value\":\"#20262B\"},\"below\":[{\"id\":\"163841\",\"type\":\"CategoricalAxis\"}],\"border_fill_color\":{\"value\":\"#15191C\"},\"center\":[{\"id\":\"163844\",\"type\":\"Grid\"},{\"id\":\"163849\",\"type\":\"Grid\"}],\"left\":[{\"id\":\"163845\",\"type\":\"LinearAxis\"}],\"outline_line_alpha\":{\"value\":0.25},\"outline_line_color\":{\"value\":\"#E0E0E0\"},\"plot_height\":700,\"plot_width\":900,\"renderers\":[{\"id\":\"163868\",\"type\":\"GlyphRenderer\"}],\"title\":{\"id\":\"163831\",\"type\":\"Title\"},\"toolbar\":{\"id\":\"163857\",\"type\":\"Toolbar\"},\"x_range\":{\"id\":\"163833\",\"type\":\"FactorRange\"},\"x_scale\":{\"id\":\"163837\",\"type\":\"CategoricalScale\"},\"y_range\":{\"id\":\"163835\",\"type\":\"DataRange1d\"},\"y_scale\":{\"id\":\"163839\",\"type\":\"LinearScale\"}},\"id\":\"163830\",\"subtype\":\"Figure\",\"type\":\"Plot\"},{\"attributes\":{},\"id\":\"163856\",\"type\":\"WheelZoomTool\"},{\"attributes\":{\"callback\":null,\"factors\":[\"1998\",\"1999\",\"2000\",\"2001\",\"2002\",\"2003\",\"2004\",\"2005\",\"2006\",\"2007\",\"2008\",\"2009\",\"2010\",\"2011\",\"2012\",\"2013\",\"2014\",\"2015\",\"2016\",\"2017\"]},\"id\":\"163833\",\"type\":\"FactorRange\"},{\"attributes\":{\"dimension\":1,\"grid_line_alpha\":0.25,\"grid_line_color\":\"#E0E0E0\",\"ticker\":{\"id\":\"163846\",\"type\":\"BasicTicker\"}},\"id\":\"163849\",\"type\":\"Grid\"},{\"attributes\":{},\"id\":\"163854\",\"type\":\"ResetTool\"},{\"attributes\":{},\"id\":\"163846\",\"type\":\"BasicTicker\"},{\"attributes\":{\"callback\":null,\"data\":{\"count\":{\"__ndarray__\":\"HC/dJH6L00B/lUOLtEDaQNJNYhDQtdpASgwCK+dj3EAzMzMz00HiQLFyaJEV4eRAqcZLN6XG4kATrkfhnhfhQNV46SYFheBAqcZLN60h4EBWDi2yvbDcQFYOLbKlGeNAfj81Xq4V4kAJ16NwMengQFO4HoWbkuNAnO+nxkMp4UDm0CLbpVjjQE9iEFgJH+RA2s73U4ec5EAW2c73s+nhQA==\",\"dtype\":\"float64\",\"shape\":[20]},\"index\":[0,1,2,3,4,5,6,7,8,9,10,11,12,13,14,15,16,17,18,19],\"year\":[\"1998\",\"1999\",\"2000\",\"2001\",\"2002\",\"2003\",\"2004\",\"2005\",\"2006\",\"2007\",\"2008\",\"2009\",\"2010\",\"2011\",\"2012\",\"2013\",\"2014\",\"2015\",\"2016\",\"2017\"]},\"selected\":{\"id\":\"163876\",\"type\":\"Selection\"},\"selection_policy\":{\"id\":\"163875\",\"type\":\"UnionRenderers\"}},\"id\":\"163829\",\"type\":\"ColumnDataSource\"},{\"attributes\":{},\"id\":\"163837\",\"type\":\"CategoricalScale\"},{\"attributes\":{\"text\":\"Total fires by Year\",\"text_color\":{\"value\":\"#E0E0E0\"},\"text_font\":\"Helvetica\",\"text_font_size\":{\"value\":\"1.15em\"}},\"id\":\"163831\",\"type\":\"Title\"},{\"attributes\":{\"callback\":null},\"id\":\"163855\",\"type\":\"TapTool\"},{\"attributes\":{\"callback\":null,\"tooltips\":[[\"Year\",\"@year\"],[\"Fires\",\"@count{int}\"]]},\"id\":\"163853\",\"type\":\"HoverTool\"},{\"attributes\":{},\"id\":\"163852\",\"type\":\"SaveTool\"},{\"attributes\":{\"data_source\":{\"id\":\"163829\",\"type\":\"ColumnDataSource\"},\"glyph\":{\"id\":\"163866\",\"type\":\"VBar\"},\"hover_glyph\":null,\"muted_glyph\":null,\"nonselection_glyph\":{\"id\":\"163867\",\"type\":\"VBar\"},\"selection_glyph\":null,\"view\":{\"id\":\"163869\",\"type\":\"CDSView\"}},\"id\":\"163868\",\"type\":\"GlyphRenderer\"},{\"attributes\":{\"axis_label_standoff\":10,\"axis_label_text_color\":{\"value\":\"#E0E0E0\"},\"axis_label_text_font\":\"Helvetica\",\"axis_label_text_font_size\":{\"value\":\"1.25em\"},\"axis_label_text_font_style\":\"normal\",\"axis_line_alpha\":{\"value\":0},\"axis_line_color\":{\"value\":\"#E0E0E0\"},\"formatter\":{\"id\":\"163871\",\"type\":\"BasicTickFormatter\"},\"major_label_text_color\":{\"value\":\"#E0E0E0\"},\"major_label_text_font\":\"Helvetica\",\"major_label_text_font_size\":{\"value\":\"1.025em\"},\"major_tick_line_alpha\":{\"value\":0},\"major_tick_line_color\":{\"value\":\"#E0E0E0\"},\"minor_tick_line_alpha\":{\"value\":0},\"minor_tick_line_color\":{\"value\":\"#E0E0E0\"},\"ticker\":{\"id\":\"163846\",\"type\":\"BasicTicker\"}},\"id\":\"163845\",\"type\":\"LinearAxis\"},{\"attributes\":{},\"id\":\"163839\",\"type\":\"LinearScale\"},{\"attributes\":{\"bottom_units\":\"screen\",\"fill_alpha\":{\"value\":0.5},\"fill_color\":{\"value\":\"lightgrey\"},\"left_units\":\"screen\",\"level\":\"overlay\",\"line_alpha\":{\"value\":1.0},\"line_color\":{\"value\":\"black\"},\"line_dash\":[4,4],\"line_width\":{\"value\":2},\"render_mode\":\"css\",\"right_units\":\"screen\",\"top_units\":\"screen\"},\"id\":\"163877\",\"type\":\"BoxAnnotation\"},{\"attributes\":{\"axis_label_standoff\":10,\"axis_label_text_color\":{\"value\":\"#E0E0E0\"},\"axis_label_text_font\":\"Helvetica\",\"axis_label_text_font_size\":{\"value\":\"1.25em\"},\"axis_label_text_font_style\":\"normal\",\"axis_line_alpha\":{\"value\":0},\"axis_line_color\":{\"value\":\"#E0E0E0\"},\"formatter\":{\"id\":\"163873\",\"type\":\"CategoricalTickFormatter\"},\"major_label_orientation\":0.7853981633974483,\"major_label_text_color\":{\"value\":\"#E0E0E0\"},\"major_label_text_font\":\"Helvetica\",\"major_label_text_font_size\":{\"value\":\"1.025em\"},\"major_tick_line_alpha\":{\"value\":0},\"major_tick_line_color\":{\"value\":\"#E0E0E0\"},\"minor_tick_line_alpha\":{\"value\":0},\"minor_tick_line_color\":{\"value\":\"#E0E0E0\"},\"ticker\":{\"id\":\"163842\",\"type\":\"CategoricalTicker\"}},\"id\":\"163841\",\"type\":\"CategoricalAxis\"},{\"attributes\":{},\"id\":\"163871\",\"type\":\"BasicTickFormatter\"},{\"attributes\":{\"grid_line_alpha\":0.25,\"grid_line_color\":null,\"ticker\":{\"id\":\"163842\",\"type\":\"CategoricalTicker\"}},\"id\":\"163844\",\"type\":\"Grid\"},{\"attributes\":{},\"id\":\"163876\",\"type\":\"Selection\"},{\"attributes\":{},\"id\":\"163875\",\"type\":\"UnionRenderers\"},{\"attributes\":{\"source\":{\"id\":\"163829\",\"type\":\"ColumnDataSource\"}},\"id\":\"163869\",\"type\":\"CDSView\"},{\"attributes\":{\"active_drag\":\"auto\",\"active_inspect\":\"auto\",\"active_multi\":null,\"active_scroll\":\"auto\",\"active_tap\":\"auto\",\"tools\":[{\"id\":\"163850\",\"type\":\"BoxZoomTool\"},{\"id\":\"163851\",\"type\":\"PanTool\"},{\"id\":\"163852\",\"type\":\"SaveTool\"},{\"id\":\"163853\",\"type\":\"HoverTool\"},{\"id\":\"163854\",\"type\":\"ResetTool\"},{\"id\":\"163855\",\"type\":\"TapTool\"},{\"id\":\"163856\",\"type\":\"WheelZoomTool\"}]},\"id\":\"163857\",\"type\":\"Toolbar\"},{\"attributes\":{\"fill_color\":{\"value\":\"#1f77b4\"},\"line_color\":{\"value\":\"#1f77b4\"},\"top\":{\"field\":\"count\"},\"width\":{\"value\":0.9},\"x\":{\"field\":\"year\"}},\"id\":\"163866\",\"type\":\"VBar\"},{\"attributes\":{\"overlay\":{\"id\":\"163877\",\"type\":\"BoxAnnotation\"}},\"id\":\"163850\",\"type\":\"BoxZoomTool\"},{\"attributes\":{\"fill_alpha\":{\"value\":0.1},\"fill_color\":{\"value\":\"#1f77b4\"},\"line_alpha\":{\"value\":0.1},\"line_color\":{\"value\":\"#1f77b4\"},\"top\":{\"field\":\"count\"},\"width\":{\"value\":0.9},\"x\":{\"field\":\"year\"}},\"id\":\"163867\",\"type\":\"VBar\"},{\"attributes\":{},\"id\":\"163842\",\"type\":\"CategoricalTicker\"},{\"attributes\":{},\"id\":\"163851\",\"type\":\"PanTool\"},{\"attributes\":{\"callback\":null,\"start\":20000},\"id\":\"163835\",\"type\":\"DataRange1d\"},{\"attributes\":{},\"id\":\"163873\",\"type\":\"CategoricalTickFormatter\"}],\"root_ids\":[\"163830\"]},\"title\":\"Bokeh Application\",\"version\":\"1.3.4\"}};\n",
       "  var render_items = [{\"docid\":\"b897a1ed-2115-4668-ac27-8a0f25c4fe0b\",\"roots\":{\"163830\":\"5c7d1ba6-a56c-4381-b1fb-46a089669f4b\"}}];\n",
       "  root.Bokeh.embed.embed_items_notebook(docs_json, render_items);\n",
       "\n",
       "  }\n",
       "  if (root.Bokeh !== undefined) {\n",
       "    embed_document(root);\n",
       "  } else {\n",
       "    var attempts = 0;\n",
       "    var timer = setInterval(function(root) {\n",
       "      if (root.Bokeh !== undefined) {\n",
       "        embed_document(root);\n",
       "        clearInterval(timer);\n",
       "      }\n",
       "      attempts++;\n",
       "      if (attempts > 100) {\n",
       "        console.log(\"Bokeh: ERROR: Unable to run BokehJS code because BokehJS library is missing\");\n",
       "        clearInterval(timer);\n",
       "      }\n",
       "    }, 10, root)\n",
       "  }\n",
       "})(window);"
      ],
      "application/vnd.bokehjs_exec.v0+json": ""
     },
     "metadata": {
      "application/vnd.bokehjs_exec.v0+json": {
       "id": "163830"
      }
     },
     "output_type": "display_data"
    }
   ],
   "source": [
    "data = df.groupby('year')['number'].sum().reset_index(name='count')\n",
    "\n",
    "data['year'] = data['year'].astype(str)\n",
    "\n",
    "source = ColumnDataSource(data)\n",
    "\n",
    "p = figure(x_range=data['year'], plot_height=HEIGHT, plot_width=WIDTH,\n",
    "           title=\"Total fires by Year\", tools=_tools_to_show)\n",
    "\n",
    "p.vbar(x='year', top='count', width=0.9, source=source)\n",
    "\n",
    "p.xgrid.grid_line_color = None\n",
    "p.xaxis.major_label_orientation = pi/4\n",
    "p.y_range.start = 20000\n",
    "\n",
    "hover = p.select(dict(type=HoverTool))\n",
    "hover.tooltips = [(\"Year\", \"@year\"), (\"Fires\", \"@count{int}\")]\n",
    "\n",
    "show(p)"
   ]
  },
  {
   "cell_type": "code",
   "execution_count": 1707,
   "metadata": {},
   "outputs": [
    {
     "data": {
      "text/html": [
       "\n",
       "\n",
       "\n",
       "\n",
       "\n",
       "\n",
       "  <div class=\"bk-root\" id=\"949d2033-0b4b-47f0-a549-421f58fa8929\" data-root-id=\"163934\"></div>\n"
      ]
     },
     "metadata": {},
     "output_type": "display_data"
    },
    {
     "data": {
      "application/javascript": [
       "(function(root) {\n",
       "  function embed_document(root) {\n",
       "    \n",
       "  var docs_json = {\"11bf5307-96da-47f5-86de-dac35d6c856e\":{\"roots\":{\"references\":[{\"attributes\":{\"background_fill_color\":{\"value\":\"#20262B\"},\"below\":[{\"id\":\"163945\",\"type\":\"LinearAxis\"}],\"border_fill_color\":{\"value\":\"#15191C\"},\"center\":[{\"id\":\"163949\",\"type\":\"Grid\"},{\"id\":\"163954\",\"type\":\"Grid\"},{\"id\":\"163984\",\"type\":\"Legend\"},{\"id\":\"163988\",\"type\":\"LabelSet\"}],\"left\":[{\"id\":\"163950\",\"type\":\"LinearAxis\"}],\"outline_line_alpha\":{\"value\":0.25},\"outline_line_color\":{\"value\":\"#E0E0E0\"},\"plot_height\":700,\"plot_width\":900,\"renderers\":[{\"id\":\"163976\",\"type\":\"GlyphRenderer\"}],\"title\":{\"id\":\"163935\",\"type\":\"Title\"},\"toolbar\":{\"id\":\"163962\",\"type\":\"Toolbar\"},\"x_range\":{\"id\":\"163937\",\"type\":\"Range1d\"},\"x_scale\":{\"id\":\"163941\",\"type\":\"LinearScale\"},\"y_range\":{\"id\":\"163939\",\"type\":\"DataRange1d\"},\"y_scale\":{\"id\":\"163943\",\"type\":\"LinearScale\"}},\"id\":\"163934\",\"subtype\":\"Figure\",\"type\":\"Plot\"},{\"attributes\":{\"dimension\":1,\"grid_line_alpha\":0.25,\"grid_line_color\":null,\"ticker\":{\"id\":\"163951\",\"type\":\"BasicTicker\"}},\"id\":\"163954\",\"type\":\"Grid\"},{\"attributes\":{\"callback\":null,\"data\":{\"angle\":{\"__ndarray__\":\"IJA9tncHxz9rNiJi8+7OP8WUnxAcec8/QaspL+W50D+NsdBrNYPVP+8F7Twpmtg/G5LHaccf1j9i11bAxSPUP0YvqMAld9M/G0UeGQ0C0z+Z2B4THefQPxRUr4SUgdY/l4tOCDdP1T9wv1qlIO3TP7vUG7ACENc/5i9uErA41D+NywWW0MvWP+RMhcaQtdc/LM3BFXJJ2D9KgahZXhvVPw==\",\"dtype\":\"float64\",\"shape\":[20]},\"color\":[\"#3182bd\",\"#6baed6\",\"#9ecae1\",\"#c6dbef\",\"#e6550d\",\"#fd8d3c\",\"#fdae6b\",\"#fdd0a2\",\"#31a354\",\"#74c476\",\"#a1d99b\",\"#c7e9c0\",\"#756bb1\",\"#9e9ac8\",\"#bcbddc\",\"#dadaeb\",\"#636363\",\"#969696\",\"#bdbdbd\",\"#d9d9d9\"],\"count\":{\"__ndarray__\":\"LU4AAAJpAADXagAAj3EAAA6SAAAIpwAANZYAALyIAAAohAAADYEAAMJyAADNmAAArZAAAEmHAACUnAAASokAAMWaAAD4oAAA5KQAAE2PAAA=\",\"dtype\":\"int32\",\"shape\":[20]},\"index\":[0,1,2,3,4,5,6,7,8,9,10,11,12,13,14,15,16,17,18,19],\"percentage\":[2.86328125,3.845703125,3.9140625,4.16015625,5.3515625,6.1171875,5.5,5.0078125,4.83984375,4.7265625,4.203125,5.59765625,5.30078125,4.95703125,5.734375,5.02734375,5.66796875,5.89453125,6.0390625,5.25],\"year\":[\"1998\",\"1999\",\"2000\",\"2001\",\"2002\",\"2003\",\"2004\",\"2005\",\"2006\",\"2007\",\"2008\",\"2009\",\"2010\",\"2011\",\"2012\",\"2013\",\"2014\",\"2015\",\"2016\",\"2017\"]},\"selected\":{\"id\":\"164006\",\"type\":\"Selection\"},\"selection_policy\":{\"id\":\"164005\",\"type\":\"UnionRenderers\"}},\"id\":\"163972\",\"type\":\"ColumnDataSource\"},{\"attributes\":{\"text\":\"Total fires by Year\",\"text_color\":{\"value\":\"#E0E0E0\"},\"text_font\":\"Helvetica\",\"text_font_size\":{\"value\":\"1.15em\"}},\"id\":\"163935\",\"type\":\"Title\"},{\"attributes\":{},\"id\":\"163951\",\"type\":\"BasicTicker\"},{\"attributes\":{},\"id\":\"163959\",\"type\":\"ResetTool\"},{\"attributes\":{},\"id\":\"164006\",\"type\":\"Selection\"},{\"attributes\":{\"active_drag\":\"auto\",\"active_inspect\":\"auto\",\"active_multi\":null,\"active_scroll\":\"auto\",\"active_tap\":\"auto\",\"tools\":[{\"id\":\"163955\",\"type\":\"BoxZoomTool\"},{\"id\":\"163956\",\"type\":\"PanTool\"},{\"id\":\"163957\",\"type\":\"SaveTool\"},{\"id\":\"163958\",\"type\":\"HoverTool\"},{\"id\":\"163959\",\"type\":\"ResetTool\"},{\"id\":\"163960\",\"type\":\"TapTool\"},{\"id\":\"163961\",\"type\":\"WheelZoomTool\"}]},\"id\":\"163962\",\"type\":\"Toolbar\"},{\"attributes\":{\"field\":\"angle\"},\"id\":\"163971\",\"type\":\"CumSum\"},{\"attributes\":{\"axis_label\":null,\"axis_label_standoff\":10,\"axis_label_text_color\":{\"value\":\"#E0E0E0\"},\"axis_label_text_font\":\"Helvetica\",\"axis_label_text_font_size\":{\"value\":\"1.25em\"},\"axis_label_text_font_style\":\"normal\",\"axis_line_alpha\":{\"value\":0},\"axis_line_color\":{\"value\":\"#E0E0E0\"},\"formatter\":{\"id\":\"163979\",\"type\":\"BasicTickFormatter\"},\"major_label_text_color\":{\"value\":\"#E0E0E0\"},\"major_label_text_font\":\"Helvetica\",\"major_label_text_font_size\":{\"value\":\"1.025em\"},\"major_tick_line_alpha\":{\"value\":0},\"major_tick_line_color\":{\"value\":\"#E0E0E0\"},\"minor_tick_line_alpha\":{\"value\":0},\"minor_tick_line_color\":{\"value\":\"#E0E0E0\"},\"ticker\":{\"id\":\"163951\",\"type\":\"BasicTicker\"},\"visible\":false},\"id\":\"163950\",\"type\":\"LinearAxis\"},{\"attributes\":{\"source\":{\"id\":\"163972\",\"type\":\"ColumnDataSource\"}},\"id\":\"163977\",\"type\":\"CDSView\"},{\"attributes\":{},\"id\":\"163979\",\"type\":\"BasicTickFormatter\"},{\"attributes\":{\"callback\":null},\"id\":\"163960\",\"type\":\"TapTool\"},{\"attributes\":{\"axis_label\":null,\"axis_label_standoff\":10,\"axis_label_text_color\":{\"value\":\"#E0E0E0\"},\"axis_label_text_font\":\"Helvetica\",\"axis_label_text_font_size\":{\"value\":\"1.25em\"},\"axis_label_text_font_style\":\"normal\",\"axis_line_alpha\":{\"value\":0},\"axis_line_color\":{\"value\":\"#E0E0E0\"},\"formatter\":{\"id\":\"163981\",\"type\":\"BasicTickFormatter\"},\"major_label_text_color\":{\"value\":\"#E0E0E0\"},\"major_label_text_font\":\"Helvetica\",\"major_label_text_font_size\":{\"value\":\"1.025em\"},\"major_tick_line_alpha\":{\"value\":0},\"major_tick_line_color\":{\"value\":\"#E0E0E0\"},\"minor_tick_line_alpha\":{\"value\":0},\"minor_tick_line_color\":{\"value\":\"#E0E0E0\"},\"ticker\":{\"id\":\"163946\",\"type\":\"BasicTicker\"},\"visible\":false},\"id\":\"163945\",\"type\":\"LinearAxis\"},{\"attributes\":{\"callback\":null,\"start\":-0.5},\"id\":\"163937\",\"type\":\"Range1d\"},{\"attributes\":{},\"id\":\"163941\",\"type\":\"LinearScale\"},{\"attributes\":{\"label\":{\"field\":\"year\"},\"renderers\":[{\"id\":\"163976\",\"type\":\"GlyphRenderer\"}]},\"id\":\"163985\",\"type\":\"LegendItem\"},{\"attributes\":{},\"id\":\"164004\",\"type\":\"Selection\"},{\"attributes\":{},\"id\":\"163956\",\"type\":\"PanTool\"},{\"attributes\":{},\"id\":\"164005\",\"type\":\"UnionRenderers\"},{\"attributes\":{\"bottom_units\":\"screen\",\"fill_alpha\":{\"value\":0.5},\"fill_color\":{\"value\":\"lightgrey\"},\"left_units\":\"screen\",\"level\":\"overlay\",\"line_alpha\":{\"value\":1.0},\"line_color\":{\"value\":\"black\"},\"line_dash\":[4,4],\"line_width\":{\"value\":2},\"render_mode\":\"css\",\"right_units\":\"screen\",\"top_units\":\"screen\"},\"id\":\"163983\",\"type\":\"BoxAnnotation\"},{\"attributes\":{},\"id\":\"163946\",\"type\":\"BasicTicker\"},{\"attributes\":{\"data_source\":{\"id\":\"163972\",\"type\":\"ColumnDataSource\"},\"glyph\":{\"id\":\"163974\",\"type\":\"Wedge\"},\"hover_glyph\":null,\"muted_glyph\":null,\"nonselection_glyph\":{\"id\":\"163975\",\"type\":\"Wedge\"},\"selection_glyph\":null,\"view\":{\"id\":\"163977\",\"type\":\"CDSView\"}},\"id\":\"163976\",\"type\":\"GlyphRenderer\"},{\"attributes\":{},\"id\":\"164003\",\"type\":\"UnionRenderers\"},{\"attributes\":{},\"id\":\"163957\",\"type\":\"SaveTool\"},{\"attributes\":{\"callback\":null},\"id\":\"163939\",\"type\":\"DataRange1d\"},{\"attributes\":{\"end_angle\":{\"expr\":{\"id\":\"163971\",\"type\":\"CumSum\"},\"units\":\"rad\"},\"fill_color\":{\"field\":\"color\"},\"line_color\":{\"value\":\"white\"},\"radius\":{\"units\":\"data\",\"value\":0.3},\"start_angle\":{\"expr\":{\"id\":\"163970\",\"type\":\"CumSum\"},\"units\":\"rad\"},\"x\":{\"value\":0},\"y\":{\"value\":1}},\"id\":\"163974\",\"type\":\"Wedge\"},{\"attributes\":{\"callback\":null,\"data\":{\"angle\":{\"__ndarray__\":\"IJA9tncHxz9rNiJi8+7OP8WUnxAcec8/QaspL+W50D+NsdBrNYPVP+8F7Twpmtg/G5LHaccf1j9i11bAxSPUP0YvqMAld9M/G0UeGQ0C0z+Z2B4THefQPxRUr4SUgdY/l4tOCDdP1T9wv1qlIO3TP7vUG7ACENc/5i9uErA41D+NywWW0MvWP+RMhcaQtdc/LM3BFXJJ2D9KgahZXhvVPw==\",\"dtype\":\"float64\",\"shape\":[20]},\"color\":[\"#3182bd\",\"#6baed6\",\"#9ecae1\",\"#c6dbef\",\"#e6550d\",\"#fd8d3c\",\"#fdae6b\",\"#fdd0a2\",\"#31a354\",\"#74c476\",\"#a1d99b\",\"#c7e9c0\",\"#756bb1\",\"#9e9ac8\",\"#bcbddc\",\"#dadaeb\",\"#636363\",\"#969696\",\"#bdbdbd\",\"#d9d9d9\"],\"count\":[\"                                        20013\",\"                                        26882\",\"                                        27351\",\"                                        29071\",\"                                        37390\",\"                                        42760\",\"                                        38453\",\"                                        35004\",\"                                        33832\",\"                                        33037\",\"                                        29378\",\"                                        39117\",\"                                        37037\",\"                                        34633\",\"                                        40084\",\"                                        35146\",\"                                        39621\",\"                                        41208\",\"                                        42212\",\"                                        36685\"],\"index\":[0,1,2,3,4,5,6,7,8,9,10,11,12,13,14,15,16,17,18,19],\"percentage\":[2.86328125,3.845703125,3.9140625,4.16015625,5.3515625,6.1171875,5.5,5.0078125,4.83984375,4.7265625,4.203125,5.59765625,5.30078125,4.95703125,5.734375,5.02734375,5.66796875,5.89453125,6.0390625,5.25],\"year\":[\"1998\",\"1999\",\"2000\",\"2001\",\"2002\",\"2003\",\"2004\",\"2005\",\"2006\",\"2007\",\"2008\",\"2009\",\"2010\",\"2011\",\"2012\",\"2013\",\"2014\",\"2015\",\"2016\",\"2017\"]},\"selected\":{\"id\":\"164004\",\"type\":\"Selection\"},\"selection_policy\":{\"id\":\"164003\",\"type\":\"UnionRenderers\"}},\"id\":\"163986\",\"type\":\"ColumnDataSource\"},{\"attributes\":{\"grid_line_alpha\":0.25,\"grid_line_color\":null,\"ticker\":{\"id\":\"163946\",\"type\":\"BasicTicker\"}},\"id\":\"163949\",\"type\":\"Grid\"},{\"attributes\":{\"overlay\":{\"id\":\"163983\",\"type\":\"BoxAnnotation\"}},\"id\":\"163955\",\"type\":\"BoxZoomTool\"},{\"attributes\":{\"field\":\"angle\",\"include_zero\":true},\"id\":\"163987\",\"type\":\"CumSum\"},{\"attributes\":{\"angle\":{\"expr\":{\"id\":\"163987\",\"type\":\"CumSum\"},\"units\":\"rad\"},\"level\":\"glyph\",\"source\":{\"id\":\"163986\",\"type\":\"ColumnDataSource\"},\"text\":{\"field\":\"count\"},\"x\":{\"value\":0},\"y\":{\"value\":1}},\"id\":\"163988\",\"type\":\"LabelSet\"},{\"attributes\":{},\"id\":\"163943\",\"type\":\"LinearScale\"},{\"attributes\":{\"field\":\"angle\",\"include_zero\":true},\"id\":\"163970\",\"type\":\"CumSum\"},{\"attributes\":{},\"id\":\"163961\",\"type\":\"WheelZoomTool\"},{\"attributes\":{},\"id\":\"163981\",\"type\":\"BasicTickFormatter\"},{\"attributes\":{\"end_angle\":{\"expr\":{\"id\":\"163971\",\"type\":\"CumSum\"},\"units\":\"rad\"},\"fill_alpha\":{\"value\":0.1},\"fill_color\":{\"value\":\"#1f77b4\"},\"line_alpha\":{\"value\":0.1},\"line_color\":{\"value\":\"#1f77b4\"},\"radius\":{\"units\":\"data\",\"value\":0.3},\"start_angle\":{\"expr\":{\"id\":\"163970\",\"type\":\"CumSum\"},\"units\":\"rad\"},\"x\":{\"value\":0},\"y\":{\"value\":1}},\"id\":\"163975\",\"type\":\"Wedge\"},{\"attributes\":{\"callback\":null,\"tooltips\":[[\"Year\",\"@year\"],[\"Fires\",\"@count\"],[\"Percentage\",\"@percentage%\"]]},\"id\":\"163958\",\"type\":\"HoverTool\"},{\"attributes\":{\"background_fill_alpha\":{\"value\":0.25},\"background_fill_color\":{\"value\":\"#20262B\"},\"border_line_alpha\":{\"value\":0},\"glyph_width\":15,\"items\":[{\"id\":\"163985\",\"type\":\"LegendItem\"}],\"label_standoff\":8,\"label_text_color\":{\"value\":\"#E0E0E0\"},\"label_text_font\":\"Helvetica\",\"label_text_font_size\":{\"value\":\"1.025em\"},\"spacing\":8},\"id\":\"163984\",\"type\":\"Legend\"}],\"root_ids\":[\"163934\"]},\"title\":\"Bokeh Application\",\"version\":\"1.3.4\"}};\n",
       "  var render_items = [{\"docid\":\"11bf5307-96da-47f5-86de-dac35d6c856e\",\"roots\":{\"163934\":\"949d2033-0b4b-47f0-a549-421f58fa8929\"}}];\n",
       "  root.Bokeh.embed.embed_items_notebook(docs_json, render_items);\n",
       "\n",
       "  }\n",
       "  if (root.Bokeh !== undefined) {\n",
       "    embed_document(root);\n",
       "  } else {\n",
       "    var attempts = 0;\n",
       "    var timer = setInterval(function(root) {\n",
       "      if (root.Bokeh !== undefined) {\n",
       "        embed_document(root);\n",
       "        clearInterval(timer);\n",
       "      }\n",
       "      attempts++;\n",
       "      if (attempts > 100) {\n",
       "        console.log(\"Bokeh: ERROR: Unable to run BokehJS code because BokehJS library is missing\");\n",
       "        clearInterval(timer);\n",
       "      }\n",
       "    }, 10, root)\n",
       "  }\n",
       "})(window);"
      ],
      "application/vnd.bokehjs_exec.v0+json": ""
     },
     "metadata": {
      "application/vnd.bokehjs_exec.v0+json": {
       "id": "163934"
      }
     },
     "output_type": "display_data"
    }
   ],
   "source": [
    "TOOLTIPS = [\n",
    "    (\"Year\", \"@year\"),\n",
    "    (\"Fires\", \"@count\"),\n",
    "    (\"Percentage\", \"@percentage%\")\n",
    "]\n",
    "\n",
    "# Bokeh only supports 20 colors so here we slice our original df to accomodate that.\n",
    "dummy_data = data\n",
    "\n",
    "dummy_data[\"count\"] = dummy_data['count'].astype(int)\n",
    "dummy_data['percentage'] = dummy_data['count'].apply(\n",
    "    lambda x: (x/sum(dummy_data['count']))*100)\n",
    "\n",
    "dummy_data['percentage'] = dummy_data['percentage'].astype(dtype='float16')\n",
    "\n",
    "dummy_data['angle'] = dummy_data['count']/dummy_data['count'].sum() * 2*pi\n",
    "dummy_data['color'] = Category20c[len(dummy_data)]\n",
    "\n",
    "p = figure(plot_height=HEIGHT, plot_width=WIDTH, title=\"Total fires by Year\",\n",
    "           tools=_tools_to_show, tooltips=TOOLTIPS, x_range=(-0.5, 1.0))\n",
    "\n",
    "p.wedge(x=0, y=1, radius=0.3,\n",
    "        start_angle=cumsum('angle', include_zero=True), end_angle=cumsum('angle'),\n",
    "        line_color=\"white\", fill_color='color', legend='year', source=dummy_data)\n",
    "\n",
    "dummy_data[\"count\"] = dummy_data['count'].astype(str)\n",
    "dummy_data[\"count\"] = dummy_data[\"count\"].str.pad(45, side=\"left\")\n",
    "source = ColumnDataSource(dummy_data)\n",
    "\n",
    "labels = LabelSet(x=0, y=1, text='count', level='glyph',\n",
    "                  angle=cumsum('angle', include_zero=True), source=source, render_mode='canvas')\n",
    "\n",
    "p.add_layout(labels)\n",
    "\n",
    "p.axis.axis_label = None\n",
    "p.axis.visible = False\n",
    "p.grid.grid_line_color = None\n",
    "\n",
    "show(p)\n",
    "\n",
    "dummy_data[\"count\"] = dummy_data['count'].astype(int)"
   ]
  },
  {
   "cell_type": "markdown",
   "metadata": {},
   "source": [
    "## Total Fires per month"
   ]
  },
  {
   "cell_type": "code",
   "execution_count": 1708,
   "metadata": {},
   "outputs": [
    {
     "data": {
      "text/html": [
       "\n",
       "\n",
       "\n",
       "\n",
       "\n",
       "\n",
       "  <div class=\"bk-root\" id=\"bbdd72ba-08c1-4466-bfa1-ec864ffc7faf\" data-root-id=\"164069\"></div>\n"
      ]
     },
     "metadata": {},
     "output_type": "display_data"
    },
    {
     "data": {
      "application/javascript": [
       "(function(root) {\n",
       "  function embed_document(root) {\n",
       "    \n",
       "  var docs_json = {\"76452a2b-c220-4f47-87ea-91d53bca4409\":{\"roots\":{\"references\":[{\"attributes\":{\"background_fill_color\":{\"value\":\"#20262B\"},\"below\":[{\"id\":\"164080\",\"type\":\"CategoricalAxis\"}],\"border_fill_color\":{\"value\":\"#15191C\"},\"center\":[{\"id\":\"164083\",\"type\":\"Grid\"},{\"id\":\"164088\",\"type\":\"Grid\"}],\"left\":[{\"id\":\"164084\",\"type\":\"LinearAxis\"}],\"outline_line_alpha\":{\"value\":0.25},\"outline_line_color\":{\"value\":\"#E0E0E0\"},\"plot_height\":700,\"plot_width\":900,\"renderers\":[{\"id\":\"164107\",\"type\":\"GlyphRenderer\"}],\"title\":{\"id\":\"164070\",\"type\":\"Title\"},\"toolbar\":{\"id\":\"164096\",\"type\":\"Toolbar\"},\"x_range\":{\"id\":\"164072\",\"type\":\"FactorRange\"},\"x_scale\":{\"id\":\"164076\",\"type\":\"CategoricalScale\"},\"y_range\":{\"id\":\"164074\",\"type\":\"DataRange1d\"},\"y_scale\":{\"id\":\"164078\",\"type\":\"LinearScale\"}},\"id\":\"164069\",\"subtype\":\"Figure\",\"type\":\"Plot\"},{\"attributes\":{\"active_drag\":\"auto\",\"active_inspect\":\"auto\",\"active_multi\":null,\"active_scroll\":\"auto\",\"active_tap\":\"auto\",\"tools\":[{\"id\":\"164089\",\"type\":\"BoxZoomTool\"},{\"id\":\"164090\",\"type\":\"PanTool\"},{\"id\":\"164091\",\"type\":\"SaveTool\"},{\"id\":\"164092\",\"type\":\"HoverTool\"},{\"id\":\"164093\",\"type\":\"ResetTool\"},{\"id\":\"164094\",\"type\":\"TapTool\"},{\"id\":\"164095\",\"type\":\"WheelZoomTool\"}]},\"id\":\"164096\",\"type\":\"Toolbar\"},{\"attributes\":{\"bottom_units\":\"screen\",\"fill_alpha\":{\"value\":0.5},\"fill_color\":{\"value\":\"lightgrey\"},\"left_units\":\"screen\",\"level\":\"overlay\",\"line_alpha\":{\"value\":1.0},\"line_color\":{\"value\":\"black\"},\"line_dash\":[4,4],\"line_width\":{\"value\":2},\"render_mode\":\"css\",\"right_units\":\"screen\",\"top_units\":\"screen\"},\"id\":\"164116\",\"type\":\"BoxAnnotation\"},{\"attributes\":{\"axis_label_standoff\":10,\"axis_label_text_color\":{\"value\":\"#E0E0E0\"},\"axis_label_text_font\":\"Helvetica\",\"axis_label_text_font_size\":{\"value\":\"1.25em\"},\"axis_label_text_font_style\":\"normal\",\"axis_line_alpha\":{\"value\":0},\"axis_line_color\":{\"value\":\"#E0E0E0\"},\"formatter\":{\"id\":\"164110\",\"type\":\"BasicTickFormatter\"},\"major_label_text_color\":{\"value\":\"#E0E0E0\"},\"major_label_text_font\":\"Helvetica\",\"major_label_text_font_size\":{\"value\":\"1.025em\"},\"major_tick_line_alpha\":{\"value\":0},\"major_tick_line_color\":{\"value\":\"#E0E0E0\"},\"minor_tick_line_alpha\":{\"value\":0},\"minor_tick_line_color\":{\"value\":\"#E0E0E0\"},\"ticker\":{\"id\":\"164085\",\"type\":\"BasicTicker\"}},\"id\":\"164084\",\"type\":\"LinearAxis\"},{\"attributes\":{},\"id\":\"164078\",\"type\":\"LinearScale\"},{\"attributes\":{\"fill_alpha\":{\"value\":0.1},\"fill_color\":{\"value\":\"#1f77b4\"},\"line_alpha\":{\"value\":0.1},\"line_color\":{\"value\":\"#1f77b4\"},\"top\":{\"field\":\"count\"},\"width\":{\"value\":0.9},\"x\":{\"field\":\"month\"}},\"id\":\"164106\",\"type\":\"VBar\"},{\"attributes\":{\"axis_label_standoff\":10,\"axis_label_text_color\":{\"value\":\"#E0E0E0\"},\"axis_label_text_font\":\"Helvetica\",\"axis_label_text_font_size\":{\"value\":\"1.25em\"},\"axis_label_text_font_style\":\"normal\",\"axis_line_alpha\":{\"value\":0},\"axis_line_color\":{\"value\":\"#E0E0E0\"},\"formatter\":{\"id\":\"164112\",\"type\":\"CategoricalTickFormatter\"},\"major_label_orientation\":0.7853981633974483,\"major_label_text_color\":{\"value\":\"#E0E0E0\"},\"major_label_text_font\":\"Helvetica\",\"major_label_text_font_size\":{\"value\":\"1.025em\"},\"major_tick_line_alpha\":{\"value\":0},\"major_tick_line_color\":{\"value\":\"#E0E0E0\"},\"minor_tick_line_alpha\":{\"value\":0},\"minor_tick_line_color\":{\"value\":\"#E0E0E0\"},\"ticker\":{\"id\":\"164081\",\"type\":\"CategoricalTicker\"}},\"id\":\"164080\",\"type\":\"CategoricalAxis\"},{\"attributes\":{},\"id\":\"164115\",\"type\":\"Selection\"},{\"attributes\":{},\"id\":\"164112\",\"type\":\"CategoricalTickFormatter\"},{\"attributes\":{\"callback\":null,\"data\":{\"count\":{\"__ndarray__\":\"exSuRzGH20C4HoXrWf/dQDMzMzMDIN5ADi2ynWv14EC6SQwCe1DnQJqZmZlVWetAwvUoXO8X7EAtXI/CSZrsQJ8aL91A4PRAW4/C9SZ/9UACgZVDmab1QIYW2c5hivZA\",\"dtype\":\"float64\",\"shape\":[12]},\"index\":[0,8,3,7,4,6,2,11,9,1,10,5],\"month\":[\"Abril\",\"Mar\\u00e7o\",\"Fevereiro\",\"Maio\",\"Janeiro\",\"Junho\",\"Dezembro\",\"Setembro\",\"Novembro\",\"Agosto\",\"Outubro\",\"Julho\"]},\"selected\":{\"id\":\"164115\",\"type\":\"Selection\"},\"selection_policy\":{\"id\":\"164114\",\"type\":\"UnionRenderers\"}},\"id\":\"164068\",\"type\":\"ColumnDataSource\"},{\"attributes\":{},\"id\":\"164110\",\"type\":\"BasicTickFormatter\"},{\"attributes\":{\"callback\":null},\"id\":\"164094\",\"type\":\"TapTool\"},{\"attributes\":{},\"id\":\"164093\",\"type\":\"ResetTool\"},{\"attributes\":{\"text\":\"Total fires by month\",\"text_color\":{\"value\":\"#E0E0E0\"},\"text_font\":\"Helvetica\",\"text_font_size\":{\"value\":\"1.15em\"}},\"id\":\"164070\",\"type\":\"Title\"},{\"attributes\":{},\"id\":\"164114\",\"type\":\"UnionRenderers\"},{\"attributes\":{},\"id\":\"164090\",\"type\":\"PanTool\"},{\"attributes\":{},\"id\":\"164091\",\"type\":\"SaveTool\"},{\"attributes\":{},\"id\":\"164081\",\"type\":\"CategoricalTicker\"},{\"attributes\":{\"data_source\":{\"id\":\"164068\",\"type\":\"ColumnDataSource\"},\"glyph\":{\"id\":\"164105\",\"type\":\"VBar\"},\"hover_glyph\":null,\"muted_glyph\":null,\"nonselection_glyph\":{\"id\":\"164106\",\"type\":\"VBar\"},\"selection_glyph\":null,\"view\":{\"id\":\"164108\",\"type\":\"CDSView\"}},\"id\":\"164107\",\"type\":\"GlyphRenderer\"},{\"attributes\":{\"overlay\":{\"id\":\"164116\",\"type\":\"BoxAnnotation\"}},\"id\":\"164089\",\"type\":\"BoxZoomTool\"},{\"attributes\":{\"fill_color\":{\"value\":\"#1f77b4\"},\"line_color\":{\"value\":\"#1f77b4\"},\"top\":{\"field\":\"count\"},\"width\":{\"value\":0.9},\"x\":{\"field\":\"month\"}},\"id\":\"164105\",\"type\":\"VBar\"},{\"attributes\":{},\"id\":\"164085\",\"type\":\"BasicTicker\"},{\"attributes\":{\"callback\":null,\"start\":0},\"id\":\"164074\",\"type\":\"DataRange1d\"},{\"attributes\":{\"callback\":null,\"factors\":[\"Abril\",\"Mar\\u00e7o\",\"Fevereiro\",\"Maio\",\"Janeiro\",\"Junho\",\"Dezembro\",\"Setembro\",\"Novembro\",\"Agosto\",\"Outubro\",\"Julho\"]},\"id\":\"164072\",\"type\":\"FactorRange\"},{\"attributes\":{\"dimension\":1,\"grid_line_alpha\":0.25,\"grid_line_color\":\"#E0E0E0\",\"ticker\":{\"id\":\"164085\",\"type\":\"BasicTicker\"}},\"id\":\"164088\",\"type\":\"Grid\"},{\"attributes\":{\"callback\":null,\"tooltips\":[[\"Month\",\"@month\"],[\"Fires\",\"@count{int}\"]]},\"id\":\"164092\",\"type\":\"HoverTool\"},{\"attributes\":{},\"id\":\"164076\",\"type\":\"CategoricalScale\"},{\"attributes\":{\"grid_line_alpha\":0.25,\"grid_line_color\":null,\"ticker\":{\"id\":\"164081\",\"type\":\"CategoricalTicker\"}},\"id\":\"164083\",\"type\":\"Grid\"},{\"attributes\":{\"source\":{\"id\":\"164068\",\"type\":\"ColumnDataSource\"}},\"id\":\"164108\",\"type\":\"CDSView\"},{\"attributes\":{},\"id\":\"164095\",\"type\":\"WheelZoomTool\"}],\"root_ids\":[\"164069\"]},\"title\":\"Bokeh Application\",\"version\":\"1.3.4\"}};\n",
       "  var render_items = [{\"docid\":\"76452a2b-c220-4f47-87ea-91d53bca4409\",\"roots\":{\"164069\":\"bbdd72ba-08c1-4466-bfa1-ec864ffc7faf\"}}];\n",
       "  root.Bokeh.embed.embed_items_notebook(docs_json, render_items);\n",
       "\n",
       "  }\n",
       "  if (root.Bokeh !== undefined) {\n",
       "    embed_document(root);\n",
       "  } else {\n",
       "    var attempts = 0;\n",
       "    var timer = setInterval(function(root) {\n",
       "      if (root.Bokeh !== undefined) {\n",
       "        embed_document(root);\n",
       "        clearInterval(timer);\n",
       "      }\n",
       "      attempts++;\n",
       "      if (attempts > 100) {\n",
       "        console.log(\"Bokeh: ERROR: Unable to run BokehJS code because BokehJS library is missing\");\n",
       "        clearInterval(timer);\n",
       "      }\n",
       "    }, 10, root)\n",
       "  }\n",
       "})(window);"
      ],
      "application/vnd.bokehjs_exec.v0+json": ""
     },
     "metadata": {
      "application/vnd.bokehjs_exec.v0+json": {
       "id": "164069"
      }
     },
     "output_type": "display_data"
    }
   ],
   "source": [
    "data = df.groupby('month')['number'].sum().reset_index(\n",
    "    name='count').sort_values('count')\n",
    "\n",
    "source = ColumnDataSource(data)\n",
    "\n",
    "p = figure(x_range=data['month'], plot_height=HEIGHT, plot_width=WIDTH,\n",
    "           title=\"Total fires by month\", tools=_tools_to_show)\n",
    "\n",
    "p.vbar(x='month', top='count', width=0.9, source=source)\n",
    "\n",
    "p.xgrid.grid_line_color = None\n",
    "p.xaxis.major_label_orientation = pi/4\n",
    "p.y_range.start = 0\n",
    "\n",
    "hover = p.select(dict(type=HoverTool))\n",
    "hover.tooltips = [\n",
    "    (\"Month\", \"@month\"),\n",
    "    (\"Fires\", \"@count{int}\")]\n",
    "\n",
    "show(p)"
   ]
  },
  {
   "cell_type": "code",
   "execution_count": 1709,
   "metadata": {},
   "outputs": [
    {
     "data": {
      "text/html": [
       "\n",
       "\n",
       "\n",
       "\n",
       "\n",
       "\n",
       "  <div class=\"bk-root\" id=\"4ed3fa8d-e9f5-46ea-a9fd-31e1f4e1f663\" data-root-id=\"164191\"></div>\n"
      ]
     },
     "metadata": {},
     "output_type": "display_data"
    },
    {
     "data": {
      "application/javascript": [
       "(function(root) {\n",
       "  function embed_document(root) {\n",
       "    \n",
       "  var docs_json = {\"8aff4e88-be23-4876-9748-d509e45391af\":{\"roots\":{\"references\":[{\"attributes\":{\"background_fill_color\":{\"value\":\"#20262B\"},\"below\":[{\"id\":\"164202\",\"type\":\"LinearAxis\"}],\"border_fill_color\":{\"value\":\"#15191C\"},\"center\":[{\"id\":\"164206\",\"type\":\"Grid\"},{\"id\":\"164211\",\"type\":\"Grid\"},{\"id\":\"164241\",\"type\":\"Legend\"},{\"id\":\"164245\",\"type\":\"LabelSet\"}],\"left\":[{\"id\":\"164207\",\"type\":\"LinearAxis\"}],\"outline_line_alpha\":{\"value\":0.25},\"outline_line_color\":{\"value\":\"#E0E0E0\"},\"plot_height\":700,\"plot_width\":900,\"renderers\":[{\"id\":\"164233\",\"type\":\"GlyphRenderer\"}],\"title\":{\"id\":\"164192\",\"type\":\"Title\"},\"toolbar\":{\"id\":\"164219\",\"type\":\"Toolbar\"},\"x_range\":{\"id\":\"164194\",\"type\":\"Range1d\"},\"x_scale\":{\"id\":\"164198\",\"type\":\"LinearScale\"},\"y_range\":{\"id\":\"164196\",\"type\":\"DataRange1d\"},\"y_scale\":{\"id\":\"164200\",\"type\":\"LinearScale\"}},\"id\":\"164191\",\"subtype\":\"Figure\",\"type\":\"Plot\"},{\"attributes\":{\"data_source\":{\"id\":\"164229\",\"type\":\"ColumnDataSource\"},\"glyph\":{\"id\":\"164231\",\"type\":\"Wedge\"},\"hover_glyph\":null,\"muted_glyph\":null,\"nonselection_glyph\":{\"id\":\"164232\",\"type\":\"Wedge\"},\"selection_glyph\":null,\"view\":{\"id\":\"164234\",\"type\":\"CDSView\"}},\"id\":\"164233\",\"type\":\"GlyphRenderer\"},{\"attributes\":{\"source\":{\"id\":\"164229\",\"type\":\"ColumnDataSource\"}},\"id\":\"164234\",\"type\":\"CDSView\"},{\"attributes\":{\"callback\":null},\"id\":\"164217\",\"type\":\"TapTool\"},{\"attributes\":{\"callback\":null,\"tooltips\":[[\"Month\",\"@month\"],[\"Fires\",\"@count\"],[\"Percentage\",\"@percentage%\"]]},\"id\":\"164215\",\"type\":\"HoverTool\"},{\"attributes\":{},\"id\":\"164198\",\"type\":\"LinearScale\"},{\"attributes\":{\"callback\":null,\"data\":{\"angle\":{\"__ndarray__\":\"zOdrwc430D/I7jTFTazRP2M9y0iZv9E/A0A+g4b70z/72YiXpnjbP1s/t4TaHOA/L/2ngSmN4D+JJAdM+dngP068XHc7meg/BgtlEHBU6T8gp99f6ILpPz8CAPNXj+o/\",\"dtype\":\"float64\",\"shape\":[12]},\"color\":[\"#3182bd\",\"#6baed6\",\"#9ecae1\",\"#c6dbef\",\"#e6550d\",\"#fd8d3c\",\"#fdae6b\",\"#fdd0a2\",\"#31a354\",\"#74c476\",\"#a1d99b\",\"#c7e9c0\"],\"count\":[\"                                        28188\",\"                                        30717\",\"                                        30848\",\"                                        34731\",\"                                        47747\",\"                                        56010\",\"                                        57535\",\"                                        58578\",\"                                        85508\",\"                                        88050\",\"                                        88681\",\"                                        92326\"],\"index\":[0,8,3,7,4,6,2,11,9,1,10,5],\"month\":[\"Abril\",\"Mar\\u00e7o\",\"Fevereiro\",\"Maio\",\"Janeiro\",\"Junho\",\"Dezembro\",\"Setembro\",\"Novembro\",\"Agosto\",\"Outubro\",\"Julho\"],\"percentage\":[4.03125,4.39453125,4.4140625,4.96875,6.83203125,8.015625,8.234375,8.3828125,12.234375,12.6015625,12.6875,13.2109375]},\"selected\":{\"id\":\"164279\",\"type\":\"Selection\"},\"selection_policy\":{\"id\":\"164278\",\"type\":\"UnionRenderers\"}},\"id\":\"164243\",\"type\":\"ColumnDataSource\"},{\"attributes\":{\"overlay\":{\"id\":\"164240\",\"type\":\"BoxAnnotation\"}},\"id\":\"164212\",\"type\":\"BoxZoomTool\"},{\"attributes\":{\"text\":\"Fires per month\",\"text_color\":{\"value\":\"#E0E0E0\"},\"text_font\":\"Helvetica\",\"text_font_size\":{\"value\":\"1.15em\"}},\"id\":\"164192\",\"type\":\"Title\"},{\"attributes\":{\"bottom_units\":\"screen\",\"fill_alpha\":{\"value\":0.5},\"fill_color\":{\"value\":\"lightgrey\"},\"left_units\":\"screen\",\"level\":\"overlay\",\"line_alpha\":{\"value\":1.0},\"line_color\":{\"value\":\"black\"},\"line_dash\":[4,4],\"line_width\":{\"value\":2},\"render_mode\":\"css\",\"right_units\":\"screen\",\"top_units\":\"screen\"},\"id\":\"164240\",\"type\":\"BoxAnnotation\"},{\"attributes\":{\"field\":\"angle\",\"include_zero\":true},\"id\":\"164227\",\"type\":\"CumSum\"},{\"attributes\":{\"callback\":null,\"start\":-0.5},\"id\":\"164194\",\"type\":\"Range1d\"},{\"attributes\":{},\"id\":\"164203\",\"type\":\"BasicTicker\"},{\"attributes\":{\"end_angle\":{\"expr\":{\"id\":\"164228\",\"type\":\"CumSum\"},\"units\":\"rad\"},\"fill_color\":{\"field\":\"color\"},\"line_color\":{\"value\":\"white\"},\"radius\":{\"units\":\"data\",\"value\":0.3},\"start_angle\":{\"expr\":{\"id\":\"164227\",\"type\":\"CumSum\"},\"units\":\"rad\"},\"x\":{\"value\":0},\"y\":{\"value\":1}},\"id\":\"164231\",\"type\":\"Wedge\"},{\"attributes\":{\"grid_line_alpha\":0.25,\"grid_line_color\":null,\"ticker\":{\"id\":\"164203\",\"type\":\"BasicTicker\"}},\"id\":\"164206\",\"type\":\"Grid\"},{\"attributes\":{},\"id\":\"164200\",\"type\":\"LinearScale\"},{\"attributes\":{\"callback\":null,\"data\":{\"angle\":{\"__ndarray__\":\"zOdrwc430D/I7jTFTazRP2M9y0iZv9E/A0A+g4b70z/72YiXpnjbP1s/t4TaHOA/L/2ngSmN4D+JJAdM+dngP068XHc7meg/BgtlEHBU6T8gp99f6ILpPz8CAPNXj+o/\",\"dtype\":\"float64\",\"shape\":[12]},\"color\":[\"#3182bd\",\"#6baed6\",\"#9ecae1\",\"#c6dbef\",\"#e6550d\",\"#fd8d3c\",\"#fdae6b\",\"#fdd0a2\",\"#31a354\",\"#74c476\",\"#a1d99b\",\"#c7e9c0\"],\"count\":{\"__ndarray__\":\"HG4AAP13AACAeAAAq4cAAIO6AADK2gAAv+AAANLkAAAETgEA8lcBAGlaAQCmaAEA\",\"dtype\":\"int32\",\"shape\":[12]},\"index\":[0,8,3,7,4,6,2,11,9,1,10,5],\"month\":[\"Abril\",\"Mar\\u00e7o\",\"Fevereiro\",\"Maio\",\"Janeiro\",\"Junho\",\"Dezembro\",\"Setembro\",\"Novembro\",\"Agosto\",\"Outubro\",\"Julho\"],\"percentage\":[4.03125,4.39453125,4.4140625,4.96875,6.83203125,8.015625,8.234375,8.3828125,12.234375,12.6015625,12.6875,13.2109375]},\"selected\":{\"id\":\"164281\",\"type\":\"Selection\"},\"selection_policy\":{\"id\":\"164280\",\"type\":\"UnionRenderers\"}},\"id\":\"164229\",\"type\":\"ColumnDataSource\"},{\"attributes\":{},\"id\":\"164281\",\"type\":\"Selection\"},{\"attributes\":{\"end_angle\":{\"expr\":{\"id\":\"164228\",\"type\":\"CumSum\"},\"units\":\"rad\"},\"fill_alpha\":{\"value\":0.1},\"fill_color\":{\"value\":\"#1f77b4\"},\"line_alpha\":{\"value\":0.1},\"line_color\":{\"value\":\"#1f77b4\"},\"radius\":{\"units\":\"data\",\"value\":0.3},\"start_angle\":{\"expr\":{\"id\":\"164227\",\"type\":\"CumSum\"},\"units\":\"rad\"},\"x\":{\"value\":0},\"y\":{\"value\":1}},\"id\":\"164232\",\"type\":\"Wedge\"},{\"attributes\":{\"axis_label\":null,\"axis_label_standoff\":10,\"axis_label_text_color\":{\"value\":\"#E0E0E0\"},\"axis_label_text_font\":\"Helvetica\",\"axis_label_text_font_size\":{\"value\":\"1.25em\"},\"axis_label_text_font_style\":\"normal\",\"axis_line_alpha\":{\"value\":0},\"axis_line_color\":{\"value\":\"#E0E0E0\"},\"formatter\":{\"id\":\"164238\",\"type\":\"BasicTickFormatter\"},\"major_label_text_color\":{\"value\":\"#E0E0E0\"},\"major_label_text_font\":\"Helvetica\",\"major_label_text_font_size\":{\"value\":\"1.025em\"},\"major_tick_line_alpha\":{\"value\":0},\"major_tick_line_color\":{\"value\":\"#E0E0E0\"},\"minor_tick_line_alpha\":{\"value\":0},\"minor_tick_line_color\":{\"value\":\"#E0E0E0\"},\"ticker\":{\"id\":\"164203\",\"type\":\"BasicTicker\"},\"visible\":false},\"id\":\"164202\",\"type\":\"LinearAxis\"},{\"attributes\":{\"background_fill_alpha\":{\"value\":0.25},\"background_fill_color\":{\"value\":\"#20262B\"},\"border_line_alpha\":{\"value\":0},\"glyph_width\":15,\"items\":[{\"id\":\"164242\",\"type\":\"LegendItem\"}],\"label_standoff\":8,\"label_text_color\":{\"value\":\"#E0E0E0\"},\"label_text_font\":\"Helvetica\",\"label_text_font_size\":{\"value\":\"1.025em\"},\"spacing\":8},\"id\":\"164241\",\"type\":\"Legend\"},{\"attributes\":{\"active_drag\":\"auto\",\"active_inspect\":\"auto\",\"active_multi\":null,\"active_scroll\":\"auto\",\"active_tap\":\"auto\",\"tools\":[{\"id\":\"164212\",\"type\":\"BoxZoomTool\"},{\"id\":\"164213\",\"type\":\"PanTool\"},{\"id\":\"164214\",\"type\":\"SaveTool\"},{\"id\":\"164215\",\"type\":\"HoverTool\"},{\"id\":\"164216\",\"type\":\"ResetTool\"},{\"id\":\"164217\",\"type\":\"TapTool\"},{\"id\":\"164218\",\"type\":\"WheelZoomTool\"}]},\"id\":\"164219\",\"type\":\"Toolbar\"},{\"attributes\":{},\"id\":\"164213\",\"type\":\"PanTool\"},{\"attributes\":{\"angle\":{\"expr\":{\"id\":\"164244\",\"type\":\"CumSum\"},\"units\":\"rad\"},\"level\":\"glyph\",\"source\":{\"id\":\"164243\",\"type\":\"ColumnDataSource\"},\"text\":{\"field\":\"count\"},\"x\":{\"value\":0},\"y\":{\"value\":1}},\"id\":\"164245\",\"type\":\"LabelSet\"},{\"attributes\":{\"label\":{\"field\":\"month\"},\"renderers\":[{\"id\":\"164233\",\"type\":\"GlyphRenderer\"}]},\"id\":\"164242\",\"type\":\"LegendItem\"},{\"attributes\":{\"field\":\"angle\"},\"id\":\"164228\",\"type\":\"CumSum\"},{\"attributes\":{},\"id\":\"164278\",\"type\":\"UnionRenderers\"},{\"attributes\":{\"field\":\"angle\",\"include_zero\":true},\"id\":\"164244\",\"type\":\"CumSum\"},{\"attributes\":{\"dimension\":1,\"grid_line_alpha\":0.25,\"grid_line_color\":null,\"ticker\":{\"id\":\"164208\",\"type\":\"BasicTicker\"}},\"id\":\"164211\",\"type\":\"Grid\"},{\"attributes\":{},\"id\":\"164236\",\"type\":\"BasicTickFormatter\"},{\"attributes\":{},\"id\":\"164214\",\"type\":\"SaveTool\"},{\"attributes\":{},\"id\":\"164218\",\"type\":\"WheelZoomTool\"},{\"attributes\":{},\"id\":\"164216\",\"type\":\"ResetTool\"},{\"attributes\":{},\"id\":\"164280\",\"type\":\"UnionRenderers\"},{\"attributes\":{},\"id\":\"164208\",\"type\":\"BasicTicker\"},{\"attributes\":{\"axis_label\":null,\"axis_label_standoff\":10,\"axis_label_text_color\":{\"value\":\"#E0E0E0\"},\"axis_label_text_font\":\"Helvetica\",\"axis_label_text_font_size\":{\"value\":\"1.25em\"},\"axis_label_text_font_style\":\"normal\",\"axis_line_alpha\":{\"value\":0},\"axis_line_color\":{\"value\":\"#E0E0E0\"},\"formatter\":{\"id\":\"164236\",\"type\":\"BasicTickFormatter\"},\"major_label_text_color\":{\"value\":\"#E0E0E0\"},\"major_label_text_font\":\"Helvetica\",\"major_label_text_font_size\":{\"value\":\"1.025em\"},\"major_tick_line_alpha\":{\"value\":0},\"major_tick_line_color\":{\"value\":\"#E0E0E0\"},\"minor_tick_line_alpha\":{\"value\":0},\"minor_tick_line_color\":{\"value\":\"#E0E0E0\"},\"ticker\":{\"id\":\"164208\",\"type\":\"BasicTicker\"},\"visible\":false},\"id\":\"164207\",\"type\":\"LinearAxis\"},{\"attributes\":{},\"id\":\"164238\",\"type\":\"BasicTickFormatter\"},{\"attributes\":{},\"id\":\"164279\",\"type\":\"Selection\"},{\"attributes\":{\"callback\":null},\"id\":\"164196\",\"type\":\"DataRange1d\"}],\"root_ids\":[\"164191\"]},\"title\":\"Bokeh Application\",\"version\":\"1.3.4\"}};\n",
       "  var render_items = [{\"docid\":\"8aff4e88-be23-4876-9748-d509e45391af\",\"roots\":{\"164191\":\"4ed3fa8d-e9f5-46ea-a9fd-31e1f4e1f663\"}}];\n",
       "  root.Bokeh.embed.embed_items_notebook(docs_json, render_items);\n",
       "\n",
       "  }\n",
       "  if (root.Bokeh !== undefined) {\n",
       "    embed_document(root);\n",
       "  } else {\n",
       "    var attempts = 0;\n",
       "    var timer = setInterval(function(root) {\n",
       "      if (root.Bokeh !== undefined) {\n",
       "        embed_document(root);\n",
       "        clearInterval(timer);\n",
       "      }\n",
       "      attempts++;\n",
       "      if (attempts > 100) {\n",
       "        console.log(\"Bokeh: ERROR: Unable to run BokehJS code because BokehJS library is missing\");\n",
       "        clearInterval(timer);\n",
       "      }\n",
       "    }, 10, root)\n",
       "  }\n",
       "})(window);"
      ],
      "application/vnd.bokehjs_exec.v0+json": ""
     },
     "metadata": {
      "application/vnd.bokehjs_exec.v0+json": {
       "id": "164191"
      }
     },
     "output_type": "display_data"
    }
   ],
   "source": [
    "TOOLTIPS = [\n",
    "    (\"Month\", \"@month\"),\n",
    "    (\"Fires\", \"@count\"),\n",
    "    (\"Percentage\", \"@percentage%\")\n",
    "]\n",
    "\n",
    "# Bokeh only supports 20 colors so here we slice our original df to accomodate that.\n",
    "dummy_data = data\n",
    "\n",
    "dummy_data[\"count\"] = dummy_data['count'].astype(int)\n",
    "dummy_data['percentage'] = dummy_data['count'].apply(\n",
    "    lambda x: (x/sum(dummy_data['count']))*100).astype(dtype='float16')\n",
    "# dummy_data['percentage'] = dummy_data['percentage']\n",
    "\n",
    "dummy_data['angle'] = dummy_data['count']/dummy_data['count'].sum() * 2*pi\n",
    "dummy_data['color'] = Category20c[len(dummy_data)]\n",
    "\n",
    "p = figure(plot_height=HEIGHT, plot_width=WIDTH, title=\"Fires per month\",\n",
    "           tools=_tools_to_show, tooltips=TOOLTIPS, x_range=(-0.5, 1.0))\n",
    "\n",
    "p.wedge(x=0, y=1, radius=0.3,\n",
    "        start_angle=cumsum('angle', include_zero=True), end_angle=cumsum('angle'),\n",
    "        line_color=\"white\", fill_color='color', legend='month', source=dummy_data)\n",
    "\n",
    "dummy_data[\"count\"] = dummy_data['count'].astype(str)\n",
    "dummy_data[\"count\"] = dummy_data[\"count\"].str.pad(45, side=\"left\")\n",
    "source = ColumnDataSource(dummy_data)\n",
    "\n",
    "labels = LabelSet(x=0, y=1, text='count', level='glyph',\n",
    "                  angle=cumsum('angle', include_zero=True), source=source, render_mode='canvas')\n",
    "\n",
    "p.add_layout(labels)\n",
    "\n",
    "p.axis.axis_label = None\n",
    "p.axis.visible = False\n",
    "p.grid.grid_line_color = None\n",
    "\n",
    "show(p)\n",
    "\n",
    "dummy_data[\"count\"] = dummy_data['count'].astype(int)"
   ]
  },
  {
   "cell_type": "markdown",
   "metadata": {},
   "source": [
    "## Total Fires per state"
   ]
  },
  {
   "cell_type": "code",
   "execution_count": 1710,
   "metadata": {},
   "outputs": [
    {
     "data": {
      "text/html": [
       "\n",
       "\n",
       "\n",
       "\n",
       "\n",
       "\n",
       "  <div class=\"bk-root\" id=\"3f71ff5f-2a4f-4ef4-8a25-7122a4394cf6\" data-root-id=\"164344\"></div>\n"
      ]
     },
     "metadata": {},
     "output_type": "display_data"
    },
    {
     "data": {
      "application/javascript": [
       "(function(root) {\n",
       "  function embed_document(root) {\n",
       "    \n",
       "  var docs_json = {\"6406139d-697b-4df4-aecd-7fa7164e3d24\":{\"roots\":{\"references\":[{\"attributes\":{\"background_fill_color\":{\"value\":\"#20262B\"},\"below\":[{\"id\":\"164355\",\"type\":\"CategoricalAxis\"}],\"border_fill_color\":{\"value\":\"#15191C\"},\"center\":[{\"id\":\"164358\",\"type\":\"Grid\"},{\"id\":\"164363\",\"type\":\"Grid\"}],\"left\":[{\"id\":\"164359\",\"type\":\"LinearAxis\"}],\"outline_line_alpha\":{\"value\":0.25},\"outline_line_color\":{\"value\":\"#E0E0E0\"},\"plot_height\":700,\"plot_width\":900,\"renderers\":[{\"id\":\"164382\",\"type\":\"GlyphRenderer\"}],\"title\":{\"id\":\"164345\",\"type\":\"Title\"},\"toolbar\":{\"id\":\"164371\",\"type\":\"Toolbar\"},\"x_range\":{\"id\":\"164347\",\"type\":\"FactorRange\"},\"x_scale\":{\"id\":\"164351\",\"type\":\"CategoricalScale\"},\"y_range\":{\"id\":\"164349\",\"type\":\"DataRange1d\"},\"y_scale\":{\"id\":\"164353\",\"type\":\"LinearScale\"}},\"id\":\"164344\",\"subtype\":\"Figure\",\"type\":\"Plot\"},{\"attributes\":{},\"id\":\"164387\",\"type\":\"CategoricalTickFormatter\"},{\"attributes\":{},\"id\":\"164365\",\"type\":\"PanTool\"},{\"attributes\":{},\"id\":\"164385\",\"type\":\"BasicTickFormatter\"},{\"attributes\":{\"source\":{\"id\":\"164343\",\"type\":\"ColumnDataSource\"}},\"id\":\"164383\",\"type\":\"CDSView\"},{\"attributes\":{\"callback\":null},\"id\":\"164369\",\"type\":\"TapTool\"},{\"attributes\":{\"callback\":null,\"data\":{\"count\":{\"__ndarray__\":\"pQwAAOkNAAAkEgAAkhkAACBIAAA9TwAAR1UAACdfAABBXwAAsl8AAMBfAAApYgAA3HYAALp3AACrgwAAY5IAAD+TAACrkwAAyq4AAGiwAACxxwAA08wAAPZ3AQA=\",\"dtype\":\"int32\",\"shape\":[23]},\"index\":[21,6,1,7,0,17,2,19,18,14,13,9,5,3,22,11,8,15,4,16,20,12,10],\"state\":[\"Sergipe\",\"Distrito Federal\",\"Alagoas\",\"Espirito Santo\",\"Acre\",\"Rondonia\",\"Amapa\",\"Santa Catarina\",\"Roraima\",\"Pernambuco\",\"Par\\u00e1\",\"Maranhao\",\"Ceara\",\"Amazonas\",\"Tocantins\",\"Minas Gerais\",\"Goias\",\"Piau\",\"Bahia\",\"Rio\",\"Sao Paulo\",\"Paraiba\",\"Mato Grosso\"]},\"selected\":{\"id\":\"164390\",\"type\":\"Selection\"},\"selection_policy\":{\"id\":\"164389\",\"type\":\"UnionRenderers\"}},\"id\":\"164343\",\"type\":\"ColumnDataSource\"},{\"attributes\":{\"axis_label_standoff\":10,\"axis_label_text_color\":{\"value\":\"#E0E0E0\"},\"axis_label_text_font\":\"Helvetica\",\"axis_label_text_font_size\":{\"value\":\"1.25em\"},\"axis_label_text_font_style\":\"normal\",\"axis_line_alpha\":{\"value\":0},\"axis_line_color\":{\"value\":\"#E0E0E0\"},\"formatter\":{\"id\":\"164385\",\"type\":\"BasicTickFormatter\"},\"major_label_text_color\":{\"value\":\"#E0E0E0\"},\"major_label_text_font\":\"Helvetica\",\"major_label_text_font_size\":{\"value\":\"1.025em\"},\"major_tick_line_alpha\":{\"value\":0},\"major_tick_line_color\":{\"value\":\"#E0E0E0\"},\"minor_tick_line_alpha\":{\"value\":0},\"minor_tick_line_color\":{\"value\":\"#E0E0E0\"},\"ticker\":{\"id\":\"164360\",\"type\":\"BasicTicker\"}},\"id\":\"164359\",\"type\":\"LinearAxis\"},{\"attributes\":{\"text\":\"Total fires by state\",\"text_color\":{\"value\":\"#E0E0E0\"},\"text_font\":\"Helvetica\",\"text_font_size\":{\"value\":\"1.15em\"}},\"id\":\"164345\",\"type\":\"Title\"},{\"attributes\":{},\"id\":\"164356\",\"type\":\"CategoricalTicker\"},{\"attributes\":{},\"id\":\"164389\",\"type\":\"UnionRenderers\"},{\"attributes\":{\"bottom_units\":\"screen\",\"fill_alpha\":{\"value\":0.5},\"fill_color\":{\"value\":\"lightgrey\"},\"left_units\":\"screen\",\"level\":\"overlay\",\"line_alpha\":{\"value\":1.0},\"line_color\":{\"value\":\"black\"},\"line_dash\":[4,4],\"line_width\":{\"value\":2},\"render_mode\":\"css\",\"right_units\":\"screen\",\"top_units\":\"screen\"},\"id\":\"164391\",\"type\":\"BoxAnnotation\"},{\"attributes\":{},\"id\":\"164360\",\"type\":\"BasicTicker\"},{\"attributes\":{\"callback\":null,\"tooltips\":[[\"State\",\"@state\"],[\"Fires\",\"@count{int}\"]]},\"id\":\"164367\",\"type\":\"HoverTool\"},{\"attributes\":{\"fill_alpha\":{\"value\":0.1},\"fill_color\":{\"value\":\"#1f77b4\"},\"line_alpha\":{\"value\":0.1},\"line_color\":{\"value\":\"#1f77b4\"},\"top\":{\"field\":\"count\"},\"width\":{\"value\":0.9},\"x\":{\"field\":\"state\"}},\"id\":\"164381\",\"type\":\"VBar\"},{\"attributes\":{\"fill_color\":{\"value\":\"#1f77b4\"},\"line_color\":{\"value\":\"#1f77b4\"},\"top\":{\"field\":\"count\"},\"width\":{\"value\":0.9},\"x\":{\"field\":\"state\"}},\"id\":\"164380\",\"type\":\"VBar\"},{\"attributes\":{\"callback\":null,\"start\":3000},\"id\":\"164349\",\"type\":\"DataRange1d\"},{\"attributes\":{\"grid_line_alpha\":0.25,\"grid_line_color\":null,\"ticker\":{\"id\":\"164356\",\"type\":\"CategoricalTicker\"}},\"id\":\"164358\",\"type\":\"Grid\"},{\"attributes\":{\"active_drag\":\"auto\",\"active_inspect\":\"auto\",\"active_multi\":null,\"active_scroll\":\"auto\",\"active_tap\":\"auto\",\"tools\":[{\"id\":\"164364\",\"type\":\"BoxZoomTool\"},{\"id\":\"164365\",\"type\":\"PanTool\"},{\"id\":\"164366\",\"type\":\"SaveTool\"},{\"id\":\"164367\",\"type\":\"HoverTool\"},{\"id\":\"164368\",\"type\":\"ResetTool\"},{\"id\":\"164369\",\"type\":\"TapTool\"},{\"id\":\"164370\",\"type\":\"WheelZoomTool\"}]},\"id\":\"164371\",\"type\":\"Toolbar\"},{\"attributes\":{\"dimension\":1,\"grid_line_alpha\":0.25,\"grid_line_color\":\"#E0E0E0\",\"ticker\":{\"id\":\"164360\",\"type\":\"BasicTicker\"}},\"id\":\"164363\",\"type\":\"Grid\"},{\"attributes\":{},\"id\":\"164353\",\"type\":\"LinearScale\"},{\"attributes\":{},\"id\":\"164368\",\"type\":\"ResetTool\"},{\"attributes\":{\"data_source\":{\"id\":\"164343\",\"type\":\"ColumnDataSource\"},\"glyph\":{\"id\":\"164380\",\"type\":\"VBar\"},\"hover_glyph\":null,\"muted_glyph\":null,\"nonselection_glyph\":{\"id\":\"164381\",\"type\":\"VBar\"},\"selection_glyph\":null,\"view\":{\"id\":\"164383\",\"type\":\"CDSView\"}},\"id\":\"164382\",\"type\":\"GlyphRenderer\"},{\"attributes\":{\"overlay\":{\"id\":\"164391\",\"type\":\"BoxAnnotation\"}},\"id\":\"164364\",\"type\":\"BoxZoomTool\"},{\"attributes\":{},\"id\":\"164366\",\"type\":\"SaveTool\"},{\"attributes\":{\"callback\":null,\"factors\":[\"Sergipe\",\"Distrito Federal\",\"Alagoas\",\"Espirito Santo\",\"Acre\",\"Rondonia\",\"Amapa\",\"Santa Catarina\",\"Roraima\",\"Pernambuco\",\"Par\\u00e1\",\"Maranhao\",\"Ceara\",\"Amazonas\",\"Tocantins\",\"Minas Gerais\",\"Goias\",\"Piau\",\"Bahia\",\"Rio\",\"Sao Paulo\",\"Paraiba\",\"Mato Grosso\"]},\"id\":\"164347\",\"type\":\"FactorRange\"},{\"attributes\":{},\"id\":\"164351\",\"type\":\"CategoricalScale\"},{\"attributes\":{\"axis_label_standoff\":10,\"axis_label_text_color\":{\"value\":\"#E0E0E0\"},\"axis_label_text_font\":\"Helvetica\",\"axis_label_text_font_size\":{\"value\":\"1.25em\"},\"axis_label_text_font_style\":\"normal\",\"axis_line_alpha\":{\"value\":0},\"axis_line_color\":{\"value\":\"#E0E0E0\"},\"formatter\":{\"id\":\"164387\",\"type\":\"CategoricalTickFormatter\"},\"major_label_orientation\":0.7853981633974483,\"major_label_text_color\":{\"value\":\"#E0E0E0\"},\"major_label_text_font\":\"Helvetica\",\"major_label_text_font_size\":{\"value\":\"1.025em\"},\"major_tick_line_alpha\":{\"value\":0},\"major_tick_line_color\":{\"value\":\"#E0E0E0\"},\"minor_tick_line_alpha\":{\"value\":0},\"minor_tick_line_color\":{\"value\":\"#E0E0E0\"},\"ticker\":{\"id\":\"164356\",\"type\":\"CategoricalTicker\"}},\"id\":\"164355\",\"type\":\"CategoricalAxis\"},{\"attributes\":{},\"id\":\"164370\",\"type\":\"WheelZoomTool\"},{\"attributes\":{},\"id\":\"164390\",\"type\":\"Selection\"}],\"root_ids\":[\"164344\"]},\"title\":\"Bokeh Application\",\"version\":\"1.3.4\"}};\n",
       "  var render_items = [{\"docid\":\"6406139d-697b-4df4-aecd-7fa7164e3d24\",\"roots\":{\"164344\":\"3f71ff5f-2a4f-4ef4-8a25-7122a4394cf6\"}}];\n",
       "  root.Bokeh.embed.embed_items_notebook(docs_json, render_items);\n",
       "\n",
       "  }\n",
       "  if (root.Bokeh !== undefined) {\n",
       "    embed_document(root);\n",
       "  } else {\n",
       "    var attempts = 0;\n",
       "    var timer = setInterval(function(root) {\n",
       "      if (root.Bokeh !== undefined) {\n",
       "        embed_document(root);\n",
       "        clearInterval(timer);\n",
       "      }\n",
       "      attempts++;\n",
       "      if (attempts > 100) {\n",
       "        console.log(\"Bokeh: ERROR: Unable to run BokehJS code because BokehJS library is missing\");\n",
       "        clearInterval(timer);\n",
       "      }\n",
       "    }, 10, root)\n",
       "  }\n",
       "})(window);"
      ],
      "application/vnd.bokehjs_exec.v0+json": ""
     },
     "metadata": {
      "application/vnd.bokehjs_exec.v0+json": {
       "id": "164344"
      }
     },
     "output_type": "display_data"
    }
   ],
   "source": [
    "data = df.groupby('state')['number'].sum().reset_index(\n",
    "    name='count').sort_values('count')\n",
    "\n",
    "data['state'] = data['state'].astype(str)\n",
    "data['count'] = data['count'].astype(int)\n",
    "\n",
    "source = ColumnDataSource(data)\n",
    "\n",
    "p = figure(x_range=data['state'], plot_height=HEIGHT, plot_width=WIDTH,\n",
    "           title=\"Total fires by state\", tools=_tools_to_show)\n",
    "\n",
    "p.vbar(x='state', top='count', width=0.9, source=source)\n",
    "\n",
    "p.xgrid.grid_line_color = None\n",
    "p.xaxis.major_label_orientation = pi/4\n",
    "p.y_range.start = 3000\n",
    "\n",
    "hover = p.select(dict(type=HoverTool))\n",
    "hover.tooltips = [\n",
    "    (\"State\", \"@state\"),\n",
    "    (\"Fires\", \"@count{int}\")\n",
    "]\n",
    "\n",
    "show(p)"
   ]
  },
  {
   "cell_type": "code",
   "execution_count": 1711,
   "metadata": {},
   "outputs": [
    {
     "data": {
      "text/html": [
       "\n",
       "\n",
       "\n",
       "\n",
       "\n",
       "\n",
       "  <div class=\"bk-root\" id=\"9829fc35-cdfc-40c3-84d4-e97c35f82b3d\" data-root-id=\"164484\"></div>\n"
      ]
     },
     "metadata": {},
     "output_type": "display_data"
    },
    {
     "data": {
      "application/javascript": [
       "(function(root) {\n",
       "  function embed_document(root) {\n",
       "    \n",
       "  var docs_json = {\"96aee6b8-4c2b-43fb-8b9b-02e16fc03474\":{\"roots\":{\"references\":[{\"attributes\":{\"background_fill_color\":{\"value\":\"#20262B\"},\"below\":[{\"id\":\"164495\",\"type\":\"LinearAxis\"}],\"border_fill_color\":{\"value\":\"#15191C\"},\"center\":[{\"id\":\"164499\",\"type\":\"Grid\"},{\"id\":\"164504\",\"type\":\"Grid\"},{\"id\":\"164534\",\"type\":\"Legend\"},{\"id\":\"164538\",\"type\":\"LabelSet\"}],\"left\":[{\"id\":\"164500\",\"type\":\"LinearAxis\"}],\"outline_line_alpha\":{\"value\":0.25},\"outline_line_color\":{\"value\":\"#E0E0E0\"},\"plot_height\":700,\"plot_width\":900,\"renderers\":[{\"id\":\"164526\",\"type\":\"GlyphRenderer\"}],\"title\":{\"id\":\"164485\",\"type\":\"Title\"},\"toolbar\":{\"id\":\"164512\",\"type\":\"Toolbar\"},\"x_range\":{\"id\":\"164487\",\"type\":\"Range1d\"},\"x_scale\":{\"id\":\"164491\",\"type\":\"LinearScale\"},\"y_range\":{\"id\":\"164489\",\"type\":\"DataRange1d\"},\"y_scale\":{\"id\":\"164493\",\"type\":\"LinearScale\"}},\"id\":\"164484\",\"subtype\":\"Figure\",\"type\":\"Plot\"},{\"attributes\":{\"active_drag\":\"auto\",\"active_inspect\":\"auto\",\"active_multi\":null,\"active_scroll\":\"auto\",\"active_tap\":\"auto\",\"tools\":[{\"id\":\"164505\",\"type\":\"BoxZoomTool\"},{\"id\":\"164506\",\"type\":\"PanTool\"},{\"id\":\"164507\",\"type\":\"SaveTool\"},{\"id\":\"164508\",\"type\":\"HoverTool\"},{\"id\":\"164509\",\"type\":\"ResetTool\"},{\"id\":\"164510\",\"type\":\"TapTool\"},{\"id\":\"164511\",\"type\":\"WheelZoomTool\"}]},\"id\":\"164512\",\"type\":\"Toolbar\"},{\"attributes\":{\"angle\":{\"expr\":{\"id\":\"164537\",\"type\":\"CumSum\"},\"units\":\"rad\"},\"level\":\"glyph\",\"source\":{\"id\":\"164536\",\"type\":\"ColumnDataSource\"},\"text\":{\"field\":\"count\"},\"x\":{\"value\":0},\"y\":{\"value\":1}},\"id\":\"164538\",\"type\":\"LabelSet\"},{\"attributes\":{\"callback\":null},\"id\":\"164510\",\"type\":\"TapTool\"},{\"attributes\":{\"callback\":null,\"start\":-0.5},\"id\":\"164487\",\"type\":\"Range1d\"},{\"attributes\":{\"field\":\"angle\",\"include_zero\":true},\"id\":\"164520\",\"type\":\"CumSum\"},{\"attributes\":{\"bottom_units\":\"screen\",\"fill_alpha\":{\"value\":0.5},\"fill_color\":{\"value\":\"lightgrey\"},\"left_units\":\"screen\",\"level\":\"overlay\",\"line_alpha\":{\"value\":1.0},\"line_color\":{\"value\":\"black\"},\"line_dash\":[4,4],\"line_width\":{\"value\":2},\"render_mode\":\"css\",\"right_units\":\"screen\",\"top_units\":\"screen\"},\"id\":\"164533\",\"type\":\"BoxAnnotation\"},{\"attributes\":{},\"id\":\"164493\",\"type\":\"LinearScale\"},{\"attributes\":{},\"id\":\"164509\",\"type\":\"ResetTool\"},{\"attributes\":{\"callback\":null},\"id\":\"164489\",\"type\":\"DataRange1d\"},{\"attributes\":{\"axis_label\":null,\"axis_label_standoff\":10,\"axis_label_text_color\":{\"value\":\"#E0E0E0\"},\"axis_label_text_font\":\"Helvetica\",\"axis_label_text_font_size\":{\"value\":\"1.25em\"},\"axis_label_text_font_style\":\"normal\",\"axis_line_alpha\":{\"value\":0},\"axis_line_color\":{\"value\":\"#E0E0E0\"},\"formatter\":{\"id\":\"164531\",\"type\":\"BasicTickFormatter\"},\"major_label_text_color\":{\"value\":\"#E0E0E0\"},\"major_label_text_font\":\"Helvetica\",\"major_label_text_font_size\":{\"value\":\"1.025em\"},\"major_tick_line_alpha\":{\"value\":0},\"major_tick_line_color\":{\"value\":\"#E0E0E0\"},\"minor_tick_line_alpha\":{\"value\":0},\"minor_tick_line_color\":{\"value\":\"#E0E0E0\"},\"ticker\":{\"id\":\"164496\",\"type\":\"BasicTicker\"},\"visible\":false},\"id\":\"164495\",\"type\":\"LinearAxis\"},{\"attributes\":{\"data_source\":{\"id\":\"164522\",\"type\":\"ColumnDataSource\"},\"glyph\":{\"id\":\"164524\",\"type\":\"Wedge\"},\"hover_glyph\":null,\"muted_glyph\":null,\"nonselection_glyph\":{\"id\":\"164525\",\"type\":\"Wedge\"},\"selection_glyph\":null,\"view\":{\"id\":\"164527\",\"type\":\"CDSView\"}},\"id\":\"164526\",\"type\":\"GlyphRenderer\"},{\"attributes\":{},\"id\":\"164496\",\"type\":\"BasicTicker\"},{\"attributes\":{},\"id\":\"164592\",\"type\":\"Selection\"},{\"attributes\":{\"text\":\"Total fires by state\",\"text_color\":{\"value\":\"#E0E0E0\"},\"text_font\":\"Helvetica\",\"text_font_size\":{\"value\":\"1.15em\"}},\"id\":\"164485\",\"type\":\"Title\"},{\"attributes\":{\"dimension\":1,\"grid_line_alpha\":0.25,\"grid_line_color\":null,\"ticker\":{\"id\":\"164501\",\"type\":\"BasicTicker\"}},\"id\":\"164504\",\"type\":\"Grid\"},{\"attributes\":{\"callback\":null,\"data\":{\"angle\":{\"__ndarray__\":\"xUhyBK2hrj+nMJrLqZnFPy4iOdAFu8c/FyR+MQaKyT/cKQZUHn/MP8/Qu7Dnhsw/sBIgJr+ozD+BMW5/8KzMP8nIzoO4Zc0/eKznhlfM0T+pV2Wmle3RPw2zCFhYt9M/QC+HbpLr1T8ZjxHjgwzWP61zY/KvHNY/kqiXIFgs2j/JlFFbVmraP79H5Kjy5t0/y6RIY7Wr3j8CG0qqBSbsPw==\",\"dtype\":\"float64\",\"shape\":[20]},\"color\":[\"#3182bd\",\"#6baed6\",\"#9ecae1\",\"#c6dbef\",\"#e6550d\",\"#fd8d3c\",\"#fdae6b\",\"#fdd0a2\",\"#31a354\",\"#74c476\",\"#a1d99b\",\"#c7e9c0\",\"#756bb1\",\"#9e9ac8\",\"#bcbddc\",\"#dadaeb\",\"#636363\",\"#969696\",\"#bdbdbd\",\"#d9d9d9\"],\"count\":{\"__ndarray__\":\"khkAACBIAAA9TwAAR1UAACdfAABBXwAAsl8AAMBfAAApYgAA3HYAALp3AACrgwAAY5IAAD+TAACrkwAAyq4AAGiwAACxxwAA08wAAPZ3AQA=\",\"dtype\":\"int32\",\"shape\":[20]},\"index\":[7,0,17,2,19,18,14,13,9,5,3,22,11,8,15,4,16,20,12,10],\"percentage\":[0.9521484375,2.685546875,2.951171875,3.17578125,3.54296875,3.546875,3.5625,3.56640625,3.654296875,4.42578125,4.45703125,4.90234375,5.44921875,5.484375,5.5,6.5078125,6.5703125,7.4375,7.62890625,14.0],\"state\":[\"Espirito Santo\",\"Acre\",\"Rondonia\",\"Amapa\",\"Santa Catarina\",\"Roraima\",\"Pernambuco\",\"Par\\u00e1\",\"Maranhao\",\"Ceara\",\"Amazonas\",\"Tocantins\",\"Minas Gerais\",\"Goias\",\"Piau\",\"Bahia\",\"Rio\",\"Sao Paulo\",\"Paraiba\",\"Mato Grosso\"]},\"selected\":{\"id\":\"164592\",\"type\":\"Selection\"},\"selection_policy\":{\"id\":\"164591\",\"type\":\"UnionRenderers\"}},\"id\":\"164522\",\"type\":\"ColumnDataSource\"},{\"attributes\":{\"end_angle\":{\"expr\":{\"id\":\"164521\",\"type\":\"CumSum\"},\"units\":\"rad\"},\"fill_alpha\":{\"value\":0.1},\"fill_color\":{\"value\":\"#1f77b4\"},\"line_alpha\":{\"value\":0.1},\"line_color\":{\"value\":\"#1f77b4\"},\"radius\":{\"units\":\"data\",\"value\":0.3},\"start_angle\":{\"expr\":{\"id\":\"164520\",\"type\":\"CumSum\"},\"units\":\"rad\"},\"x\":{\"value\":0},\"y\":{\"value\":1}},\"id\":\"164525\",\"type\":\"Wedge\"},{\"attributes\":{},\"id\":\"164501\",\"type\":\"BasicTicker\"},{\"attributes\":{},\"id\":\"164590\",\"type\":\"Selection\"},{\"attributes\":{\"background_fill_alpha\":{\"value\":0.25},\"background_fill_color\":{\"value\":\"#20262B\"},\"border_line_alpha\":{\"value\":0},\"glyph_width\":15,\"items\":[{\"id\":\"164535\",\"type\":\"LegendItem\"}],\"label_standoff\":8,\"label_text_color\":{\"value\":\"#E0E0E0\"},\"label_text_font\":\"Helvetica\",\"label_text_font_size\":{\"value\":\"1.025em\"},\"spacing\":8},\"id\":\"164534\",\"type\":\"Legend\"},{\"attributes\":{\"field\":\"angle\",\"include_zero\":true},\"id\":\"164537\",\"type\":\"CumSum\"},{\"attributes\":{},\"id\":\"164591\",\"type\":\"UnionRenderers\"},{\"attributes\":{\"axis_label\":null,\"axis_label_standoff\":10,\"axis_label_text_color\":{\"value\":\"#E0E0E0\"},\"axis_label_text_font\":\"Helvetica\",\"axis_label_text_font_size\":{\"value\":\"1.25em\"},\"axis_label_text_font_style\":\"normal\",\"axis_line_alpha\":{\"value\":0},\"axis_line_color\":{\"value\":\"#E0E0E0\"},\"formatter\":{\"id\":\"164529\",\"type\":\"BasicTickFormatter\"},\"major_label_text_color\":{\"value\":\"#E0E0E0\"},\"major_label_text_font\":\"Helvetica\",\"major_label_text_font_size\":{\"value\":\"1.025em\"},\"major_tick_line_alpha\":{\"value\":0},\"major_tick_line_color\":{\"value\":\"#E0E0E0\"},\"minor_tick_line_alpha\":{\"value\":0},\"minor_tick_line_color\":{\"value\":\"#E0E0E0\"},\"ticker\":{\"id\":\"164501\",\"type\":\"BasicTicker\"},\"visible\":false},\"id\":\"164500\",\"type\":\"LinearAxis\"},{\"attributes\":{\"callback\":null,\"data\":{\"angle\":{\"__ndarray__\":\"xUhyBK2hrj+nMJrLqZnFPy4iOdAFu8c/FyR+MQaKyT/cKQZUHn/MP8/Qu7Dnhsw/sBIgJr+ozD+BMW5/8KzMP8nIzoO4Zc0/eKznhlfM0T+pV2Wmle3RPw2zCFhYt9M/QC+HbpLr1T8ZjxHjgwzWP61zY/KvHNY/kqiXIFgs2j/JlFFbVmraP79H5Kjy5t0/y6RIY7Wr3j8CG0qqBSbsPw==\",\"dtype\":\"float64\",\"shape\":[20]},\"color\":[\"#3182bd\",\"#6baed6\",\"#9ecae1\",\"#c6dbef\",\"#e6550d\",\"#fd8d3c\",\"#fdae6b\",\"#fdd0a2\",\"#31a354\",\"#74c476\",\"#a1d99b\",\"#c7e9c0\",\"#756bb1\",\"#9e9ac8\",\"#bcbddc\",\"#dadaeb\",\"#636363\",\"#969696\",\"#bdbdbd\",\"#d9d9d9\"],\"count\":[\"                                         6546\",\"                                        18464\",\"                                        20285\",\"                                        21831\",\"                                        24359\",\"                                        24385\",\"                                        24498\",\"                                        24512\",\"                                        25129\",\"                                        30428\",\"                                        30650\",\"                                        33707\",\"                                        37475\",\"                                        37695\",\"                                        37803\",\"                                        44746\",\"                                        45160\",\"                                        51121\",\"                                        52435\",\"                                        96246\"],\"index\":[7,0,17,2,19,18,14,13,9,5,3,22,11,8,15,4,16,20,12,10],\"percentage\":[0.9521484375,2.685546875,2.951171875,3.17578125,3.54296875,3.546875,3.5625,3.56640625,3.654296875,4.42578125,4.45703125,4.90234375,5.44921875,5.484375,5.5,6.5078125,6.5703125,7.4375,7.62890625,14.0],\"state\":[\"Espirito Santo\",\"Acre\",\"Rondonia\",\"Amapa\",\"Santa Catarina\",\"Roraima\",\"Pernambuco\",\"Par\\u00e1\",\"Maranhao\",\"Ceara\",\"Amazonas\",\"Tocantins\",\"Minas Gerais\",\"Goias\",\"Piau\",\"Bahia\",\"Rio\",\"Sao Paulo\",\"Paraiba\",\"Mato Grosso\"]},\"selected\":{\"id\":\"164590\",\"type\":\"Selection\"},\"selection_policy\":{\"id\":\"164589\",\"type\":\"UnionRenderers\"}},\"id\":\"164536\",\"type\":\"ColumnDataSource\"},{\"attributes\":{\"source\":{\"id\":\"164522\",\"type\":\"ColumnDataSource\"}},\"id\":\"164527\",\"type\":\"CDSView\"},{\"attributes\":{},\"id\":\"164531\",\"type\":\"BasicTickFormatter\"},{\"attributes\":{\"grid_line_alpha\":0.25,\"grid_line_color\":null,\"ticker\":{\"id\":\"164496\",\"type\":\"BasicTicker\"}},\"id\":\"164499\",\"type\":\"Grid\"},{\"attributes\":{},\"id\":\"164511\",\"type\":\"WheelZoomTool\"},{\"attributes\":{\"overlay\":{\"id\":\"164533\",\"type\":\"BoxAnnotation\"}},\"id\":\"164505\",\"type\":\"BoxZoomTool\"},{\"attributes\":{\"field\":\"angle\"},\"id\":\"164521\",\"type\":\"CumSum\"},{\"attributes\":{\"callback\":null,\"tooltips\":[[\"State\",\"@state\"],[\"Fires\",\"@count\"],[\"Percentage\",\"@percentage%\"]]},\"id\":\"164508\",\"type\":\"HoverTool\"},{\"attributes\":{\"label\":{\"field\":\"state\"},\"renderers\":[{\"id\":\"164526\",\"type\":\"GlyphRenderer\"}]},\"id\":\"164535\",\"type\":\"LegendItem\"},{\"attributes\":{},\"id\":\"164507\",\"type\":\"SaveTool\"},{\"attributes\":{},\"id\":\"164491\",\"type\":\"LinearScale\"},{\"attributes\":{},\"id\":\"164589\",\"type\":\"UnionRenderers\"},{\"attributes\":{\"end_angle\":{\"expr\":{\"id\":\"164521\",\"type\":\"CumSum\"},\"units\":\"rad\"},\"fill_color\":{\"field\":\"color\"},\"line_color\":{\"value\":\"white\"},\"radius\":{\"units\":\"data\",\"value\":0.3},\"start_angle\":{\"expr\":{\"id\":\"164520\",\"type\":\"CumSum\"},\"units\":\"rad\"},\"x\":{\"value\":0},\"y\":{\"value\":1}},\"id\":\"164524\",\"type\":\"Wedge\"},{\"attributes\":{},\"id\":\"164506\",\"type\":\"PanTool\"},{\"attributes\":{},\"id\":\"164529\",\"type\":\"BasicTickFormatter\"}],\"root_ids\":[\"164484\"]},\"title\":\"Bokeh Application\",\"version\":\"1.3.4\"}};\n",
       "  var render_items = [{\"docid\":\"96aee6b8-4c2b-43fb-8b9b-02e16fc03474\",\"roots\":{\"164484\":\"9829fc35-cdfc-40c3-84d4-e97c35f82b3d\"}}];\n",
       "  root.Bokeh.embed.embed_items_notebook(docs_json, render_items);\n",
       "\n",
       "  }\n",
       "  if (root.Bokeh !== undefined) {\n",
       "    embed_document(root);\n",
       "  } else {\n",
       "    var attempts = 0;\n",
       "    var timer = setInterval(function(root) {\n",
       "      if (root.Bokeh !== undefined) {\n",
       "        embed_document(root);\n",
       "        clearInterval(timer);\n",
       "      }\n",
       "      attempts++;\n",
       "      if (attempts > 100) {\n",
       "        console.log(\"Bokeh: ERROR: Unable to run BokehJS code because BokehJS library is missing\");\n",
       "        clearInterval(timer);\n",
       "      }\n",
       "    }, 10, root)\n",
       "  }\n",
       "})(window);"
      ],
      "application/vnd.bokehjs_exec.v0+json": ""
     },
     "metadata": {
      "application/vnd.bokehjs_exec.v0+json": {
       "id": "164484"
      }
     },
     "output_type": "display_data"
    }
   ],
   "source": [
    "TOOLTIPS = [\n",
    "    (\"State\", \"@state\"),\n",
    "    (\"Fires\", \"@count\"),\n",
    "    (\"Percentage\", \"@percentage%\")\n",
    "]\n",
    "\n",
    "# Bokeh only supports 20 colors so here we slice our original df to accomodate that.\n",
    "dummy_data = data[3:]\n",
    "\n",
    "dummy_data['percentage'] = dummy_data['count'].apply(\n",
    "    lambda x: (x/sum(dummy_data['count']))*100)\n",
    "dummy_data['percentage'] = dummy_data['percentage'].astype(dtype='float16')\n",
    "\n",
    "dummy_data['angle'] = dummy_data['count']/dummy_data['count'].sum() * 2*pi\n",
    "dummy_data['color'] = Category20c[len(dummy_data)]\n",
    "\n",
    "p = figure(plot_height=HEIGHT, plot_width=WIDTH, title=\"Total fires by state\",\n",
    "           tools=_tools_to_show, tooltips=TOOLTIPS, x_range=(-0.5, 1.0))\n",
    "\n",
    "p.wedge(x=0, y=1, radius=0.3,\n",
    "        start_angle=cumsum('angle', include_zero=True), end_angle=cumsum('angle'),\n",
    "        line_color=\"white\", fill_color='color', legend='state', source=dummy_data)\n",
    "\n",
    "dummy_data[\"count\"] = dummy_data['count'].astype(str)\n",
    "dummy_data[\"count\"] = dummy_data[\"count\"].str.pad(45, side=\"left\")\n",
    "source = ColumnDataSource(dummy_data)\n",
    "\n",
    "labels = LabelSet(x=0, y=1, text='count', level='glyph',\n",
    "                  angle=cumsum('angle', include_zero=True), source=source, render_mode='canvas')\n",
    "\n",
    "p.add_layout(labels)\n",
    "\n",
    "p.axis.axis_label = None\n",
    "p.axis.visible = False\n",
    "p.grid.grid_line_color = None\n",
    "\n",
    "show(p)\n",
    "\n",
    "dummy_data[\"count\"] = dummy_data['count'].astype(int)"
   ]
  },
  {
   "cell_type": "markdown",
   "metadata": {},
   "source": [
    "# Time Series"
   ]
  },
  {
   "cell_type": "markdown",
   "metadata": {},
   "source": [
    "## Total fires per year"
   ]
  },
  {
   "cell_type": "code",
   "execution_count": 1712,
   "metadata": {},
   "outputs": [
    {
     "data": {
      "text/html": [
       "\n",
       "\n",
       "\n",
       "\n",
       "\n",
       "\n",
       "  <div class=\"bk-root\" id=\"5ee3af0b-bfd7-4e27-bab8-bd845bfd1aea\" data-root-id=\"164655\"></div>\n"
      ]
     },
     "metadata": {},
     "output_type": "display_data"
    },
    {
     "data": {
      "application/javascript": [
       "(function(root) {\n",
       "  function embed_document(root) {\n",
       "    \n",
       "  var docs_json = {\"1b035ab2-94c2-41c6-a7ff-3c95b132464e\":{\"roots\":{\"references\":[{\"attributes\":{\"background_fill_color\":{\"value\":\"#20262B\"},\"below\":[{\"id\":\"164666\",\"type\":\"CategoricalAxis\"}],\"border_fill_color\":{\"value\":\"#15191C\"},\"center\":[{\"id\":\"164669\",\"type\":\"Grid\"},{\"id\":\"164674\",\"type\":\"Grid\"}],\"left\":[{\"id\":\"164670\",\"type\":\"LinearAxis\"}],\"outline_line_alpha\":{\"value\":0.25},\"outline_line_color\":{\"value\":\"#E0E0E0\"},\"plot_height\":700,\"plot_width\":900,\"renderers\":[{\"id\":\"164693\",\"type\":\"GlyphRenderer\"}],\"title\":{\"id\":\"164656\",\"type\":\"Title\"},\"toolbar\":{\"id\":\"164682\",\"type\":\"Toolbar\"},\"x_range\":{\"id\":\"164658\",\"type\":\"FactorRange\"},\"x_scale\":{\"id\":\"164662\",\"type\":\"CategoricalScale\"},\"y_range\":{\"id\":\"164660\",\"type\":\"DataRange1d\"},\"y_scale\":{\"id\":\"164664\",\"type\":\"LinearScale\"}},\"id\":\"164655\",\"subtype\":\"Figure\",\"type\":\"Plot\"},{\"attributes\":{\"source\":{\"id\":\"164654\",\"type\":\"ColumnDataSource\"}},\"id\":\"164694\",\"type\":\"CDSView\"},{\"attributes\":{},\"id\":\"164696\",\"type\":\"BasicTickFormatter\"},{\"attributes\":{\"overlay\":{\"id\":\"164702\",\"type\":\"BoxAnnotation\"}},\"id\":\"164675\",\"type\":\"BoxZoomTool\"},{\"attributes\":{\"bottom_units\":\"screen\",\"fill_alpha\":{\"value\":0.5},\"fill_color\":{\"value\":\"lightgrey\"},\"left_units\":\"screen\",\"level\":\"overlay\",\"line_alpha\":{\"value\":1.0},\"line_color\":{\"value\":\"black\"},\"line_dash\":[4,4],\"line_width\":{\"value\":2},\"render_mode\":\"css\",\"right_units\":\"screen\",\"top_units\":\"screen\"},\"id\":\"164702\",\"type\":\"BoxAnnotation\"},{\"attributes\":{\"text\":\"Total fires by Year\",\"text_color\":{\"value\":\"#E0E0E0\"},\"text_font\":\"Helvetica\",\"text_font_size\":{\"value\":\"1.15em\"}},\"id\":\"164656\",\"type\":\"Title\"},{\"attributes\":{},\"id\":\"164662\",\"type\":\"CategoricalScale\"},{\"attributes\":{},\"id\":\"164667\",\"type\":\"CategoricalTicker\"},{\"attributes\":{},\"id\":\"164679\",\"type\":\"ResetTool\"},{\"attributes\":{},\"id\":\"164698\",\"type\":\"CategoricalTickFormatter\"},{\"attributes\":{\"callback\":null,\"start\":20000},\"id\":\"164660\",\"type\":\"DataRange1d\"},{\"attributes\":{\"data_source\":{\"id\":\"164654\",\"type\":\"ColumnDataSource\"},\"glyph\":{\"id\":\"164691\",\"type\":\"Line\"},\"hover_glyph\":null,\"muted_glyph\":null,\"nonselection_glyph\":{\"id\":\"164692\",\"type\":\"Line\"},\"selection_glyph\":null,\"view\":{\"id\":\"164694\",\"type\":\"CDSView\"}},\"id\":\"164693\",\"type\":\"GlyphRenderer\"},{\"attributes\":{\"dimension\":1,\"grid_line_alpha\":0.25,\"grid_line_color\":\"#E0E0E0\",\"ticker\":{\"id\":\"164671\",\"type\":\"BasicTicker\"}},\"id\":\"164674\",\"type\":\"Grid\"},{\"attributes\":{\"axis_label_standoff\":10,\"axis_label_text_color\":{\"value\":\"#E0E0E0\"},\"axis_label_text_font\":\"Helvetica\",\"axis_label_text_font_size\":{\"value\":\"1.25em\"},\"axis_label_text_font_style\":\"normal\",\"axis_line_alpha\":{\"value\":0},\"axis_line_color\":{\"value\":\"#E0E0E0\"},\"formatter\":{\"id\":\"164698\",\"type\":\"CategoricalTickFormatter\"},\"major_label_orientation\":0.7853981633974483,\"major_label_text_color\":{\"value\":\"#E0E0E0\"},\"major_label_text_font\":\"Helvetica\",\"major_label_text_font_size\":{\"value\":\"1.025em\"},\"major_tick_line_alpha\":{\"value\":0},\"major_tick_line_color\":{\"value\":\"#E0E0E0\"},\"minor_tick_line_alpha\":{\"value\":0},\"minor_tick_line_color\":{\"value\":\"#E0E0E0\"},\"ticker\":{\"id\":\"164667\",\"type\":\"CategoricalTicker\"}},\"id\":\"164666\",\"type\":\"CategoricalAxis\"},{\"attributes\":{},\"id\":\"164676\",\"type\":\"PanTool\"},{\"attributes\":{\"callback\":null,\"data\":{\"count\":{\"__ndarray__\":\"HC/dJH6L00B/lUOLtEDaQNJNYhDQtdpASgwCK+dj3EAzMzMz00HiQLFyaJEV4eRAqcZLN6XG4kATrkfhnhfhQNV46SYFheBAqcZLN60h4EBWDi2yvbDcQFYOLbKlGeNAfj81Xq4V4kAJ16NwMengQFO4HoWbkuNAnO+nxkMp4UDm0CLbpVjjQE9iEFgJH+RA2s73U4ec5EAW2c73s+nhQA==\",\"dtype\":\"float64\",\"shape\":[20]},\"index\":[0,1,2,3,4,5,6,7,8,9,10,11,12,13,14,15,16,17,18,19],\"year\":[\"1998\",\"1999\",\"2000\",\"2001\",\"2002\",\"2003\",\"2004\",\"2005\",\"2006\",\"2007\",\"2008\",\"2009\",\"2010\",\"2011\",\"2012\",\"2013\",\"2014\",\"2015\",\"2016\",\"2017\"]},\"selected\":{\"id\":\"164701\",\"type\":\"Selection\"},\"selection_policy\":{\"id\":\"164700\",\"type\":\"UnionRenderers\"}},\"id\":\"164654\",\"type\":\"ColumnDataSource\"},{\"attributes\":{},\"id\":\"164700\",\"type\":\"UnionRenderers\"},{\"attributes\":{\"callback\":null,\"factors\":[\"1998\",\"1999\",\"2000\",\"2001\",\"2002\",\"2003\",\"2004\",\"2005\",\"2006\",\"2007\",\"2008\",\"2009\",\"2010\",\"2011\",\"2012\",\"2013\",\"2014\",\"2015\",\"2016\",\"2017\"]},\"id\":\"164658\",\"type\":\"FactorRange\"},{\"attributes\":{\"grid_line_alpha\":0.25,\"grid_line_color\":null,\"ticker\":{\"id\":\"164667\",\"type\":\"CategoricalTicker\"}},\"id\":\"164669\",\"type\":\"Grid\"},{\"attributes\":{\"callback\":null},\"id\":\"164680\",\"type\":\"TapTool\"},{\"attributes\":{\"active_drag\":\"auto\",\"active_inspect\":\"auto\",\"active_multi\":null,\"active_scroll\":\"auto\",\"active_tap\":\"auto\",\"tools\":[{\"id\":\"164675\",\"type\":\"BoxZoomTool\"},{\"id\":\"164676\",\"type\":\"PanTool\"},{\"id\":\"164677\",\"type\":\"SaveTool\"},{\"id\":\"164678\",\"type\":\"HoverTool\"},{\"id\":\"164679\",\"type\":\"ResetTool\"},{\"id\":\"164680\",\"type\":\"TapTool\"},{\"id\":\"164681\",\"type\":\"WheelZoomTool\"}]},\"id\":\"164682\",\"type\":\"Toolbar\"},{\"attributes\":{},\"id\":\"164671\",\"type\":\"BasicTicker\"},{\"attributes\":{\"callback\":null,\"tooltips\":[[\"Year\",\"@year{int}\"],[\"Fires\",\"@count{int}\"]]},\"id\":\"164678\",\"type\":\"HoverTool\"},{\"attributes\":{},\"id\":\"164681\",\"type\":\"WheelZoomTool\"},{\"attributes\":{},\"id\":\"164677\",\"type\":\"SaveTool\"},{\"attributes\":{\"axis_label_standoff\":10,\"axis_label_text_color\":{\"value\":\"#E0E0E0\"},\"axis_label_text_font\":\"Helvetica\",\"axis_label_text_font_size\":{\"value\":\"1.25em\"},\"axis_label_text_font_style\":\"normal\",\"axis_line_alpha\":{\"value\":0},\"axis_line_color\":{\"value\":\"#E0E0E0\"},\"formatter\":{\"id\":\"164696\",\"type\":\"BasicTickFormatter\"},\"major_label_text_color\":{\"value\":\"#E0E0E0\"},\"major_label_text_font\":\"Helvetica\",\"major_label_text_font_size\":{\"value\":\"1.025em\"},\"major_tick_line_alpha\":{\"value\":0},\"major_tick_line_color\":{\"value\":\"#E0E0E0\"},\"minor_tick_line_alpha\":{\"value\":0},\"minor_tick_line_color\":{\"value\":\"#E0E0E0\"},\"ticker\":{\"id\":\"164671\",\"type\":\"BasicTicker\"}},\"id\":\"164670\",\"type\":\"LinearAxis\"},{\"attributes\":{},\"id\":\"164701\",\"type\":\"Selection\"},{\"attributes\":{\"line_alpha\":0.1,\"line_color\":\"#1f77b4\",\"line_width\":3,\"x\":{\"field\":\"year\"},\"y\":{\"field\":\"count\"}},\"id\":\"164692\",\"type\":\"Line\"},{\"attributes\":{\"line_color\":\"#1f77b4\",\"line_width\":3,\"x\":{\"field\":\"year\"},\"y\":{\"field\":\"count\"}},\"id\":\"164691\",\"type\":\"Line\"},{\"attributes\":{},\"id\":\"164664\",\"type\":\"LinearScale\"}],\"root_ids\":[\"164655\"]},\"title\":\"Bokeh Application\",\"version\":\"1.3.4\"}};\n",
       "  var render_items = [{\"docid\":\"1b035ab2-94c2-41c6-a7ff-3c95b132464e\",\"roots\":{\"164655\":\"5ee3af0b-bfd7-4e27-bab8-bd845bfd1aea\"}}];\n",
       "  root.Bokeh.embed.embed_items_notebook(docs_json, render_items);\n",
       "\n",
       "  }\n",
       "  if (root.Bokeh !== undefined) {\n",
       "    embed_document(root);\n",
       "  } else {\n",
       "    var attempts = 0;\n",
       "    var timer = setInterval(function(root) {\n",
       "      if (root.Bokeh !== undefined) {\n",
       "        embed_document(root);\n",
       "        clearInterval(timer);\n",
       "      }\n",
       "      attempts++;\n",
       "      if (attempts > 100) {\n",
       "        console.log(\"Bokeh: ERROR: Unable to run BokehJS code because BokehJS library is missing\");\n",
       "        clearInterval(timer);\n",
       "      }\n",
       "    }, 10, root)\n",
       "  }\n",
       "})(window);"
      ],
      "application/vnd.bokehjs_exec.v0+json": ""
     },
     "metadata": {
      "application/vnd.bokehjs_exec.v0+json": {
       "id": "164655"
      }
     },
     "output_type": "display_data"
    }
   ],
   "source": [
    "data = df.groupby('year')['number'].sum().reset_index(name='count')\n",
    "\n",
    "data['year'] = data['year'].astype(str)\n",
    "\n",
    "source = ColumnDataSource(data)\n",
    "\n",
    "p = figure(x_range=data['year'], plot_height=HEIGHT, plot_width=WIDTH,\n",
    "           title=\"Total fires by Year\", tools=_tools_to_show)\n",
    "\n",
    "p.line(x='year', y='count', line_width=3, source=source)\n",
    "\n",
    "p.xgrid.grid_line_color = None\n",
    "p.xaxis.major_label_orientation = pi/4\n",
    "p.y_range.start = 20000\n",
    "\n",
    "hover = p.select(dict(type=HoverTool))\n",
    "hover.tooltips = [\n",
    "    (\"Year\", \"@year{int}\"),\n",
    "    (\"Fires\", \"@count{int}\")\n",
    "]\n",
    "\n",
    "show(p)"
   ]
  },
  {
   "cell_type": "markdown",
   "metadata": {},
   "source": [
    "## Total Fires per month"
   ]
  },
  {
   "cell_type": "code",
   "execution_count": 1713,
   "metadata": {},
   "outputs": [],
   "source": [
    "month_to_num = {\n",
    "    \"Janeiro\": 1,\n",
    "    \"Fevereiro\": 2,\n",
    "    \"Março\": 3,\n",
    "    \"Abril\": 4,\n",
    "    \"Maio\": 5,\n",
    "    \"Junho\": 6,\n",
    "    \"Julho\": 7,\n",
    "    \"Agosto\": 8,\n",
    "    \"Setembro\": 9,\n",
    "    \"Outubro\": 10,\n",
    "    \"Novembro\": 11,\n",
    "    \"Dezembro\": 12\n",
    "}"
   ]
  },
  {
   "cell_type": "code",
   "execution_count": 1714,
   "metadata": {},
   "outputs": [],
   "source": [
    "df['month_num'] = df.month.apply(lambda x: month_to_num[x])"
   ]
  },
  {
   "cell_type": "code",
   "execution_count": 1715,
   "metadata": {},
   "outputs": [
    {
     "data": {
      "text/html": [
       "\n",
       "\n",
       "\n",
       "\n",
       "\n",
       "\n",
       "  <div class=\"bk-root\" id=\"aafb09eb-31a6-4c19-be6b-c3b3b7471df4\" data-root-id=\"164814\"></div>\n"
      ]
     },
     "metadata": {},
     "output_type": "display_data"
    },
    {
     "data": {
      "application/javascript": [
       "(function(root) {\n",
       "  function embed_document(root) {\n",
       "    \n",
       "  var docs_json = {\"f142fcf8-06fb-4d3d-ba46-032f88400678\":{\"roots\":{\"references\":[{\"attributes\":{\"background_fill_color\":{\"value\":\"#20262B\"},\"below\":[{\"id\":\"164825\",\"type\":\"CategoricalAxis\"}],\"border_fill_color\":{\"value\":\"#15191C\"},\"center\":[{\"id\":\"164828\",\"type\":\"Grid\"},{\"id\":\"164833\",\"type\":\"Grid\"}],\"left\":[{\"id\":\"164829\",\"type\":\"LinearAxis\"}],\"outline_line_alpha\":{\"value\":0.25},\"outline_line_color\":{\"value\":\"#E0E0E0\"},\"plot_height\":700,\"plot_width\":900,\"renderers\":[{\"id\":\"164852\",\"type\":\"GlyphRenderer\"}],\"title\":{\"id\":\"164815\",\"type\":\"Title\"},\"toolbar\":{\"id\":\"164841\",\"type\":\"Toolbar\"},\"x_range\":{\"id\":\"164817\",\"type\":\"FactorRange\"},\"x_scale\":{\"id\":\"164821\",\"type\":\"CategoricalScale\"},\"y_range\":{\"id\":\"164819\",\"type\":\"DataRange1d\"},\"y_scale\":{\"id\":\"164823\",\"type\":\"LinearScale\"}},\"id\":\"164814\",\"subtype\":\"Figure\",\"type\":\"Plot\"},{\"attributes\":{\"callback\":null,\"data\":{\"count\":{\"__ndarray__\":\"ukkMAntQ50AzMzMzAyDeQLgehetZ/91AexSuRzGH20AOLbKda/XgQJqZmZlVWetAhhbZzmGK9kBbj8L1Jn/1QC1cj8JJmuxAAoGVQ5mm9UCfGi/dQOD0QML1KFzvF+xA\",\"dtype\":\"float64\",\"shape\":[12]},\"index\":[0,1,2,3,4,5,6,7,8,9,10,11],\"month\":[\"Janeiro\",\"Fevereiro\",\"Mar\\u00e7o\",\"Abril\",\"Maio\",\"Junho\",\"Julho\",\"Agosto\",\"Setembro\",\"Outubro\",\"Novembro\",\"Dezembro\"],\"month_num\":[\"1\",\"2\",\"3\",\"4\",\"5\",\"6\",\"7\",\"8\",\"9\",\"10\",\"11\",\"12\"]},\"selected\":{\"id\":\"164860\",\"type\":\"Selection\"},\"selection_policy\":{\"id\":\"164859\",\"type\":\"UnionRenderers\"}},\"id\":\"164813\",\"type\":\"ColumnDataSource\"},{\"attributes\":{\"axis_label_standoff\":10,\"axis_label_text_color\":{\"value\":\"#E0E0E0\"},\"axis_label_text_font\":\"Helvetica\",\"axis_label_text_font_size\":{\"value\":\"1.25em\"},\"axis_label_text_font_style\":\"normal\",\"axis_line_alpha\":{\"value\":0},\"axis_line_color\":{\"value\":\"#E0E0E0\"},\"formatter\":{\"id\":\"164855\",\"type\":\"BasicTickFormatter\"},\"major_label_text_color\":{\"value\":\"#E0E0E0\"},\"major_label_text_font\":\"Helvetica\",\"major_label_text_font_size\":{\"value\":\"1.025em\"},\"major_tick_line_alpha\":{\"value\":0},\"major_tick_line_color\":{\"value\":\"#E0E0E0\"},\"minor_tick_line_alpha\":{\"value\":0},\"minor_tick_line_color\":{\"value\":\"#E0E0E0\"},\"ticker\":{\"id\":\"164830\",\"type\":\"BasicTicker\"}},\"id\":\"164829\",\"type\":\"LinearAxis\"},{\"attributes\":{},\"id\":\"164823\",\"type\":\"LinearScale\"},{\"attributes\":{\"callback\":null,\"start\":25000},\"id\":\"164819\",\"type\":\"DataRange1d\"},{\"attributes\":{\"callback\":null,\"tooltips\":[[\"Month\",\"@month\"],[\"Fires\",\"@count{int}\"]]},\"id\":\"164837\",\"type\":\"HoverTool\"},{\"attributes\":{},\"id\":\"164826\",\"type\":\"CategoricalTicker\"},{\"attributes\":{},\"id\":\"164838\",\"type\":\"ResetTool\"},{\"attributes\":{\"axis_label_standoff\":10,\"axis_label_text_color\":{\"value\":\"#E0E0E0\"},\"axis_label_text_font\":\"Helvetica\",\"axis_label_text_font_size\":{\"value\":\"1.25em\"},\"axis_label_text_font_style\":\"normal\",\"axis_line_alpha\":{\"value\":0},\"axis_line_color\":{\"value\":\"#E0E0E0\"},\"formatter\":{\"id\":\"164857\",\"type\":\"CategoricalTickFormatter\"},\"major_label_orientation\":0.7853981633974483,\"major_label_text_color\":{\"value\":\"#E0E0E0\"},\"major_label_text_font\":\"Helvetica\",\"major_label_text_font_size\":{\"value\":\"1.025em\"},\"major_tick_line_alpha\":{\"value\":0},\"major_tick_line_color\":{\"value\":\"#E0E0E0\"},\"minor_tick_line_alpha\":{\"value\":0},\"minor_tick_line_color\":{\"value\":\"#E0E0E0\"},\"ticker\":{\"id\":\"164826\",\"type\":\"CategoricalTicker\"}},\"id\":\"164825\",\"type\":\"CategoricalAxis\"},{\"attributes\":{\"callback\":null},\"id\":\"164839\",\"type\":\"TapTool\"},{\"attributes\":{\"active_drag\":\"auto\",\"active_inspect\":\"auto\",\"active_multi\":null,\"active_scroll\":\"auto\",\"active_tap\":\"auto\",\"tools\":[{\"id\":\"164834\",\"type\":\"BoxZoomTool\"},{\"id\":\"164835\",\"type\":\"PanTool\"},{\"id\":\"164836\",\"type\":\"SaveTool\"},{\"id\":\"164837\",\"type\":\"HoverTool\"},{\"id\":\"164838\",\"type\":\"ResetTool\"},{\"id\":\"164839\",\"type\":\"TapTool\"},{\"id\":\"164840\",\"type\":\"WheelZoomTool\"}]},\"id\":\"164841\",\"type\":\"Toolbar\"},{\"attributes\":{\"line_alpha\":0.1,\"line_color\":\"#1f77b4\",\"line_width\":3,\"x\":{\"field\":\"month_num\"},\"y\":{\"field\":\"count\"}},\"id\":\"164851\",\"type\":\"Line\"},{\"attributes\":{},\"id\":\"164821\",\"type\":\"CategoricalScale\"},{\"attributes\":{},\"id\":\"164859\",\"type\":\"UnionRenderers\"},{\"attributes\":{},\"id\":\"164840\",\"type\":\"WheelZoomTool\"},{\"attributes\":{\"grid_line_alpha\":0.25,\"grid_line_color\":null,\"ticker\":{\"id\":\"164826\",\"type\":\"CategoricalTicker\"}},\"id\":\"164828\",\"type\":\"Grid\"},{\"attributes\":{},\"id\":\"164830\",\"type\":\"BasicTicker\"},{\"attributes\":{\"text\":\"Total fires by month\",\"text_color\":{\"value\":\"#E0E0E0\"},\"text_font\":\"Helvetica\",\"text_font_size\":{\"value\":\"1.15em\"}},\"id\":\"164815\",\"type\":\"Title\"},{\"attributes\":{},\"id\":\"164857\",\"type\":\"CategoricalTickFormatter\"},{\"attributes\":{\"bottom_units\":\"screen\",\"fill_alpha\":{\"value\":0.5},\"fill_color\":{\"value\":\"lightgrey\"},\"left_units\":\"screen\",\"level\":\"overlay\",\"line_alpha\":{\"value\":1.0},\"line_color\":{\"value\":\"black\"},\"line_dash\":[4,4],\"line_width\":{\"value\":2},\"render_mode\":\"css\",\"right_units\":\"screen\",\"top_units\":\"screen\"},\"id\":\"164861\",\"type\":\"BoxAnnotation\"},{\"attributes\":{\"source\":{\"id\":\"164813\",\"type\":\"ColumnDataSource\"}},\"id\":\"164853\",\"type\":\"CDSView\"},{\"attributes\":{\"overlay\":{\"id\":\"164861\",\"type\":\"BoxAnnotation\"}},\"id\":\"164834\",\"type\":\"BoxZoomTool\"},{\"attributes\":{},\"id\":\"164860\",\"type\":\"Selection\"},{\"attributes\":{},\"id\":\"164836\",\"type\":\"SaveTool\"},{\"attributes\":{\"dimension\":1,\"grid_line_alpha\":0.25,\"grid_line_color\":\"#E0E0E0\",\"ticker\":{\"id\":\"164830\",\"type\":\"BasicTicker\"}},\"id\":\"164833\",\"type\":\"Grid\"},{\"attributes\":{},\"id\":\"164835\",\"type\":\"PanTool\"},{\"attributes\":{\"callback\":null,\"factors\":[\"1\",\"2\",\"3\",\"4\",\"5\",\"6\",\"7\",\"8\",\"9\",\"10\",\"11\",\"12\"]},\"id\":\"164817\",\"type\":\"FactorRange\"},{\"attributes\":{},\"id\":\"164855\",\"type\":\"BasicTickFormatter\"},{\"attributes\":{\"line_color\":\"#1f77b4\",\"line_width\":3,\"x\":{\"field\":\"month_num\"},\"y\":{\"field\":\"count\"}},\"id\":\"164850\",\"type\":\"Line\"},{\"attributes\":{\"data_source\":{\"id\":\"164813\",\"type\":\"ColumnDataSource\"},\"glyph\":{\"id\":\"164850\",\"type\":\"Line\"},\"hover_glyph\":null,\"muted_glyph\":null,\"nonselection_glyph\":{\"id\":\"164851\",\"type\":\"Line\"},\"selection_glyph\":null,\"view\":{\"id\":\"164853\",\"type\":\"CDSView\"}},\"id\":\"164852\",\"type\":\"GlyphRenderer\"}],\"root_ids\":[\"164814\"]},\"title\":\"Bokeh Application\",\"version\":\"1.3.4\"}};\n",
       "  var render_items = [{\"docid\":\"f142fcf8-06fb-4d3d-ba46-032f88400678\",\"roots\":{\"164814\":\"aafb09eb-31a6-4c19-be6b-c3b3b7471df4\"}}];\n",
       "  root.Bokeh.embed.embed_items_notebook(docs_json, render_items);\n",
       "\n",
       "  }\n",
       "  if (root.Bokeh !== undefined) {\n",
       "    embed_document(root);\n",
       "  } else {\n",
       "    var attempts = 0;\n",
       "    var timer = setInterval(function(root) {\n",
       "      if (root.Bokeh !== undefined) {\n",
       "        embed_document(root);\n",
       "        clearInterval(timer);\n",
       "      }\n",
       "      attempts++;\n",
       "      if (attempts > 100) {\n",
       "        console.log(\"Bokeh: ERROR: Unable to run BokehJS code because BokehJS library is missing\");\n",
       "        clearInterval(timer);\n",
       "      }\n",
       "    }, 10, root)\n",
       "  }\n",
       "})(window);"
      ],
      "application/vnd.bokehjs_exec.v0+json": ""
     },
     "metadata": {
      "application/vnd.bokehjs_exec.v0+json": {
       "id": "164814"
      }
     },
     "output_type": "display_data"
    }
   ],
   "source": [
    "data = df.groupby(['month_num', 'month'])[\n",
    "    'number'].sum().reset_index(name='count')\n",
    "\n",
    "data['month_num'] = data['month_num'].astype(str)\n",
    "\n",
    "source = ColumnDataSource(data)\n",
    "\n",
    "p = figure(x_range=data['month_num'], plot_height=HEIGHT, plot_width=WIDTH,\n",
    "           title=\"Total fires by month\", tools=_tools_to_show)\n",
    "\n",
    "p.line(x='month_num', y='count', line_width=3, source=source)\n",
    "\n",
    "p.xgrid.grid_line_color = None\n",
    "p.xaxis.major_label_orientation = pi/4\n",
    "p.y_range.start = 25000\n",
    "\n",
    "hover = p.select(dict(type=HoverTool))\n",
    "hover.tooltips = [\n",
    "    (\"Month\", \"@month\"),\n",
    "    (\"Fires\", \"@count{int}\")\n",
    "]\n",
    "\n",
    "show(p)"
   ]
  },
  {
   "cell_type": "markdown",
   "metadata": {},
   "source": [
    "## Firest States"
   ]
  },
  {
   "cell_type": "markdown",
   "metadata": {},
   "source": [
    "### Per Year"
   ]
  },
  {
   "cell_type": "code",
   "execution_count": 1716,
   "metadata": {},
   "outputs": [],
   "source": [
    "data = df.groupby(['state'])['number'].sum().reset_index(\n",
    "    name='count').sort_values('count', ascending=False)"
   ]
  },
  {
   "cell_type": "code",
   "execution_count": 1717,
   "metadata": {},
   "outputs": [],
   "source": [
    "firest_states = list(set(data[:10].state))"
   ]
  },
  {
   "cell_type": "code",
   "execution_count": 1718,
   "metadata": {},
   "outputs": [],
   "source": [
    "data_lst = list()\n",
    "\n",
    "for state in firest_states:\n",
    "    temp = df[df.state == state]\n",
    "    temp = temp.groupby('year')['number'].sum().reset_index(name='count')\n",
    "    data_lst.append(temp)"
   ]
  },
  {
   "cell_type": "code",
   "execution_count": 1719,
   "metadata": {},
   "outputs": [
    {
     "data": {
      "text/html": [
       "\n",
       "\n",
       "\n",
       "\n",
       "\n",
       "\n",
       "  <div class=\"bk-root\" id=\"13f94949-7ea1-4a47-ada9-a96e5fb8bdc8\" data-root-id=\"164980\"></div>\n"
      ]
     },
     "metadata": {},
     "output_type": "display_data"
    },
    {
     "data": {
      "application/javascript": [
       "(function(root) {\n",
       "  function embed_document(root) {\n",
       "    \n",
       "  var docs_json = {\"ba8b6bb0-cda5-45b3-99a0-1ddb9a40fdd9\":{\"roots\":{\"references\":[{\"attributes\":{\"background_fill_color\":{\"value\":\"#20262B\"},\"below\":[{\"id\":\"164989\",\"type\":\"LinearAxis\"}],\"border_fill_color\":{\"value\":\"#15191C\"},\"center\":[{\"id\":\"164993\",\"type\":\"Grid\"},{\"id\":\"164998\",\"type\":\"Grid\"},{\"id\":\"165025\",\"type\":\"Legend\"}],\"left\":[{\"id\":\"164994\",\"type\":\"LinearAxis\"}],\"outline_line_alpha\":{\"value\":0.25},\"outline_line_color\":{\"value\":\"#E0E0E0\"},\"plot_height\":700,\"plot_width\":900,\"renderers\":[{\"id\":\"165016\",\"type\":\"GlyphRenderer\"},{\"id\":\"165030\",\"type\":\"GlyphRenderer\"},{\"id\":\"165045\",\"type\":\"GlyphRenderer\"},{\"id\":\"165062\",\"type\":\"GlyphRenderer\"},{\"id\":\"165081\",\"type\":\"GlyphRenderer\"},{\"id\":\"165102\",\"type\":\"GlyphRenderer\"},{\"id\":\"165125\",\"type\":\"GlyphRenderer\"},{\"id\":\"165150\",\"type\":\"GlyphRenderer\"},{\"id\":\"165177\",\"type\":\"GlyphRenderer\"},{\"id\":\"165206\",\"type\":\"GlyphRenderer\"}],\"title\":{\"id\":\"165012\",\"type\":\"Title\"},\"toolbar\":{\"id\":\"165005\",\"type\":\"Toolbar\"},\"x_range\":{\"id\":\"164981\",\"type\":\"DataRange1d\"},\"x_scale\":{\"id\":\"164985\",\"type\":\"LinearScale\"},\"y_range\":{\"id\":\"164983\",\"type\":\"DataRange1d\"},\"y_scale\":{\"id\":\"164987\",\"type\":\"LinearScale\"}},\"id\":\"164980\",\"subtype\":\"Figure\",\"type\":\"Plot\"},{\"attributes\":{},\"id\":\"164990\",\"type\":\"BasicTicker\"},{\"attributes\":{},\"id\":\"165038\",\"type\":\"UnionRenderers\"},{\"attributes\":{},\"id\":\"165020\",\"type\":\"BasicTickFormatter\"},{\"attributes\":{},\"id\":\"165039\",\"type\":\"Selection\"},{\"attributes\":{},\"id\":\"165022\",\"type\":\"BasicTickFormatter\"},{\"attributes\":{},\"id\":\"165056\",\"type\":\"Selection\"},{\"attributes\":{\"grid_line_alpha\":0.25,\"grid_line_color\":\"#E0E0E0\",\"ticker\":{\"id\":\"164990\",\"type\":\"BasicTicker\"}},\"id\":\"164993\",\"type\":\"Grid\"},{\"attributes\":{\"line_alpha\":0.1,\"line_color\":\"#1f77b4\",\"line_width\":3,\"x\":{\"field\":\"x\"},\"y\":{\"field\":\"y\"}},\"id\":\"165044\",\"type\":\"Line\"},{\"attributes\":{\"data_source\":{\"id\":\"165013\",\"type\":\"ColumnDataSource\"},\"glyph\":{\"id\":\"165014\",\"type\":\"Line\"},\"hover_glyph\":null,\"muted_glyph\":null,\"nonselection_glyph\":{\"id\":\"165015\",\"type\":\"Line\"},\"selection_glyph\":null,\"view\":{\"id\":\"165017\",\"type\":\"CDSView\"}},\"id\":\"165016\",\"type\":\"GlyphRenderer\"},{\"attributes\":{\"label\":{\"value\":\"Tocantins\"},\"renderers\":[{\"id\":\"165030\",\"type\":\"GlyphRenderer\"}]},\"id\":\"165041\",\"type\":\"LegendItem\"},{\"attributes\":{\"axis_label_standoff\":10,\"axis_label_text_color\":{\"value\":\"#E0E0E0\"},\"axis_label_text_font\":\"Helvetica\",\"axis_label_text_font_size\":{\"value\":\"1.25em\"},\"axis_label_text_font_style\":\"normal\",\"axis_line_alpha\":{\"value\":0},\"axis_line_color\":{\"value\":\"#E0E0E0\"},\"formatter\":{\"id\":\"165022\",\"type\":\"BasicTickFormatter\"},\"major_label_text_color\":{\"value\":\"#E0E0E0\"},\"major_label_text_font\":\"Helvetica\",\"major_label_text_font_size\":{\"value\":\"1.025em\"},\"major_tick_line_alpha\":{\"value\":0},\"major_tick_line_color\":{\"value\":\"#E0E0E0\"},\"minor_tick_line_alpha\":{\"value\":0},\"minor_tick_line_color\":{\"value\":\"#E0E0E0\"},\"ticker\":{\"id\":\"164990\",\"type\":\"BasicTicker\"}},\"id\":\"164989\",\"type\":\"LinearAxis\"},{\"attributes\":{\"text\":\"Top 10 firest states: yearly count\",\"text_color\":{\"value\":\"#E0E0E0\"},\"text_font\":\"Helvetica\",\"text_font_size\":{\"value\":\"1.15em\"}},\"id\":\"165012\",\"type\":\"Title\"},{\"attributes\":{\"label\":{\"value\":\"Goias\"},\"renderers\":[{\"id\":\"165102\",\"type\":\"GlyphRenderer\"}]},\"id\":\"165121\",\"type\":\"LegendItem\"},{\"attributes\":{\"line_alpha\":0.8,\"line_color\":\"#66c2a5\",\"line_width\":3,\"x\":{\"field\":\"x\"},\"y\":{\"field\":\"y\"}},\"id\":\"165043\",\"type\":\"Line\"},{\"attributes\":{\"bottom_units\":\"screen\",\"fill_alpha\":{\"value\":0.5},\"fill_color\":{\"value\":\"lightgrey\"},\"left_units\":\"screen\",\"level\":\"overlay\",\"line_alpha\":{\"value\":1.0},\"line_color\":{\"value\":\"black\"},\"line_dash\":[4,4],\"line_width\":{\"value\":2},\"render_mode\":\"css\",\"right_units\":\"screen\",\"top_units\":\"screen\"},\"id\":\"165024\",\"type\":\"BoxAnnotation\"},{\"attributes\":{},\"id\":\"165143\",\"type\":\"UnionRenderers\"},{\"attributes\":{\"callback\":null,\"data\":{\"x\":[1998,1999,2000,2001,2002,2003,2004,2005,2006,2007,2008,2009,2010,2011,2012,2013,2014,2015,2016,2017],\"y\":{\"__ndarray__\":\"AAAAAAD4qEB0kxgENpmwQAAAAAAAILBAAAAAAADcpkAAAAAAAKarQAAAAAAA1KlAAAAAAABgpkAAAAAAAJagQAAAAAAAQqFAAAAAAABUnUAAAAAAAKSSQAAAAAAANJJAbOf7qfG9mkAzMzMzs+CVQAAAAAAA3qBAAAAAAAAOoEAj2/l+6nipQAAAAAAAAJ9AAAAAAABGqUDb+X5qvNmjQA==\",\"dtype\":\"float64\",\"shape\":[20]}},\"selected\":{\"id\":\"165075\",\"type\":\"Selection\"},\"selection_policy\":{\"id\":\"165074\",\"type\":\"UnionRenderers\"}},\"id\":\"165042\",\"type\":\"ColumnDataSource\"},{\"attributes\":{\"data_source\":{\"id\":\"165042\",\"type\":\"ColumnDataSource\"},\"glyph\":{\"id\":\"165043\",\"type\":\"Line\"},\"hover_glyph\":null,\"muted_glyph\":null,\"nonselection_glyph\":{\"id\":\"165044\",\"type\":\"Line\"},\"selection_glyph\":null,\"view\":{\"id\":\"165046\",\"type\":\"CDSView\"}},\"id\":\"165045\",\"type\":\"GlyphRenderer\"},{\"attributes\":{\"source\":{\"id\":\"165042\",\"type\":\"ColumnDataSource\"}},\"id\":\"165046\",\"type\":\"CDSView\"},{\"attributes\":{},\"id\":\"165055\",\"type\":\"UnionRenderers\"},{\"attributes\":{\"source\":{\"id\":\"165013\",\"type\":\"ColumnDataSource\"}},\"id\":\"165017\",\"type\":\"CDSView\"},{\"attributes\":{\"background_fill_alpha\":{\"value\":0.25},\"background_fill_color\":{\"value\":\"#20262B\"},\"border_line_alpha\":{\"value\":0},\"click_policy\":\"hide\",\"glyph_width\":15,\"items\":[{\"id\":\"165026\",\"type\":\"LegendItem\"},{\"id\":\"165041\",\"type\":\"LegendItem\"},{\"id\":\"165058\",\"type\":\"LegendItem\"},{\"id\":\"165077\",\"type\":\"LegendItem\"},{\"id\":\"165098\",\"type\":\"LegendItem\"},{\"id\":\"165121\",\"type\":\"LegendItem\"},{\"id\":\"165146\",\"type\":\"LegendItem\"},{\"id\":\"165173\",\"type\":\"LegendItem\"},{\"id\":\"165202\",\"type\":\"LegendItem\"},{\"id\":\"165233\",\"type\":\"LegendItem\"}],\"label_standoff\":8,\"label_text_color\":{\"value\":\"#E0E0E0\"},\"label_text_font\":\"Helvetica\",\"label_text_font_size\":{\"value\":\"1.025em\"},\"location\":\"top_left\",\"spacing\":8},\"id\":\"165025\",\"type\":\"Legend\"},{\"attributes\":{\"label\":{\"value\":\"Minas Gerais\"},\"renderers\":[{\"id\":\"165150\",\"type\":\"GlyphRenderer\"}]},\"id\":\"165173\",\"type\":\"LegendItem\"},{\"attributes\":{\"label\":{\"value\":\"Sao Paulo\"},\"renderers\":[{\"id\":\"165045\",\"type\":\"GlyphRenderer\"}]},\"id\":\"165058\",\"type\":\"LegendItem\"},{\"attributes\":{\"label\":{\"value\":\"Paraiba\"},\"renderers\":[{\"id\":\"165177\",\"type\":\"GlyphRenderer\"}]},\"id\":\"165202\",\"type\":\"LegendItem\"},{\"attributes\":{\"line_alpha\":0.8,\"line_color\":\"#abdda4\",\"line_width\":3,\"x\":{\"field\":\"x\"},\"y\":{\"field\":\"y\"}},\"id\":\"165060\",\"type\":\"Line\"},{\"attributes\":{},\"id\":\"164985\",\"type\":\"LinearScale\"},{\"attributes\":{\"line_alpha\":0.8,\"line_color\":\"#ffffbf\",\"line_width\":3,\"x\":{\"field\":\"x\"},\"y\":{\"field\":\"y\"}},\"id\":\"165100\",\"type\":\"Line\"},{\"attributes\":{\"line_alpha\":0.8,\"line_color\":\"#f46d43\",\"line_width\":3,\"x\":{\"field\":\"x\"},\"y\":{\"field\":\"y\"}},\"id\":\"165175\",\"type\":\"Line\"},{\"attributes\":{\"source\":{\"id\":\"165099\",\"type\":\"ColumnDataSource\"}},\"id\":\"165103\",\"type\":\"CDSView\"},{\"attributes\":{\"callback\":null,\"data\":{\"x\":[1998,1999,2000,2001,2002,2003,2004,2005,2006,2007,2008,2009,2010,2011,2012,2013,2014,2015,2016,2017],\"y\":{\"__ndarray__\":\"AAAAAACQjUAAAAAAAJSQQAAAAAAAqIpAAAAAAABElEAAAAAAAEimQFCNl24S0ZdAi2zn+2n0oUCOl24Sg+SZQIXrUbgeLY9AK4cW2c5sgkAAAAAAADqlQJZDi2xnopRAvHSTGAQpokD+1HjpJtKZQPLSTWKQWpFA2/l+arxJjEAhsHJo0aOiQOXQItv5l5JAbOf7qfEZoEAK16NwPVeMQA==\",\"dtype\":\"float64\",\"shape\":[20]}},\"selected\":{\"id\":\"165119\",\"type\":\"Selection\"},\"selection_policy\":{\"id\":\"165118\",\"type\":\"UnionRenderers\"}},\"id\":\"165078\",\"type\":\"ColumnDataSource\"},{\"attributes\":{\"data_source\":{\"id\":\"165078\",\"type\":\"ColumnDataSource\"},\"glyph\":{\"id\":\"165079\",\"type\":\"Line\"},\"hover_glyph\":null,\"muted_glyph\":null,\"nonselection_glyph\":{\"id\":\"165080\",\"type\":\"Line\"},\"selection_glyph\":null,\"view\":{\"id\":\"165082\",\"type\":\"CDSView\"}},\"id\":\"165081\",\"type\":\"GlyphRenderer\"},{\"attributes\":{},\"id\":\"165171\",\"type\":\"Selection\"},{\"attributes\":{\"source\":{\"id\":\"165203\",\"type\":\"ColumnDataSource\"}},\"id\":\"165207\",\"type\":\"CDSView\"},{\"attributes\":{\"line_alpha\":0.1,\"line_color\":\"#1f77b4\",\"line_width\":3,\"x\":{\"field\":\"x\"},\"y\":{\"field\":\"y\"}},\"id\":\"165061\",\"type\":\"Line\"},{\"attributes\":{\"callback\":null,\"data\":{\"x\":[1998,1999,2000,2001,2002,2003,2004,2005,2006,2007,2008,2009,2010,2011,2012,2013,2014,2015,2016,2017],\"y\":{\"__ndarray__\":\"K4cW2U5Wl0CYbhKDwH2fQOSlm8SgXpFArkfhehTWhkA5tMh2vn6XQCPb+X7qr55AgZVDi2zGm0DQItv5/kWhQBxaZDsfbKJAUrgeheszpUCS7Xw/Na2WQKNwPQoXoqVAKDEIrJyxkECmm8QgsO2kQJLtfD+1rKFAexSuR2GynkDy0k1iEIecQC2yne/nyaVAwvUoXA9rmUChRbbz/T+XQA==\",\"dtype\":\"float64\",\"shape\":[20]}},\"selected\":{\"id\":\"165171\",\"type\":\"Selection\"},\"selection_policy\":{\"id\":\"165170\",\"type\":\"UnionRenderers\"}},\"id\":\"165122\",\"type\":\"ColumnDataSource\"},{\"attributes\":{},\"id\":\"165231\",\"type\":\"Selection\"},{\"attributes\":{\"callback\":null,\"data\":{\"x\":[1998,1999,2000,2001,2002,2003,2004,2005,2006,2007,2008,2009,2010,2011,2012,2013,2014,2015,2016,2017],\"y\":{\"__ndarray__\":\"yqFFtvNwh0Cq8dJNYtidQHSTGASWqKNA5tAi27kjoED2KFyPQk2ZQD4K16OwPaBAy6FFtvManECsHFpkO7SaQDEIrBzaOZRAf2q8dJPCi0Bs5/up8Y2QQAAAAAAA9KRAv58aL92knUBzaJHtfEOcQMqhRbbzC6FAAAAAAABGp0CTGARWjoeYQPp+arw0lKVAHoXrUXjdo0AbL90khrSYQA==\",\"dtype\":\"float64\",\"shape\":[20]}},\"selected\":{\"id\":\"165144\",\"type\":\"Selection\"},\"selection_policy\":{\"id\":\"165143\",\"type\":\"UnionRenderers\"}},\"id\":\"165099\",\"type\":\"ColumnDataSource\"},{\"attributes\":{\"overlay\":{\"id\":\"165024\",\"type\":\"BoxAnnotation\"}},\"id\":\"165001\",\"type\":\"BoxZoomTool\"},{\"attributes\":{},\"id\":\"165170\",\"type\":\"UnionRenderers\"},{\"attributes\":{\"line_alpha\":0.8,\"line_color\":\"#fee08b\",\"line_width\":3,\"x\":{\"field\":\"x\"},\"y\":{\"field\":\"y\"}},\"id\":\"165123\",\"type\":\"Line\"},{\"attributes\":{\"line_alpha\":0.1,\"line_color\":\"#1f77b4\",\"line_width\":3,\"x\":{\"field\":\"x\"},\"y\":{\"field\":\"y\"}},\"id\":\"165015\",\"type\":\"Line\"},{\"attributes\":{},\"id\":\"164987\",\"type\":\"LinearScale\"},{\"attributes\":{},\"id\":\"165144\",\"type\":\"Selection\"},{\"attributes\":{\"axis_label_standoff\":10,\"axis_label_text_color\":{\"value\":\"#E0E0E0\"},\"axis_label_text_font\":\"Helvetica\",\"axis_label_text_font_size\":{\"value\":\"1.25em\"},\"axis_label_text_font_style\":\"normal\",\"axis_line_alpha\":{\"value\":0},\"axis_line_color\":{\"value\":\"#E0E0E0\"},\"formatter\":{\"id\":\"165020\",\"type\":\"BasicTickFormatter\"},\"major_label_text_color\":{\"value\":\"#E0E0E0\"},\"major_label_text_font\":\"Helvetica\",\"major_label_text_font_size\":{\"value\":\"1.025em\"},\"major_tick_line_alpha\":{\"value\":0},\"major_tick_line_color\":{\"value\":\"#E0E0E0\"},\"minor_tick_line_alpha\":{\"value\":0},\"minor_tick_line_color\":{\"value\":\"#E0E0E0\"},\"ticker\":{\"id\":\"164995\",\"type\":\"BasicTicker\"}},\"id\":\"164994\",\"type\":\"LinearAxis\"},{\"attributes\":{\"line_alpha\":0.8,\"line_color\":\"#d53e4f\",\"line_width\":3,\"x\":{\"field\":\"x\"},\"y\":{\"field\":\"y\"}},\"id\":\"165204\",\"type\":\"Line\"},{\"attributes\":{},\"id\":\"165230\",\"type\":\"UnionRenderers\"},{\"attributes\":{},\"id\":\"164999\",\"type\":\"PanTool\"},{\"attributes\":{\"line_alpha\":0.8,\"line_color\":\"#5e4fa2\",\"line_width\":3,\"x\":{\"field\":\"x\"},\"y\":{\"field\":\"y\"}},\"id\":\"165014\",\"type\":\"Line\"},{\"attributes\":{\"data_source\":{\"id\":\"165122\",\"type\":\"ColumnDataSource\"},\"glyph\":{\"id\":\"165123\",\"type\":\"Line\"},\"hover_glyph\":null,\"muted_glyph\":null,\"nonselection_glyph\":{\"id\":\"165124\",\"type\":\"Line\"},\"selection_glyph\":null,\"view\":{\"id\":\"165126\",\"type\":\"CDSView\"}},\"id\":\"165125\",\"type\":\"GlyphRenderer\"},{\"attributes\":{\"source\":{\"id\":\"165027\",\"type\":\"ColumnDataSource\"}},\"id\":\"165031\",\"type\":\"CDSView\"},{\"attributes\":{\"line_alpha\":0.8,\"line_color\":\"#e6f598\",\"line_width\":3,\"x\":{\"field\":\"x\"},\"y\":{\"field\":\"y\"}},\"id\":\"165079\",\"type\":\"Line\"},{\"attributes\":{},\"id\":\"165096\",\"type\":\"Selection\"},{\"attributes\":{},\"id\":\"165095\",\"type\":\"UnionRenderers\"},{\"attributes\":{},\"id\":\"165199\",\"type\":\"UnionRenderers\"},{\"attributes\":{\"label\":{\"value\":\"Bahia\"},\"renderers\":[{\"id\":\"165206\",\"type\":\"GlyphRenderer\"}]},\"id\":\"165233\",\"type\":\"LegendItem\"},{\"attributes\":{\"callback\":null,\"data\":{\"x\":[1998,1999,2000,2001,2002,2003,2004,2005,2006,2007,2008,2009,2010,2011,2012,2013,2014,2015,2016,2017],\"y\":{\"__ndarray__\":\"nu+nxktEk0D1/dR46SmPQEFg5dAiVJdAbOf7qTG1oEDvp8ZLt3eeQGiR7Xy/gZxAd76fGm+5oEBzaJHtfLqZQML1KFyPP6NApHA9Clf3kkCwcmiRrbSgQDeJQWClZqBApHA9CtfRmkBiEFg5tJubQOOlm8RgfqZAL90kBsEDo0B46SYxSJShQKwcWmQ7uZRAwvUoXA8LoUDIdr6fmreYQA==\",\"dtype\":\"float64\",\"shape\":[20]}},\"selected\":{\"id\":\"165200\",\"type\":\"Selection\"},\"selection_policy\":{\"id\":\"165199\",\"type\":\"UnionRenderers\"}},\"id\":\"165147\",\"type\":\"ColumnDataSource\"},{\"attributes\":{\"active_drag\":\"auto\",\"active_inspect\":\"auto\",\"active_multi\":null,\"active_scroll\":\"auto\",\"active_tap\":\"auto\",\"tools\":[{\"id\":\"164999\",\"type\":\"PanTool\"},{\"id\":\"165000\",\"type\":\"WheelZoomTool\"},{\"id\":\"165001\",\"type\":\"BoxZoomTool\"},{\"id\":\"165002\",\"type\":\"SaveTool\"},{\"id\":\"165003\",\"type\":\"ResetTool\"},{\"id\":\"165004\",\"type\":\"HelpTool\"}]},\"id\":\"165005\",\"type\":\"Toolbar\"},{\"attributes\":{\"callback\":null,\"data\":{\"x\":[1998,1999,2000,2001,2002,2003,2004,2005,2006,2007,2008,2009,2010,2011,2012,2013,2014,2015,2016,2017],\"y\":{\"__ndarray__\":\"SgwCK8fCokA1XrpJzEanQHnpJjGIcq5AZmZmZiYgqEDFSzeJAaOsQMh2vp/aG7tAGQRWDi3LskCkcD0Ktwq1QPYoXI9ivrBAxCCwcmh3q0CTGARWzo+qQDvfT423/L9AuR6F63FsuED6fmq8NAy1QAAAAABA3bRA2/l+ahx2tEC28/3UmAK3QMDKoUUWdbhADAIrh9aJrEDMoUW2Ux22QA==\",\"dtype\":\"float64\",\"shape\":[20]}},\"selected\":{\"id\":\"165096\",\"type\":\"Selection\"},\"selection_policy\":{\"id\":\"165095\",\"type\":\"UnionRenderers\"}},\"id\":\"165059\",\"type\":\"ColumnDataSource\"},{\"attributes\":{\"data_source\":{\"id\":\"165203\",\"type\":\"ColumnDataSource\"},\"glyph\":{\"id\":\"165204\",\"type\":\"Line\"},\"hover_glyph\":null,\"muted_glyph\":null,\"nonselection_glyph\":{\"id\":\"165205\",\"type\":\"Line\"},\"selection_glyph\":null,\"view\":{\"id\":\"165207\",\"type\":\"CDSView\"}},\"id\":\"165206\",\"type\":\"GlyphRenderer\"},{\"attributes\":{\"source\":{\"id\":\"165078\",\"type\":\"ColumnDataSource\"}},\"id\":\"165082\",\"type\":\"CDSView\"},{\"attributes\":{\"label\":{\"value\":\"Mato Grosso\"},\"renderers\":[{\"id\":\"165062\",\"type\":\"GlyphRenderer\"}]},\"id\":\"165077\",\"type\":\"LegendItem\"},{\"attributes\":{},\"id\":\"165000\",\"type\":\"WheelZoomTool\"},{\"attributes\":{},\"id\":\"165002\",\"type\":\"SaveTool\"},{\"attributes\":{\"callback\":null,\"data\":{\"x\":[1998,1999,2000,2001,2002,2003,2004,2005,2006,2007,2008,2009,2010,2011,2012,2013,2014,2015,2016,2017],\"y\":{\"__ndarray__\":\"UI2XbhKFjEBWDi2ynQCDQN9PjZduDI9A5/up8VLcn0COl24Sg/udQPUoXI9CuZhASOF6FK5Zj0BWDi2yndiVQPt+arx0U49ALbKd76ffoEDazvdT4+ScQHnpJjFIZqRAdr6fGm+NokDoJjEIrBeXQObQIts5OKBAwMqhRTajnkAxCKwc2sCaQIPAyqGF2qBAAAAAAMB2o0B1kxgE1ouVQA==\",\"dtype\":\"float64\",\"shape\":[20]}},\"selected\":{\"id\":\"165056\",\"type\":\"Selection\"},\"selection_policy\":{\"id\":\"165055\",\"type\":\"UnionRenderers\"}},\"id\":\"165027\",\"type\":\"ColumnDataSource\"},{\"attributes\":{},\"id\":\"165004\",\"type\":\"HelpTool\"},{\"attributes\":{},\"id\":\"165119\",\"type\":\"Selection\"},{\"attributes\":{\"source\":{\"id\":\"165147\",\"type\":\"ColumnDataSource\"}},\"id\":\"165151\",\"type\":\"CDSView\"},{\"attributes\":{},\"id\":\"165200\",\"type\":\"Selection\"},{\"attributes\":{\"label\":{\"value\":\"Piau\"},\"renderers\":[{\"id\":\"165125\",\"type\":\"GlyphRenderer\"}]},\"id\":\"165146\",\"type\":\"LegendItem\"},{\"attributes\":{\"callback\":null,\"data\":{\"x\":[1998,1999,2000,2001,2002,2003,2004,2005,2006,2007,2008,2009,2010,2011,2012,2013,2014,2015,2016,2017],\"y\":{\"__ndarray__\":\"AAAAAACAiUAAAAAAANqqQAAAAAAA6KVAAAAAAAAyoEAW2c73U5GhQHE9Ctcj2aVAbOf7qTGRpUAAAAAAAMaqQAAAAAAA2KlAAAAAAADSpEAAAAAAAGSaQAAAAAAAJqdAAAAAAAAupUAAAAAAAKCpQAAAAAAA2qFAAAAAAABioUAAAAAAAGylQAAAAAAAqqVAjpduEsOWokD0/dR4admnQA==\",\"dtype\":\"float64\",\"shape\":[20]}},\"selected\":{\"id\":\"165231\",\"type\":\"Selection\"},\"selection_policy\":{\"id\":\"165230\",\"type\":\"UnionRenderers\"}},\"id\":\"165174\",\"type\":\"ColumnDataSource\"},{\"attributes\":{\"line_alpha\":0.1,\"line_color\":\"#1f77b4\",\"line_width\":3,\"x\":{\"field\":\"x\"},\"y\":{\"field\":\"y\"}},\"id\":\"165080\",\"type\":\"Line\"},{\"attributes\":{\"line_alpha\":0.1,\"line_color\":\"#1f77b4\",\"line_width\":3,\"x\":{\"field\":\"x\"},\"y\":{\"field\":\"y\"}},\"id\":\"165149\",\"type\":\"Line\"},{\"attributes\":{\"data_source\":{\"id\":\"165027\",\"type\":\"ColumnDataSource\"},\"glyph\":{\"id\":\"165028\",\"type\":\"Line\"},\"hover_glyph\":null,\"muted_glyph\":null,\"nonselection_glyph\":{\"id\":\"165029\",\"type\":\"Line\"},\"selection_glyph\":null,\"view\":{\"id\":\"165031\",\"type\":\"CDSView\"}},\"id\":\"165030\",\"type\":\"GlyphRenderer\"},{\"attributes\":{\"data_source\":{\"id\":\"165174\",\"type\":\"ColumnDataSource\"},\"glyph\":{\"id\":\"165175\",\"type\":\"Line\"},\"hover_glyph\":null,\"muted_glyph\":null,\"nonselection_glyph\":{\"id\":\"165176\",\"type\":\"Line\"},\"selection_glyph\":null,\"view\":{\"id\":\"165178\",\"type\":\"CDSView\"}},\"id\":\"165177\",\"type\":\"GlyphRenderer\"},{\"attributes\":{\"source\":{\"id\":\"165122\",\"type\":\"ColumnDataSource\"}},\"id\":\"165126\",\"type\":\"CDSView\"},{\"attributes\":{\"data_source\":{\"id\":\"165099\",\"type\":\"ColumnDataSource\"},\"glyph\":{\"id\":\"165100\",\"type\":\"Line\"},\"hover_glyph\":null,\"muted_glyph\":null,\"nonselection_glyph\":{\"id\":\"165101\",\"type\":\"Line\"},\"selection_glyph\":null,\"view\":{\"id\":\"165103\",\"type\":\"CDSView\"}},\"id\":\"165102\",\"type\":\"GlyphRenderer\"},{\"attributes\":{\"source\":{\"id\":\"165059\",\"type\":\"ColumnDataSource\"}},\"id\":\"165063\",\"type\":\"CDSView\"},{\"attributes\":{\"line_alpha\":0.1,\"line_color\":\"#1f77b4\",\"line_width\":3,\"x\":{\"field\":\"x\"},\"y\":{\"field\":\"y\"}},\"id\":\"165205\",\"type\":\"Line\"},{\"attributes\":{\"data_source\":{\"id\":\"165059\",\"type\":\"ColumnDataSource\"},\"glyph\":{\"id\":\"165060\",\"type\":\"Line\"},\"hover_glyph\":null,\"muted_glyph\":null,\"nonselection_glyph\":{\"id\":\"165061\",\"type\":\"Line\"},\"selection_glyph\":null,\"view\":{\"id\":\"165063\",\"type\":\"CDSView\"}},\"id\":\"165062\",\"type\":\"GlyphRenderer\"},{\"attributes\":{\"callback\":null,\"data\":{\"x\":[1998,1999,2000,2001,2002,2003,2004,2005,2006,2007,2008,2009,2010,2011,2012,2013,2014,2015,2016,2017],\"y\":{\"__ndarray__\":\"AAAAAAD0kUA9CtejcBiQQAAAAAAAUIRAAAAAAADIikAAAAAAAAKnQAwCK4fW3KpAAAAAAADaqkAAAAAAAPKhQAAAAAAAiqNAAAAAAAAmoEAAAAAAAASTQH0/NV466JpAAAAAAAAKo0AAAAAAAA6kQAAAAAAAVqFAAAAAAABEmUB1kxgEVoqlQAAAAAAA8qNAtvP91DjKqkAAAAAAAK+wQA==\",\"dtype\":\"float64\",\"shape\":[20]}},\"selected\":{\"id\":\"165039\",\"type\":\"Selection\"},\"selection_policy\":{\"id\":\"165038\",\"type\":\"UnionRenderers\"}},\"id\":\"165013\",\"type\":\"ColumnDataSource\"},{\"attributes\":{\"line_alpha\":0.1,\"line_color\":\"#1f77b4\",\"line_width\":3,\"x\":{\"field\":\"x\"},\"y\":{\"field\":\"y\"}},\"id\":\"165101\",\"type\":\"Line\"},{\"attributes\":{},\"id\":\"165003\",\"type\":\"ResetTool\"},{\"attributes\":{\"callback\":null},\"id\":\"164983\",\"type\":\"DataRange1d\"},{\"attributes\":{\"label\":{\"value\":\"Rio\"},\"renderers\":[{\"id\":\"165016\",\"type\":\"GlyphRenderer\"}]},\"id\":\"165026\",\"type\":\"LegendItem\"},{\"attributes\":{\"line_alpha\":0.1,\"line_color\":\"#1f77b4\",\"line_width\":3,\"x\":{\"field\":\"x\"},\"y\":{\"field\":\"y\"}},\"id\":\"165124\",\"type\":\"Line\"},{\"attributes\":{},\"id\":\"165074\",\"type\":\"UnionRenderers\"},{\"attributes\":{},\"id\":\"164995\",\"type\":\"BasicTicker\"},{\"attributes\":{\"line_alpha\":0.1,\"line_color\":\"#1f77b4\",\"line_width\":3,\"x\":{\"field\":\"x\"},\"y\":{\"field\":\"y\"}},\"id\":\"165029\",\"type\":\"Line\"},{\"attributes\":{},\"id\":\"165118\",\"type\":\"UnionRenderers\"},{\"attributes\":{},\"id\":\"165328\",\"type\":\"UnionRenderers\"},{\"attributes\":{\"line_alpha\":0.8,\"line_color\":\"#fdae61\",\"line_width\":3,\"x\":{\"field\":\"x\"},\"y\":{\"field\":\"y\"}},\"id\":\"165148\",\"type\":\"Line\"},{\"attributes\":{\"line_alpha\":0.1,\"line_color\":\"#1f77b4\",\"line_width\":3,\"x\":{\"field\":\"x\"},\"y\":{\"field\":\"y\"}},\"id\":\"165176\",\"type\":\"Line\"},{\"attributes\":{\"callback\":null,\"data\":{\"x\":[1998,1999,2000,2001,2002,2003,2004,2005,2006,2007,2008,2009,2010,2011,2012,2013,2014,2015,2016,2017],\"y\":{\"__ndarray__\":\"aZHtfL8ik0AX2c73U7aSQNejcD2KipVAZDvfT033okBmZmZmZtGhQMzMzMxMCKhAQmDl0KKxmUASg8DKIWyiQFK4HoUrmqNAK4cW2Y5EoUBaZDvfz+KdQOf7qfFSEqFA7FG4HgWmo0Cmm8QgMKSfQLTIdr7f/apAzczMzEwXpEBEi2znuzKjQFYOLbIdZqJAhxbZzneAq0DHSzeJQYeWQA==\",\"dtype\":\"float64\",\"shape\":[20]}},\"selected\":{\"id\":\"165329\",\"type\":\"Selection\"},\"selection_policy\":{\"id\":\"165328\",\"type\":\"UnionRenderers\"}},\"id\":\"165203\",\"type\":\"ColumnDataSource\"},{\"attributes\":{\"data_source\":{\"id\":\"165147\",\"type\":\"ColumnDataSource\"},\"glyph\":{\"id\":\"165148\",\"type\":\"Line\"},\"hover_glyph\":null,\"muted_glyph\":null,\"nonselection_glyph\":{\"id\":\"165149\",\"type\":\"Line\"},\"selection_glyph\":null,\"view\":{\"id\":\"165151\",\"type\":\"CDSView\"}},\"id\":\"165150\",\"type\":\"GlyphRenderer\"},{\"attributes\":{},\"id\":\"165329\",\"type\":\"Selection\"},{\"attributes\":{\"dimension\":1,\"grid_line_alpha\":0.25,\"grid_line_color\":\"#E0E0E0\",\"ticker\":{\"id\":\"164995\",\"type\":\"BasicTicker\"}},\"id\":\"164998\",\"type\":\"Grid\"},{\"attributes\":{\"label\":{\"value\":\"Amazonas\"},\"renderers\":[{\"id\":\"165081\",\"type\":\"GlyphRenderer\"}]},\"id\":\"165098\",\"type\":\"LegendItem\"},{\"attributes\":{},\"id\":\"165075\",\"type\":\"Selection\"},{\"attributes\":{\"callback\":null},\"id\":\"164981\",\"type\":\"DataRange1d\"},{\"attributes\":{\"line_alpha\":0.8,\"line_color\":\"#3288bd\",\"line_width\":3,\"x\":{\"field\":\"x\"},\"y\":{\"field\":\"y\"}},\"id\":\"165028\",\"type\":\"Line\"},{\"attributes\":{\"source\":{\"id\":\"165174\",\"type\":\"ColumnDataSource\"}},\"id\":\"165178\",\"type\":\"CDSView\"}],\"root_ids\":[\"164980\"]},\"title\":\"Bokeh Application\",\"version\":\"1.3.4\"}};\n",
       "  var render_items = [{\"docid\":\"ba8b6bb0-cda5-45b3-99a0-1ddb9a40fdd9\",\"roots\":{\"164980\":\"13f94949-7ea1-4a47-ada9-a96e5fb8bdc8\"}}];\n",
       "  root.Bokeh.embed.embed_items_notebook(docs_json, render_items);\n",
       "\n",
       "  }\n",
       "  if (root.Bokeh !== undefined) {\n",
       "    embed_document(root);\n",
       "  } else {\n",
       "    var attempts = 0;\n",
       "    var timer = setInterval(function(root) {\n",
       "      if (root.Bokeh !== undefined) {\n",
       "        embed_document(root);\n",
       "        clearInterval(timer);\n",
       "      }\n",
       "      attempts++;\n",
       "      if (attempts > 100) {\n",
       "        console.log(\"Bokeh: ERROR: Unable to run BokehJS code because BokehJS library is missing\");\n",
       "        clearInterval(timer);\n",
       "      }\n",
       "    }, 10, root)\n",
       "  }\n",
       "})(window);"
      ],
      "application/vnd.bokehjs_exec.v0+json": ""
     },
     "metadata": {
      "application/vnd.bokehjs_exec.v0+json": {
       "id": "164980"
      }
     },
     "output_type": "display_data"
    }
   ],
   "source": [
    "p = figure(plot_width=WIDTH, plot_height=HEIGHT)\n",
    "p.title.text = 'Top 10 firest states: yearly count'\n",
    "\n",
    "plots = []\n",
    "\n",
    "for state, name, color in zip(data_lst, [str(state) for state in firest_states], Spectral11):\n",
    "    plots.append(p.line(state['year'], state['count'],\n",
    "                        line_width=3, color=color, alpha=0.8, legend=name))\n",
    "\n",
    "p.legend.location = \"top_left\"\n",
    "p.legend.click_policy = \"hide\"\n",
    "\n",
    "show(p)"
   ]
  },
  {
   "cell_type": "markdown",
   "metadata": {},
   "source": [
    "### Per Month"
   ]
  },
  {
   "cell_type": "code",
   "execution_count": 1720,
   "metadata": {},
   "outputs": [],
   "source": [
    "data_lst = list()\n",
    "\n",
    "for state in firest_states:\n",
    "    temp = df[df.state == state]\n",
    "    temp = temp.groupby('month_num')['number'].sum().reset_index(name='count')\n",
    "    data_lst.append(temp)"
   ]
  },
  {
   "cell_type": "code",
   "execution_count": 1721,
   "metadata": {},
   "outputs": [
    {
     "data": {
      "text/html": [
       "\n",
       "\n",
       "\n",
       "\n",
       "\n",
       "\n",
       "  <div class=\"bk-root\" id=\"3d5f693d-2fbe-4f3d-b70c-1977cd5a48a2\" data-root-id=\"165493\"></div>\n"
      ]
     },
     "metadata": {},
     "output_type": "display_data"
    },
    {
     "data": {
      "application/javascript": [
       "(function(root) {\n",
       "  function embed_document(root) {\n",
       "    \n",
       "  var docs_json = {\"85f668a1-8099-4a0e-9930-e56b8354690a\":{\"roots\":{\"references\":[{\"attributes\":{\"background_fill_color\":{\"value\":\"#20262B\"},\"below\":[{\"id\":\"165502\",\"type\":\"LinearAxis\"}],\"border_fill_color\":{\"value\":\"#15191C\"},\"center\":[{\"id\":\"165506\",\"type\":\"Grid\"},{\"id\":\"165511\",\"type\":\"Grid\"},{\"id\":\"165538\",\"type\":\"Legend\"}],\"left\":[{\"id\":\"165507\",\"type\":\"LinearAxis\"}],\"outline_line_alpha\":{\"value\":0.25},\"outline_line_color\":{\"value\":\"#E0E0E0\"},\"plot_height\":700,\"plot_width\":900,\"renderers\":[{\"id\":\"165529\",\"type\":\"GlyphRenderer\"},{\"id\":\"165543\",\"type\":\"GlyphRenderer\"},{\"id\":\"165558\",\"type\":\"GlyphRenderer\"},{\"id\":\"165575\",\"type\":\"GlyphRenderer\"},{\"id\":\"165594\",\"type\":\"GlyphRenderer\"},{\"id\":\"165615\",\"type\":\"GlyphRenderer\"},{\"id\":\"165638\",\"type\":\"GlyphRenderer\"},{\"id\":\"165663\",\"type\":\"GlyphRenderer\"},{\"id\":\"165690\",\"type\":\"GlyphRenderer\"},{\"id\":\"165719\",\"type\":\"GlyphRenderer\"}],\"title\":{\"id\":\"165525\",\"type\":\"Title\"},\"toolbar\":{\"id\":\"165518\",\"type\":\"Toolbar\"},\"x_range\":{\"id\":\"165494\",\"type\":\"DataRange1d\"},\"x_scale\":{\"id\":\"165498\",\"type\":\"LinearScale\"},\"y_range\":{\"id\":\"165496\",\"type\":\"DataRange1d\"},\"y_scale\":{\"id\":\"165500\",\"type\":\"LinearScale\"}},\"id\":\"165493\",\"subtype\":\"Figure\",\"type\":\"Plot\"},{\"attributes\":{\"data_source\":{\"id\":\"165687\",\"type\":\"ColumnDataSource\"},\"glyph\":{\"id\":\"165688\",\"type\":\"Line\"},\"hover_glyph\":null,\"muted_glyph\":null,\"nonselection_glyph\":{\"id\":\"165689\",\"type\":\"Line\"},\"selection_glyph\":null,\"view\":{\"id\":\"165691\",\"type\":\"CDSView\"}},\"id\":\"165690\",\"type\":\"GlyphRenderer\"},{\"attributes\":{\"label\":{\"value\":\"Piau\"},\"renderers\":[{\"id\":\"165638\",\"type\":\"GlyphRenderer\"}]},\"id\":\"165659\",\"type\":\"LegendItem\"},{\"attributes\":{\"line_alpha\":0.1,\"line_color\":\"#1f77b4\",\"line_width\":3,\"x\":{\"field\":\"x\"},\"y\":{\"field\":\"y\"}},\"id\":\"165718\",\"type\":\"Line\"},{\"attributes\":{},\"id\":\"165743\",\"type\":\"UnionRenderers\"},{\"attributes\":{},\"id\":\"165657\",\"type\":\"Selection\"},{\"attributes\":{\"line_alpha\":0.1,\"line_color\":\"#1f77b4\",\"line_width\":3,\"x\":{\"field\":\"x\"},\"y\":{\"field\":\"y\"}},\"id\":\"165689\",\"type\":\"Line\"},{\"attributes\":{\"axis_label_standoff\":10,\"axis_label_text_color\":{\"value\":\"#E0E0E0\"},\"axis_label_text_font\":\"Helvetica\",\"axis_label_text_font_size\":{\"value\":\"1.25em\"},\"axis_label_text_font_style\":\"normal\",\"axis_line_alpha\":{\"value\":0},\"axis_line_color\":{\"value\":\"#E0E0E0\"},\"formatter\":{\"id\":\"165535\",\"type\":\"BasicTickFormatter\"},\"major_label_text_color\":{\"value\":\"#E0E0E0\"},\"major_label_text_font\":\"Helvetica\",\"major_label_text_font_size\":{\"value\":\"1.025em\"},\"major_tick_line_alpha\":{\"value\":0},\"major_tick_line_color\":{\"value\":\"#E0E0E0\"},\"minor_tick_line_alpha\":{\"value\":0},\"minor_tick_line_color\":{\"value\":\"#E0E0E0\"},\"ticker\":{\"id\":\"165503\",\"type\":\"BasicTicker\"}},\"id\":\"165502\",\"type\":\"LinearAxis\"},{\"attributes\":{\"callback\":null,\"data\":{\"x\":[1,2,3,4,5,6,7,8,9,10,11,12],\"y\":{\"__ndarray__\":\"AAAAAABAi0AAAAAAAICXQAAAAAAAjJdAAAAAAAB0nkAAAAAAANimQAAAAAAAirJAAAAAAAAZv0ApXI/CRVfDQCUGgZXT48JAAAAAAAAZukAAAAAAALSiQAAAAAAAiI9A\",\"dtype\":\"float64\",\"shape\":[12]}},\"selected\":{\"id\":\"165588\",\"type\":\"Selection\"},\"selection_policy\":{\"id\":\"165587\",\"type\":\"UnionRenderers\"}},\"id\":\"165555\",\"type\":\"ColumnDataSource\"},{\"attributes\":{},\"id\":\"165500\",\"type\":\"LinearScale\"},{\"attributes\":{\"label\":{\"value\":\"Minas Gerais\"},\"renderers\":[{\"id\":\"165663\",\"type\":\"GlyphRenderer\"}]},\"id\":\"165686\",\"type\":\"LegendItem\"},{\"attributes\":{},\"id\":\"165569\",\"type\":\"Selection\"},{\"attributes\":{\"line_alpha\":0.1,\"line_color\":\"#1f77b4\",\"line_width\":3,\"x\":{\"field\":\"x\"},\"y\":{\"field\":\"y\"}},\"id\":\"165557\",\"type\":\"Line\"},{\"attributes\":{\"source\":{\"id\":\"165687\",\"type\":\"ColumnDataSource\"}},\"id\":\"165691\",\"type\":\"CDSView\"},{\"attributes\":{\"callback\":null,\"data\":{\"x\":[1,2,3,4,5,6,7,8,9,10,11,12],\"y\":{\"__ndarray__\":\"AAAAAAB4jkAAAAAAAACKQAAAAAAAgIxAAAAAAAA8n0AAAAAAACy2QGzn+6kRKrxAa7x0k7gbu0CaxCCwcgmMQEfhehSun1hAGQRWDq2NlkAAAAAAADi0QAAAAAAANJhA\",\"dtype\":\"float64\",\"shape\":[12]}},\"selected\":{\"id\":\"165569\",\"type\":\"Selection\"},\"selection_policy\":{\"id\":\"165568\",\"type\":\"UnionRenderers\"}},\"id\":\"165540\",\"type\":\"ColumnDataSource\"},{\"attributes\":{\"callback\":null,\"data\":{\"x\":[1,2,3,4,5,6,7,8,9,10,11,12],\"y\":{\"__ndarray__\":\"AAAAAAAeo0AAAAAAAASUQAAAAAAAfJRAAAAAAAAYlEAAAAAAAPCQQAAAAAAA4JNAAAAAAAASrkB6FK5HwS++QAAAAAAA3MNAAAAAAACEuUAAAAAAAIqxQB+F61E4Aq1A\",\"dtype\":\"float64\",\"shape\":[12]}},\"selected\":{\"id\":\"165552\",\"type\":\"Selection\"},\"selection_policy\":{\"id\":\"165551\",\"type\":\"UnionRenderers\"}},\"id\":\"165526\",\"type\":\"ColumnDataSource\"},{\"attributes\":{\"line_alpha\":0.8,\"line_color\":\"#5e4fa2\",\"line_width\":3,\"x\":{\"field\":\"x\"},\"y\":{\"field\":\"y\"}},\"id\":\"165527\",\"type\":\"Line\"},{\"attributes\":{\"line_alpha\":0.8,\"line_color\":\"#d53e4f\",\"line_width\":3,\"x\":{\"field\":\"x\"},\"y\":{\"field\":\"y\"}},\"id\":\"165717\",\"type\":\"Line\"},{\"attributes\":{},\"id\":\"165869\",\"type\":\"Selection\"},{\"attributes\":{\"line_alpha\":0.1,\"line_color\":\"#1f77b4\",\"line_width\":3,\"x\":{\"field\":\"x\"},\"y\":{\"field\":\"y\"}},\"id\":\"165542\",\"type\":\"Line\"},{\"attributes\":{\"line_alpha\":0.1,\"line_color\":\"#1f77b4\",\"line_width\":3,\"x\":{\"field\":\"x\"},\"y\":{\"field\":\"y\"}},\"id\":\"165662\",\"type\":\"Line\"},{\"attributes\":{},\"id\":\"165516\",\"type\":\"ResetTool\"},{\"attributes\":{\"overlay\":{\"id\":\"165537\",\"type\":\"BoxAnnotation\"}},\"id\":\"165514\",\"type\":\"BoxZoomTool\"},{\"attributes\":{},\"id\":\"165568\",\"type\":\"UnionRenderers\"},{\"attributes\":{\"line_alpha\":0.1,\"line_color\":\"#1f77b4\",\"line_width\":3,\"x\":{\"field\":\"x\"},\"y\":{\"field\":\"y\"}},\"id\":\"165574\",\"type\":\"Line\"},{\"attributes\":{\"source\":{\"id\":\"165555\",\"type\":\"ColumnDataSource\"}},\"id\":\"165559\",\"type\":\"CDSView\"},{\"attributes\":{\"callback\":null,\"data\":{\"x\":[1,2,3,4,5,6,7,8,9,10,11,12],\"y\":{\"__ndarray__\":\"AAAAAADElEAAAAAAAECcQAAAAAAA7JhAAAAAAAA0m0AAAAAAAGChQAAAAAAAaq5AmG4Sg4B7wUDazvdTg7q5QOJ6FK5HOVBAGARWDi3AoEBfukkMwh+0QAAAAAAADJ9A\",\"dtype\":\"float64\",\"shape\":[12]}},\"selected\":{\"id\":\"165713\",\"type\":\"Selection\"},\"selection_policy\":{\"id\":\"165712\",\"type\":\"UnionRenderers\"}},\"id\":\"165660\",\"type\":\"ColumnDataSource\"},{\"attributes\":{},\"id\":\"165552\",\"type\":\"Selection\"},{\"attributes\":{\"data_source\":{\"id\":\"165660\",\"type\":\"ColumnDataSource\"},\"glyph\":{\"id\":\"165661\",\"type\":\"Line\"},\"hover_glyph\":null,\"muted_glyph\":null,\"nonselection_glyph\":{\"id\":\"165662\",\"type\":\"Line\"},\"selection_glyph\":null,\"view\":{\"id\":\"165664\",\"type\":\"CDSView\"}},\"id\":\"165663\",\"type\":\"GlyphRenderer\"},{\"attributes\":{},\"id\":\"165503\",\"type\":\"BasicTicker\"},{\"attributes\":{},\"id\":\"165684\",\"type\":\"Selection\"},{\"attributes\":{\"active_drag\":\"auto\",\"active_inspect\":\"auto\",\"active_multi\":null,\"active_scroll\":\"auto\",\"active_tap\":\"auto\",\"tools\":[{\"id\":\"165512\",\"type\":\"PanTool\"},{\"id\":\"165513\",\"type\":\"WheelZoomTool\"},{\"id\":\"165514\",\"type\":\"BoxZoomTool\"},{\"id\":\"165515\",\"type\":\"SaveTool\"},{\"id\":\"165516\",\"type\":\"ResetTool\"},{\"id\":\"165517\",\"type\":\"HelpTool\"}]},\"id\":\"165518\",\"type\":\"Toolbar\"},{\"attributes\":{\"callback\":null,\"data\":{\"x\":[1,2,3,4,5,6,7,8,9,10,11,12],\"y\":{\"__ndarray__\":\"AAAAAAB0n0AAAAAAALiMQAAAAAAA+I5AAAAAAAAElEAAAAAAACiVQAAAAAAAuJ9AAAAAAAD6rUDufD813tnDQDEIrBz6dcBAvp8aL52uwEAAAAAAAOjAQAAAAAAAfrBA\",\"dtype\":\"float64\",\"shape\":[12]}},\"selected\":{\"id\":\"165744\",\"type\":\"Selection\"},\"selection_policy\":{\"id\":\"165743\",\"type\":\"UnionRenderers\"}},\"id\":\"165687\",\"type\":\"ColumnDataSource\"},{\"attributes\":{},\"id\":\"165533\",\"type\":\"BasicTickFormatter\"},{\"attributes\":{\"bottom_units\":\"screen\",\"fill_alpha\":{\"value\":0.5},\"fill_color\":{\"value\":\"lightgrey\"},\"left_units\":\"screen\",\"level\":\"overlay\",\"line_alpha\":{\"value\":1.0},\"line_color\":{\"value\":\"black\"},\"line_dash\":[4,4],\"line_width\":{\"value\":2},\"render_mode\":\"css\",\"right_units\":\"screen\",\"top_units\":\"screen\"},\"id\":\"165537\",\"type\":\"BoxAnnotation\"},{\"attributes\":{},\"id\":\"165498\",\"type\":\"LinearScale\"},{\"attributes\":{\"line_alpha\":0.8,\"line_color\":\"#f46d43\",\"line_width\":3,\"x\":{\"field\":\"x\"},\"y\":{\"field\":\"y\"}},\"id\":\"165688\",\"type\":\"Line\"},{\"attributes\":{\"source\":{\"id\":\"165526\",\"type\":\"ColumnDataSource\"}},\"id\":\"165530\",\"type\":\"CDSView\"},{\"attributes\":{},\"id\":\"165744\",\"type\":\"Selection\"},{\"attributes\":{\"grid_line_alpha\":0.25,\"grid_line_color\":\"#E0E0E0\",\"ticker\":{\"id\":\"165503\",\"type\":\"BasicTicker\"}},\"id\":\"165506\",\"type\":\"Grid\"},{\"attributes\":{\"label\":{\"value\":\"Rio\"},\"renderers\":[{\"id\":\"165529\",\"type\":\"GlyphRenderer\"}]},\"id\":\"165539\",\"type\":\"LegendItem\"},{\"attributes\":{},\"id\":\"165683\",\"type\":\"UnionRenderers\"},{\"attributes\":{},\"id\":\"165508\",\"type\":\"BasicTicker\"},{\"attributes\":{\"line_alpha\":0.8,\"line_color\":\"#fdae61\",\"line_width\":3,\"x\":{\"field\":\"x\"},\"y\":{\"field\":\"y\"}},\"id\":\"165661\",\"type\":\"Line\"},{\"attributes\":{},\"id\":\"165713\",\"type\":\"Selection\"},{\"attributes\":{\"source\":{\"id\":\"165716\",\"type\":\"ColumnDataSource\"}},\"id\":\"165720\",\"type\":\"CDSView\"},{\"attributes\":{},\"id\":\"165513\",\"type\":\"WheelZoomTool\"},{\"attributes\":{},\"id\":\"165868\",\"type\":\"UnionRenderers\"},{\"attributes\":{\"data_source\":{\"id\":\"165540\",\"type\":\"ColumnDataSource\"},\"glyph\":{\"id\":\"165541\",\"type\":\"Line\"},\"hover_glyph\":null,\"muted_glyph\":null,\"nonselection_glyph\":{\"id\":\"165542\",\"type\":\"Line\"},\"selection_glyph\":null,\"view\":{\"id\":\"165544\",\"type\":\"CDSView\"}},\"id\":\"165543\",\"type\":\"GlyphRenderer\"},{\"attributes\":{\"source\":{\"id\":\"165660\",\"type\":\"ColumnDataSource\"}},\"id\":\"165664\",\"type\":\"CDSView\"},{\"attributes\":{},\"id\":\"165535\",\"type\":\"BasicTickFormatter\"},{\"attributes\":{\"callback\":null,\"data\":{\"x\":[1,2,3,4,5,6,7,8,9,10,11,12],\"y\":{\"__ndarray__\":\"AAAAAADIrUAAAAAAAKqpQAAAAAAAlqpAAAAAAACco0AAAAAAAKikQAAAAAAAXq9AAAAAAADCvEBzaJHtjArBQFGNl24S61ZAhxbZzvfrUkCsHFpkW6ewQMUgsHJoz7FA\",\"dtype\":\"float64\",\"shape\":[12]}},\"selected\":{\"id\":\"165869\",\"type\":\"Selection\"},\"selection_policy\":{\"id\":\"165868\",\"type\":\"UnionRenderers\"}},\"id\":\"165716\",\"type\":\"ColumnDataSource\"},{\"attributes\":{},\"id\":\"165517\",\"type\":\"HelpTool\"},{\"attributes\":{\"line_alpha\":0.8,\"line_color\":\"#abdda4\",\"line_width\":3,\"x\":{\"field\":\"x\"},\"y\":{\"field\":\"y\"}},\"id\":\"165573\",\"type\":\"Line\"},{\"attributes\":{\"data_source\":{\"id\":\"165716\",\"type\":\"ColumnDataSource\"},\"glyph\":{\"id\":\"165717\",\"type\":\"Line\"},\"hover_glyph\":null,\"muted_glyph\":null,\"nonselection_glyph\":{\"id\":\"165718\",\"type\":\"Line\"},\"selection_glyph\":null,\"view\":{\"id\":\"165720\",\"type\":\"CDSView\"}},\"id\":\"165719\",\"type\":\"GlyphRenderer\"},{\"attributes\":{\"dimension\":1,\"grid_line_alpha\":0.25,\"grid_line_color\":\"#E0E0E0\",\"ticker\":{\"id\":\"165508\",\"type\":\"BasicTicker\"}},\"id\":\"165511\",\"type\":\"Grid\"},{\"attributes\":{\"source\":{\"id\":\"165540\",\"type\":\"ColumnDataSource\"}},\"id\":\"165544\",\"type\":\"CDSView\"},{\"attributes\":{\"line_alpha\":0.8,\"line_color\":\"#66c2a5\",\"line_width\":3,\"x\":{\"field\":\"x\"},\"y\":{\"field\":\"y\"}},\"id\":\"165556\",\"type\":\"Line\"},{\"attributes\":{},\"id\":\"165512\",\"type\":\"PanTool\"},{\"attributes\":{\"axis_label_standoff\":10,\"axis_label_text_color\":{\"value\":\"#E0E0E0\"},\"axis_label_text_font\":\"Helvetica\",\"axis_label_text_font_size\":{\"value\":\"1.25em\"},\"axis_label_text_font_style\":\"normal\",\"axis_line_alpha\":{\"value\":0},\"axis_line_color\":{\"value\":\"#E0E0E0\"},\"formatter\":{\"id\":\"165533\",\"type\":\"BasicTickFormatter\"},\"major_label_text_color\":{\"value\":\"#E0E0E0\"},\"major_label_text_font\":\"Helvetica\",\"major_label_text_font_size\":{\"value\":\"1.025em\"},\"major_tick_line_alpha\":{\"value\":0},\"major_tick_line_color\":{\"value\":\"#E0E0E0\"},\"minor_tick_line_alpha\":{\"value\":0},\"minor_tick_line_color\":{\"value\":\"#E0E0E0\"},\"ticker\":{\"id\":\"165508\",\"type\":\"BasicTicker\"}},\"id\":\"165507\",\"type\":\"LinearAxis\"},{\"attributes\":{\"line_alpha\":0.8,\"line_color\":\"#3288bd\",\"line_width\":3,\"x\":{\"field\":\"x\"},\"y\":{\"field\":\"y\"}},\"id\":\"165541\",\"type\":\"Line\"},{\"attributes\":{},\"id\":\"165712\",\"type\":\"UnionRenderers\"},{\"attributes\":{\"text\":\"Top 10 firest states: monthly count\",\"text_color\":{\"value\":\"#E0E0E0\"},\"text_font\":\"Helvetica\",\"text_font_size\":{\"value\":\"1.15em\"}},\"id\":\"165525\",\"type\":\"Title\"},{\"attributes\":{\"callback\":null,\"data\":{\"x\":[1,2,3,4,5,6,7,8,9,10,11,12],\"y\":{\"__ndarray__\":\"AAAAAAB4xEDNzMzMDCC9QBSuR+GKxsJA9ihcj2Jww0A6tMh2LtfDQGDl0CKbsrtADQIrh1YpvUC4HoXrUXiyQJiZmZkZP5lAOrTIdq5hw0AVrkfhytvDQM/3U+PFqr1A\",\"dtype\":\"float64\",\"shape\":[12]}},\"selected\":{\"id\":\"165609\",\"type\":\"Selection\"},\"selection_policy\":{\"id\":\"165608\",\"type\":\"UnionRenderers\"}},\"id\":\"165572\",\"type\":\"ColumnDataSource\"},{\"attributes\":{\"callback\":null},\"id\":\"165494\",\"type\":\"DataRange1d\"},{\"attributes\":{\"label\":{\"value\":\"Sao Paulo\"},\"renderers\":[{\"id\":\"165558\",\"type\":\"GlyphRenderer\"}]},\"id\":\"165571\",\"type\":\"LegendItem\"},{\"attributes\":{},\"id\":\"165515\",\"type\":\"SaveTool\"},{\"attributes\":{\"data_source\":{\"id\":\"165555\",\"type\":\"ColumnDataSource\"},\"glyph\":{\"id\":\"165556\",\"type\":\"Line\"},\"hover_glyph\":null,\"muted_glyph\":null,\"nonselection_glyph\":{\"id\":\"165557\",\"type\":\"Line\"},\"selection_glyph\":null,\"view\":{\"id\":\"165559\",\"type\":\"CDSView\"}},\"id\":\"165558\",\"type\":\"GlyphRenderer\"},{\"attributes\":{\"callback\":null},\"id\":\"165496\",\"type\":\"DataRange1d\"},{\"attributes\":{\"label\":{\"value\":\"Paraiba\"},\"renderers\":[{\"id\":\"165690\",\"type\":\"GlyphRenderer\"}]},\"id\":\"165715\",\"type\":\"LegendItem\"},{\"attributes\":{\"label\":{\"value\":\"Tocantins\"},\"renderers\":[{\"id\":\"165543\",\"type\":\"GlyphRenderer\"}]},\"id\":\"165554\",\"type\":\"LegendItem\"},{\"attributes\":{\"label\":{\"value\":\"Bahia\"},\"renderers\":[{\"id\":\"165719\",\"type\":\"GlyphRenderer\"}]},\"id\":\"165746\",\"type\":\"LegendItem\"},{\"attributes\":{\"data_source\":{\"id\":\"165526\",\"type\":\"ColumnDataSource\"},\"glyph\":{\"id\":\"165527\",\"type\":\"Line\"},\"hover_glyph\":null,\"muted_glyph\":null,\"nonselection_glyph\":{\"id\":\"165528\",\"type\":\"Line\"},\"selection_glyph\":null,\"view\":{\"id\":\"165530\",\"type\":\"CDSView\"}},\"id\":\"165529\",\"type\":\"GlyphRenderer\"},{\"attributes\":{\"callback\":null,\"data\":{\"x\":[1,2,3,4,5,6,7,8,9,10,11,12],\"y\":{\"__ndarray__\":\"AAAAAAAIlUAAAAAAAHCEQAAAAAAAYIFAAAAAAADYgUAAAAAAALiUQAAAAAAAtK9A46WbxKAivUAv3SQGIUm1QOBPjZdu/oxAeekmMQgAjkDfT42XLiu9QAAAAAAAdrtA\",\"dtype\":\"float64\",\"shape\":[12]}},\"selected\":{\"id\":\"165684\",\"type\":\"Selection\"},\"selection_policy\":{\"id\":\"165683\",\"type\":\"UnionRenderers\"}},\"id\":\"165635\",\"type\":\"ColumnDataSource\"},{\"attributes\":{\"callback\":null,\"data\":{\"x\":[1,2,3,4,5,6,7,8,9,10,11,12],\"y\":{\"__ndarray__\":\"AAAAAADsl0AAAAAAAFyQQAAAAAAAwIZAAAAAAAAAaEAAAAAAAGBrQAAAAAAAUINATmIQWDnCrUCZxCCw8qmmQI7C9Shc/KxAd76fGs+TvkD8qfHSDdO2QAAAAAAAYKFA\",\"dtype\":\"float64\",\"shape\":[12]}},\"selected\":{\"id\":\"165632\",\"type\":\"Selection\"},\"selection_policy\":{\"id\":\"165631\",\"type\":\"UnionRenderers\"}},\"id\":\"165591\",\"type\":\"ColumnDataSource\"},{\"attributes\":{\"background_fill_alpha\":{\"value\":0.25},\"background_fill_color\":{\"value\":\"#20262B\"},\"border_line_alpha\":{\"value\":0},\"click_policy\":\"hide\",\"glyph_width\":15,\"items\":[{\"id\":\"165539\",\"type\":\"LegendItem\"},{\"id\":\"165554\",\"type\":\"LegendItem\"},{\"id\":\"165571\",\"type\":\"LegendItem\"},{\"id\":\"165590\",\"type\":\"LegendItem\"},{\"id\":\"165611\",\"type\":\"LegendItem\"},{\"id\":\"165634\",\"type\":\"LegendItem\"},{\"id\":\"165659\",\"type\":\"LegendItem\"},{\"id\":\"165686\",\"type\":\"LegendItem\"},{\"id\":\"165715\",\"type\":\"LegendItem\"},{\"id\":\"165746\",\"type\":\"LegendItem\"}],\"label_standoff\":8,\"label_text_color\":{\"value\":\"#E0E0E0\"},\"label_text_font\":\"Helvetica\",\"label_text_font_size\":{\"value\":\"1.025em\"},\"location\":\"top_left\",\"spacing\":8},\"id\":\"165538\",\"type\":\"Legend\"},{\"attributes\":{},\"id\":\"165588\",\"type\":\"Selection\"},{\"attributes\":{\"label\":{\"value\":\"Mato Grosso\"},\"renderers\":[{\"id\":\"165575\",\"type\":\"GlyphRenderer\"}]},\"id\":\"165590\",\"type\":\"LegendItem\"},{\"attributes\":{},\"id\":\"165631\",\"type\":\"UnionRenderers\"},{\"attributes\":{},\"id\":\"165609\",\"type\":\"Selection\"},{\"attributes\":{\"line_alpha\":0.8,\"line_color\":\"#e6f598\",\"line_width\":3,\"x\":{\"field\":\"x\"},\"y\":{\"field\":\"y\"}},\"id\":\"165592\",\"type\":\"Line\"},{\"attributes\":{\"data_source\":{\"id\":\"165612\",\"type\":\"ColumnDataSource\"},\"glyph\":{\"id\":\"165613\",\"type\":\"Line\"},\"hover_glyph\":null,\"muted_glyph\":null,\"nonselection_glyph\":{\"id\":\"165614\",\"type\":\"Line\"},\"selection_glyph\":null,\"view\":{\"id\":\"165616\",\"type\":\"CDSView\"}},\"id\":\"165615\",\"type\":\"GlyphRenderer\"},{\"attributes\":{\"source\":{\"id\":\"165612\",\"type\":\"ColumnDataSource\"}},\"id\":\"165616\",\"type\":\"CDSView\"},{\"attributes\":{\"line_alpha\":0.1,\"line_color\":\"#1f77b4\",\"line_width\":3,\"x\":{\"field\":\"x\"},\"y\":{\"field\":\"y\"}},\"id\":\"165614\",\"type\":\"Line\"},{\"attributes\":{},\"id\":\"165632\",\"type\":\"Selection\"},{\"attributes\":{\"line_alpha\":0.1,\"line_color\":\"#1f77b4\",\"line_width\":3,\"x\":{\"field\":\"x\"},\"y\":{\"field\":\"y\"}},\"id\":\"165637\",\"type\":\"Line\"},{\"attributes\":{\"callback\":null,\"data\":{\"x\":[1,2,3,4,5,6,7,8,9,10,11,12],\"y\":{\"__ndarray__\":\"AAAAAAAIh0AAAAAAAMCRQAAAAAAAyIxAAAAAAACUkkAAAAAAALyiQAAAAAAAR7NAAAAAAICzwkDiehSuB/i8QBbZzvdTDpZAxSCwcujFsEAAAAAAAOikQAAAAAAAeI9A\",\"dtype\":\"float64\",\"shape\":[12]}},\"selected\":{\"id\":\"165657\",\"type\":\"Selection\"},\"selection_policy\":{\"id\":\"165656\",\"type\":\"UnionRenderers\"}},\"id\":\"165612\",\"type\":\"ColumnDataSource\"},{\"attributes\":{\"line_alpha\":0.1,\"line_color\":\"#1f77b4\",\"line_width\":3,\"x\":{\"field\":\"x\"},\"y\":{\"field\":\"y\"}},\"id\":\"165593\",\"type\":\"Line\"},{\"attributes\":{},\"id\":\"165656\",\"type\":\"UnionRenderers\"},{\"attributes\":{\"label\":{\"value\":\"Goias\"},\"renderers\":[{\"id\":\"165615\",\"type\":\"GlyphRenderer\"}]},\"id\":\"165634\",\"type\":\"LegendItem\"},{\"attributes\":{\"source\":{\"id\":\"165572\",\"type\":\"ColumnDataSource\"}},\"id\":\"165576\",\"type\":\"CDSView\"},{\"attributes\":{\"line_alpha\":0.1,\"line_color\":\"#1f77b4\",\"line_width\":3,\"x\":{\"field\":\"x\"},\"y\":{\"field\":\"y\"}},\"id\":\"165528\",\"type\":\"Line\"},{\"attributes\":{},\"id\":\"165608\",\"type\":\"UnionRenderers\"},{\"attributes\":{\"data_source\":{\"id\":\"165572\",\"type\":\"ColumnDataSource\"},\"glyph\":{\"id\":\"165573\",\"type\":\"Line\"},\"hover_glyph\":null,\"muted_glyph\":null,\"nonselection_glyph\":{\"id\":\"165574\",\"type\":\"Line\"},\"selection_glyph\":null,\"view\":{\"id\":\"165576\",\"type\":\"CDSView\"}},\"id\":\"165575\",\"type\":\"GlyphRenderer\"},{\"attributes\":{\"data_source\":{\"id\":\"165635\",\"type\":\"ColumnDataSource\"},\"glyph\":{\"id\":\"165636\",\"type\":\"Line\"},\"hover_glyph\":null,\"muted_glyph\":null,\"nonselection_glyph\":{\"id\":\"165637\",\"type\":\"Line\"},\"selection_glyph\":null,\"view\":{\"id\":\"165639\",\"type\":\"CDSView\"}},\"id\":\"165638\",\"type\":\"GlyphRenderer\"},{\"attributes\":{\"source\":{\"id\":\"165635\",\"type\":\"ColumnDataSource\"}},\"id\":\"165639\",\"type\":\"CDSView\"},{\"attributes\":{\"data_source\":{\"id\":\"165591\",\"type\":\"ColumnDataSource\"},\"glyph\":{\"id\":\"165592\",\"type\":\"Line\"},\"hover_glyph\":null,\"muted_glyph\":null,\"nonselection_glyph\":{\"id\":\"165593\",\"type\":\"Line\"},\"selection_glyph\":null,\"view\":{\"id\":\"165595\",\"type\":\"CDSView\"}},\"id\":\"165594\",\"type\":\"GlyphRenderer\"},{\"attributes\":{},\"id\":\"165551\",\"type\":\"UnionRenderers\"},{\"attributes\":{\"line_alpha\":0.8,\"line_color\":\"#fee08b\",\"line_width\":3,\"x\":{\"field\":\"x\"},\"y\":{\"field\":\"y\"}},\"id\":\"165636\",\"type\":\"Line\"},{\"attributes\":{\"line_alpha\":0.8,\"line_color\":\"#ffffbf\",\"line_width\":3,\"x\":{\"field\":\"x\"},\"y\":{\"field\":\"y\"}},\"id\":\"165613\",\"type\":\"Line\"},{\"attributes\":{\"source\":{\"id\":\"165591\",\"type\":\"ColumnDataSource\"}},\"id\":\"165595\",\"type\":\"CDSView\"},{\"attributes\":{},\"id\":\"165587\",\"type\":\"UnionRenderers\"},{\"attributes\":{\"label\":{\"value\":\"Amazonas\"},\"renderers\":[{\"id\":\"165594\",\"type\":\"GlyphRenderer\"}]},\"id\":\"165611\",\"type\":\"LegendItem\"}],\"root_ids\":[\"165493\"]},\"title\":\"Bokeh Application\",\"version\":\"1.3.4\"}};\n",
       "  var render_items = [{\"docid\":\"85f668a1-8099-4a0e-9930-e56b8354690a\",\"roots\":{\"165493\":\"3d5f693d-2fbe-4f3d-b70c-1977cd5a48a2\"}}];\n",
       "  root.Bokeh.embed.embed_items_notebook(docs_json, render_items);\n",
       "\n",
       "  }\n",
       "  if (root.Bokeh !== undefined) {\n",
       "    embed_document(root);\n",
       "  } else {\n",
       "    var attempts = 0;\n",
       "    var timer = setInterval(function(root) {\n",
       "      if (root.Bokeh !== undefined) {\n",
       "        embed_document(root);\n",
       "        clearInterval(timer);\n",
       "      }\n",
       "      attempts++;\n",
       "      if (attempts > 100) {\n",
       "        console.log(\"Bokeh: ERROR: Unable to run BokehJS code because BokehJS library is missing\");\n",
       "        clearInterval(timer);\n",
       "      }\n",
       "    }, 10, root)\n",
       "  }\n",
       "})(window);"
      ],
      "application/vnd.bokehjs_exec.v0+json": ""
     },
     "metadata": {
      "application/vnd.bokehjs_exec.v0+json": {
       "id": "165493"
      }
     },
     "output_type": "display_data"
    }
   ],
   "source": [
    "p = figure(plot_width=WIDTH, plot_height=HEIGHT)\n",
    "p.title.text = 'Top 10 firest states: monthly count'\n",
    "\n",
    "plots = []\n",
    "\n",
    "for state, name, color in zip(data_lst, [str(state) for state in firest_states], Spectral11):\n",
    "    plots.append(p.line(state['month_num'], state['count'],\n",
    "                        line_width=3, color=color, alpha=0.8, legend=name))\n",
    "\n",
    "p.legend.location = \"top_left\"\n",
    "p.legend.click_policy = \"hide\"\n",
    "\n",
    "show(p)"
   ]
  },
  {
   "cell_type": "markdown",
   "metadata": {},
   "source": [
    "## Firest Years"
   ]
  },
  {
   "cell_type": "code",
   "execution_count": 1722,
   "metadata": {},
   "outputs": [],
   "source": [
    "data = df.groupby(['year'])['number'].sum().reset_index(\n",
    "    name='count').sort_values('count', ascending=False)"
   ]
  },
  {
   "cell_type": "code",
   "execution_count": 1723,
   "metadata": {},
   "outputs": [],
   "source": [
    "firest_years = list(set(data[:10].year))"
   ]
  },
  {
   "cell_type": "code",
   "execution_count": 1724,
   "metadata": {},
   "outputs": [],
   "source": [
    "data = list()\n",
    "\n",
    "for year in firest_years:\n",
    "    temp = df[df.year == int(year)]\n",
    "    temp = temp.groupby('month_num')['number'].sum().reset_index(name='count')\n",
    "    data.append(temp)"
   ]
  },
  {
   "cell_type": "code",
   "execution_count": 1725,
   "metadata": {},
   "outputs": [
    {
     "data": {
      "text/html": [
       "\n",
       "\n",
       "\n",
       "\n",
       "\n",
       "\n",
       "  <div class=\"bk-root\" id=\"8f853a0c-4941-465e-a23e-5c5573798624\" data-root-id=\"166033\"></div>\n"
      ]
     },
     "metadata": {},
     "output_type": "display_data"
    },
    {
     "data": {
      "application/javascript": [
       "(function(root) {\n",
       "  function embed_document(root) {\n",
       "    \n",
       "  var docs_json = {\"aaa808e9-b258-4036-90f8-0e62ef658600\":{\"roots\":{\"references\":[{\"attributes\":{\"background_fill_color\":{\"value\":\"#20262B\"},\"below\":[{\"id\":\"166042\",\"type\":\"LinearAxis\"}],\"border_fill_color\":{\"value\":\"#15191C\"},\"center\":[{\"id\":\"166046\",\"type\":\"Grid\"},{\"id\":\"166051\",\"type\":\"Grid\"},{\"id\":\"166078\",\"type\":\"Legend\"}],\"left\":[{\"id\":\"166047\",\"type\":\"LinearAxis\"}],\"outline_line_alpha\":{\"value\":0.25},\"outline_line_color\":{\"value\":\"#E0E0E0\"},\"plot_height\":700,\"plot_width\":900,\"renderers\":[{\"id\":\"166069\",\"type\":\"GlyphRenderer\"},{\"id\":\"166083\",\"type\":\"GlyphRenderer\"},{\"id\":\"166098\",\"type\":\"GlyphRenderer\"},{\"id\":\"166115\",\"type\":\"GlyphRenderer\"},{\"id\":\"166134\",\"type\":\"GlyphRenderer\"},{\"id\":\"166155\",\"type\":\"GlyphRenderer\"},{\"id\":\"166178\",\"type\":\"GlyphRenderer\"},{\"id\":\"166203\",\"type\":\"GlyphRenderer\"},{\"id\":\"166230\",\"type\":\"GlyphRenderer\"},{\"id\":\"166259\",\"type\":\"GlyphRenderer\"}],\"title\":{\"id\":\"166065\",\"type\":\"Title\"},\"toolbar\":{\"id\":\"166058\",\"type\":\"Toolbar\"},\"x_range\":{\"id\":\"166034\",\"type\":\"DataRange1d\"},\"x_scale\":{\"id\":\"166038\",\"type\":\"LinearScale\"},\"y_range\":{\"id\":\"166036\",\"type\":\"DataRange1d\"},\"y_scale\":{\"id\":\"166040\",\"type\":\"LinearScale\"}},\"id\":\"166033\",\"subtype\":\"Figure\",\"type\":\"Plot\"},{\"attributes\":{\"source\":{\"id\":\"166200\",\"type\":\"ColumnDataSource\"}},\"id\":\"166204\",\"type\":\"CDSView\"},{\"attributes\":{\"line_alpha\":0.1,\"line_color\":\"#1f77b4\",\"line_width\":3,\"x\":{\"field\":\"x\"},\"y\":{\"field\":\"y\"}},\"id\":\"166068\",\"type\":\"Line\"},{\"attributes\":{},\"id\":\"166196\",\"type\":\"UnionRenderers\"},{\"attributes\":{\"line_alpha\":0.1,\"line_color\":\"#1f77b4\",\"line_width\":3,\"x\":{\"field\":\"x\"},\"y\":{\"field\":\"y\"}},\"id\":\"166154\",\"type\":\"Line\"},{\"attributes\":{},\"id\":\"166073\",\"type\":\"BasicTickFormatter\"},{\"attributes\":{},\"id\":\"166172\",\"type\":\"Selection\"},{\"attributes\":{\"label\":{\"value\":\"2016\"},\"renderers\":[{\"id\":\"166069\",\"type\":\"GlyphRenderer\"}]},\"id\":\"166079\",\"type\":\"LegendItem\"},{\"attributes\":{\"text\":\"Top 10 firest years: monthly count\",\"text_color\":{\"value\":\"#E0E0E0\"},\"text_font\":\"Helvetica\",\"text_font_size\":{\"value\":\"1.15em\"}},\"id\":\"166065\",\"type\":\"Title\"},{\"attributes\":{\"label\":{\"value\":\"2009\"},\"renderers\":[{\"id\":\"166155\",\"type\":\"GlyphRenderer\"}]},\"id\":\"166174\",\"type\":\"LegendItem\"},{\"attributes\":{},\"id\":\"166224\",\"type\":\"Selection\"},{\"attributes\":{\"callback\":null,\"data\":{\"x\":[1,2,3,4,5,6,7,8,9,10,11,12],\"y\":{\"__ndarray__\":\"AAAAAABGpkAAAAAAAKSiQAAAAAAA4qJAAAAAAAAwoUBMN4lBoBKhQM3MzMwMdKRAGQRWDk3stEC8dJMYBH6iQF66SQzCgKBAD1g5tAg3r0BWDi2yffCzQK5H4XrU6KpA\",\"dtype\":\"float64\",\"shape\":[12]}},\"selected\":{\"id\":\"166224\",\"type\":\"Selection\"},\"selection_policy\":{\"id\":\"166223\",\"type\":\"UnionRenderers\"}},\"id\":\"166175\",\"type\":\"ColumnDataSource\"},{\"attributes\":{\"line_alpha\":0.1,\"line_color\":\"#1f77b4\",\"line_width\":3,\"x\":{\"field\":\"x\"},\"y\":{\"field\":\"y\"}},\"id\":\"166202\",\"type\":\"Line\"},{\"attributes\":{\"data_source\":{\"id\":\"166227\",\"type\":\"ColumnDataSource\"},\"glyph\":{\"id\":\"166228\",\"type\":\"Line\"},\"hover_glyph\":null,\"muted_glyph\":null,\"nonselection_glyph\":{\"id\":\"166229\",\"type\":\"Line\"},\"selection_glyph\":null,\"view\":{\"id\":\"166231\",\"type\":\"CDSView\"}},\"id\":\"166230\",\"type\":\"GlyphRenderer\"},{\"attributes\":{\"line_alpha\":0.1,\"line_color\":\"#1f77b4\",\"line_width\":3,\"x\":{\"field\":\"x\"},\"y\":{\"field\":\"y\"}},\"id\":\"166082\",\"type\":\"Line\"},{\"attributes\":{\"active_drag\":\"auto\",\"active_inspect\":\"auto\",\"active_multi\":null,\"active_scroll\":\"auto\",\"active_tap\":\"auto\",\"tools\":[{\"id\":\"166052\",\"type\":\"PanTool\"},{\"id\":\"166053\",\"type\":\"WheelZoomTool\"},{\"id\":\"166054\",\"type\":\"BoxZoomTool\"},{\"id\":\"166055\",\"type\":\"SaveTool\"},{\"id\":\"166056\",\"type\":\"ResetTool\"},{\"id\":\"166057\",\"type\":\"HelpTool\"}]},\"id\":\"166058\",\"type\":\"Toolbar\"},{\"attributes\":{\"bottom_units\":\"screen\",\"fill_alpha\":{\"value\":0.5},\"fill_color\":{\"value\":\"lightgrey\"},\"left_units\":\"screen\",\"level\":\"overlay\",\"line_alpha\":{\"value\":1.0},\"line_color\":{\"value\":\"black\"},\"line_dash\":[4,4],\"line_width\":{\"value\":2},\"render_mode\":\"css\",\"right_units\":\"screen\",\"top_units\":\"screen\"},\"id\":\"166077\",\"type\":\"BoxAnnotation\"},{\"attributes\":{},\"id\":\"166435\",\"type\":\"UnionRenderers\"},{\"attributes\":{},\"id\":\"166091\",\"type\":\"UnionRenderers\"},{\"attributes\":{},\"id\":\"166057\",\"type\":\"HelpTool\"},{\"attributes\":{\"callback\":null,\"data\":{\"x\":[1,2,3,4,5,6,7,8,9,10,11,12],\"y\":{\"__ndarray__\":\"AAAAAAB2o0AAAAAAAHCWQAAAAAAAFKBAAAAAAAAioUAAAAAAAFCpQLKd76emkLBAL90kBgGgsUBhEFg5dP2yQEJg5dAi/qdAH7ByaNEmpkAj2/l+KjS1QPCnxks3DK1A\",\"dtype\":\"float64\",\"shape\":[12]}},\"selected\":{\"id\":\"166253\",\"type\":\"Selection\"},\"selection_policy\":{\"id\":\"166252\",\"type\":\"UnionRenderers\"}},\"id\":\"166200\",\"type\":\"ColumnDataSource\"},{\"attributes\":{\"overlay\":{\"id\":\"166077\",\"type\":\"BoxAnnotation\"}},\"id\":\"166054\",\"type\":\"BoxZoomTool\"},{\"attributes\":{\"data_source\":{\"id\":\"166152\",\"type\":\"ColumnDataSource\"},\"glyph\":{\"id\":\"166153\",\"type\":\"Line\"},\"hover_glyph\":null,\"muted_glyph\":null,\"nonselection_glyph\":{\"id\":\"166154\",\"type\":\"Line\"},\"selection_glyph\":null,\"view\":{\"id\":\"166156\",\"type\":\"CDSView\"}},\"id\":\"166155\",\"type\":\"GlyphRenderer\"},{\"attributes\":{},\"id\":\"166223\",\"type\":\"UnionRenderers\"},{\"attributes\":{\"source\":{\"id\":\"166080\",\"type\":\"ColumnDataSource\"}},\"id\":\"166084\",\"type\":\"CDSView\"},{\"attributes\":{},\"id\":\"166053\",\"type\":\"WheelZoomTool\"},{\"attributes\":{\"data_source\":{\"id\":\"166200\",\"type\":\"ColumnDataSource\"},\"glyph\":{\"id\":\"166201\",\"type\":\"Line\"},\"hover_glyph\":null,\"muted_glyph\":null,\"nonselection_glyph\":{\"id\":\"166202\",\"type\":\"Line\"},\"selection_glyph\":null,\"view\":{\"id\":\"166204\",\"type\":\"CDSView\"}},\"id\":\"166203\",\"type\":\"GlyphRenderer\"},{\"attributes\":{},\"id\":\"166056\",\"type\":\"ResetTool\"},{\"attributes\":{\"label\":{\"value\":\"2012\"},\"renderers\":[{\"id\":\"166203\",\"type\":\"GlyphRenderer\"}]},\"id\":\"166226\",\"type\":\"LegendItem\"},{\"attributes\":{\"line_alpha\":0.8,\"line_color\":\"#fee08b\",\"line_width\":3,\"x\":{\"field\":\"x\"},\"y\":{\"field\":\"y\"}},\"id\":\"166176\",\"type\":\"Line\"},{\"attributes\":{},\"id\":\"166052\",\"type\":\"PanTool\"},{\"attributes\":{\"callback\":null,\"data\":{\"x\":[1,2,3,4,5,6,7,8,9,10,11,12],\"y\":{\"__ndarray__\":\"/tR46Sa0pkCamZmZGTSoQIts5/upgJlA16NwPYo3oUD0/dR4KXCjQHsUrkchga1ANV66SQzBu0BI4XoUboKoQNejcD0KEqhA9ihcj+L+sEDm0CLbeVSyQDDdJAbBOa1A\",\"dtype\":\"float64\",\"shape\":[12]}},\"selected\":{\"id\":\"166092\",\"type\":\"Selection\"},\"selection_policy\":{\"id\":\"166091\",\"type\":\"UnionRenderers\"}},\"id\":\"166066\",\"type\":\"ColumnDataSource\"},{\"attributes\":{\"source\":{\"id\":\"166152\",\"type\":\"ColumnDataSource\"}},\"id\":\"166156\",\"type\":\"CDSView\"},{\"attributes\":{},\"id\":\"166092\",\"type\":\"Selection\"},{\"attributes\":{\"line_alpha\":0.1,\"line_color\":\"#1f77b4\",\"line_width\":3,\"x\":{\"field\":\"x\"},\"y\":{\"field\":\"y\"}},\"id\":\"166229\",\"type\":\"Line\"},{\"attributes\":{\"callback\":null,\"data\":{\"x\":[1,2,3,4,5,6,7,8,9,10,11],\"y\":{\"__ndarray__\":\"AAAAAADQokAAAAAAAOCVQAAAAAAAhJ9AAAAAAABcmEAAAAAAAJSjQNv5fmpcNLBAaJHtfP8pt0Bcj8L1aBiwQKvx0k2itqVAIbByaFEgrEAw3SQGYUm4QA==\",\"dtype\":\"float64\",\"shape\":[11]}},\"selected\":{\"id\":\"166109\",\"type\":\"Selection\"},\"selection_policy\":{\"id\":\"166108\",\"type\":\"UnionRenderers\"}},\"id\":\"166080\",\"type\":\"ColumnDataSource\"},{\"attributes\":{\"source\":{\"id\":\"166175\",\"type\":\"ColumnDataSource\"}},\"id\":\"166179\",\"type\":\"CDSView\"},{\"attributes\":{\"data_source\":{\"id\":\"166080\",\"type\":\"ColumnDataSource\"},\"glyph\":{\"id\":\"166081\",\"type\":\"Line\"},\"hover_glyph\":null,\"muted_glyph\":null,\"nonselection_glyph\":{\"id\":\"166082\",\"type\":\"Line\"},\"selection_glyph\":null,\"view\":{\"id\":\"166084\",\"type\":\"CDSView\"}},\"id\":\"166083\",\"type\":\"GlyphRenderer\"},{\"attributes\":{\"line_alpha\":0.1,\"line_color\":\"#1f77b4\",\"line_width\":3,\"x\":{\"field\":\"x\"},\"y\":{\"field\":\"y\"}},\"id\":\"166177\",\"type\":\"Line\"},{\"attributes\":{\"label\":{\"value\":\"2010\"},\"renderers\":[{\"id\":\"166178\",\"type\":\"GlyphRenderer\"}]},\"id\":\"166199\",\"type\":\"LegendItem\"},{\"attributes\":{\"label\":{\"value\":\"2017\"},\"renderers\":[{\"id\":\"166083\",\"type\":\"GlyphRenderer\"}]},\"id\":\"166094\",\"type\":\"LegendItem\"},{\"attributes\":{\"line_alpha\":0.8,\"line_color\":\"#f46d43\",\"line_width\":3,\"x\":{\"field\":\"x\"},\"y\":{\"field\":\"y\"}},\"id\":\"166228\",\"type\":\"Line\"},{\"attributes\":{\"line_alpha\":0.8,\"line_color\":\"#fdae61\",\"line_width\":3,\"x\":{\"field\":\"x\"},\"y\":{\"field\":\"y\"}},\"id\":\"166201\",\"type\":\"Line\"},{\"attributes\":{\"data_source\":{\"id\":\"166175\",\"type\":\"ColumnDataSource\"},\"glyph\":{\"id\":\"166176\",\"type\":\"Line\"},\"hover_glyph\":null,\"muted_glyph\":null,\"nonselection_glyph\":{\"id\":\"166177\",\"type\":\"Line\"},\"selection_glyph\":null,\"view\":{\"id\":\"166179\",\"type\":\"CDSView\"}},\"id\":\"166178\",\"type\":\"GlyphRenderer\"},{\"attributes\":{\"source\":{\"id\":\"166066\",\"type\":\"ColumnDataSource\"}},\"id\":\"166070\",\"type\":\"CDSView\"},{\"attributes\":{},\"id\":\"166171\",\"type\":\"UnionRenderers\"},{\"attributes\":{},\"id\":\"166197\",\"type\":\"Selection\"},{\"attributes\":{\"callback\":null,\"data\":{\"x\":[1,2,3,4,5,6,7,8,9,10,11,12],\"y\":{\"__ndarray__\":\"AAAAAACSpEAAAAAAACyYQAAAAAAAYKFAAAAAAABsokAAAAAAAOqoQN0kBoFV7qlALIcW2c5/rkDazvdTo2SlQM/3U+MldqhAwMqhRdaItUCWQ4tsp+O0QPp+arx0Cq1A\",\"dtype\":\"float64\",\"shape\":[12]}},\"selected\":{\"id\":\"166284\",\"type\":\"Selection\"},\"selection_policy\":{\"id\":\"166283\",\"type\":\"UnionRenderers\"}},\"id\":\"166227\",\"type\":\"ColumnDataSource\"},{\"attributes\":{},\"id\":\"166075\",\"type\":\"BasicTickFormatter\"},{\"attributes\":{\"line_alpha\":0.8,\"line_color\":\"#3288bd\",\"line_width\":3,\"x\":{\"field\":\"x\"},\"y\":{\"field\":\"y\"}},\"id\":\"166081\",\"type\":\"Line\"},{\"attributes\":{\"data_source\":{\"id\":\"166256\",\"type\":\"ColumnDataSource\"},\"glyph\":{\"id\":\"166257\",\"type\":\"Line\"},\"hover_glyph\":null,\"muted_glyph\":null,\"nonselection_glyph\":{\"id\":\"166258\",\"type\":\"Line\"},\"selection_glyph\":null,\"view\":{\"id\":\"166260\",\"type\":\"CDSView\"}},\"id\":\"166259\",\"type\":\"GlyphRenderer\"},{\"attributes\":{\"line_alpha\":0.8,\"line_color\":\"#5e4fa2\",\"line_width\":3,\"x\":{\"field\":\"x\"},\"y\":{\"field\":\"y\"}},\"id\":\"166067\",\"type\":\"Line\"},{\"attributes\":{\"dimension\":1,\"grid_line_alpha\":0.25,\"grid_line_color\":\"#E0E0E0\",\"ticker\":{\"id\":\"166048\",\"type\":\"BasicTicker\"}},\"id\":\"166051\",\"type\":\"Grid\"},{\"attributes\":{},\"id\":\"166149\",\"type\":\"Selection\"},{\"attributes\":{\"data_source\":{\"id\":\"166095\",\"type\":\"ColumnDataSource\"},\"glyph\":{\"id\":\"166096\",\"type\":\"Line\"},\"hover_glyph\":null,\"muted_glyph\":null,\"nonselection_glyph\":{\"id\":\"166097\",\"type\":\"Line\"},\"selection_glyph\":null,\"view\":{\"id\":\"166099\",\"type\":\"CDSView\"}},\"id\":\"166098\",\"type\":\"GlyphRenderer\"},{\"attributes\":{\"line_alpha\":0.8,\"line_color\":\"#abdda4\",\"line_width\":3,\"x\":{\"field\":\"x\"},\"y\":{\"field\":\"y\"}},\"id\":\"166113\",\"type\":\"Line\"},{\"attributes\":{\"line_alpha\":0.1,\"line_color\":\"#1f77b4\",\"line_width\":3,\"x\":{\"field\":\"x\"},\"y\":{\"field\":\"y\"}},\"id\":\"166258\",\"type\":\"Line\"},{\"attributes\":{\"label\":{\"value\":\"2002\"},\"renderers\":[{\"id\":\"166098\",\"type\":\"GlyphRenderer\"}]},\"id\":\"166111\",\"type\":\"LegendItem\"},{\"attributes\":{},\"id\":\"166128\",\"type\":\"Selection\"},{\"attributes\":{\"callback\":null},\"id\":\"166034\",\"type\":\"DataRange1d\"},{\"attributes\":{\"line_alpha\":0.8,\"line_color\":\"#ffffbf\",\"line_width\":3,\"x\":{\"field\":\"x\"},\"y\":{\"field\":\"y\"}},\"id\":\"166153\",\"type\":\"Line\"},{\"attributes\":{},\"id\":\"166109\",\"type\":\"Selection\"},{\"attributes\":{\"line_alpha\":0.1,\"line_color\":\"#1f77b4\",\"line_width\":3,\"x\":{\"field\":\"x\"},\"y\":{\"field\":\"y\"}},\"id\":\"166114\",\"type\":\"Line\"},{\"attributes\":{\"callback\":null,\"data\":{\"x\":[1,2,3,4,5,6,7,8,9,10,11,12],\"y\":{\"__ndarray__\":\"AAAAAADYmUAAAAAAAIiYQAAAAAAAPJpAAAAAAABImkAnMQisHDKUQMdLN4nBMadA30+Nl+6pukBMN4lB4OewQILAyqEFOqZA1XjpJvHWskD0/dR4aTqvQGIQWDl0Gq1A\",\"dtype\":\"float64\",\"shape\":[12]}},\"selected\":{\"id\":\"166128\",\"type\":\"Selection\"},\"selection_policy\":{\"id\":\"166127\",\"type\":\"UnionRenderers\"}},\"id\":\"166095\",\"type\":\"ColumnDataSource\"},{\"attributes\":{\"label\":{\"value\":\"2004\"},\"renderers\":[{\"id\":\"166134\",\"type\":\"GlyphRenderer\"}]},\"id\":\"166151\",\"type\":\"LegendItem\"},{\"attributes\":{},\"id\":\"166252\",\"type\":\"UnionRenderers\"},{\"attributes\":{\"data_source\":{\"id\":\"166066\",\"type\":\"ColumnDataSource\"},\"glyph\":{\"id\":\"166067\",\"type\":\"Line\"},\"hover_glyph\":null,\"muted_glyph\":null,\"nonselection_glyph\":{\"id\":\"166068\",\"type\":\"Line\"},\"selection_glyph\":null,\"view\":{\"id\":\"166070\",\"type\":\"CDSView\"}},\"id\":\"166069\",\"type\":\"GlyphRenderer\"},{\"attributes\":{},\"id\":\"166284\",\"type\":\"Selection\"},{\"attributes\":{},\"id\":\"166048\",\"type\":\"BasicTicker\"},{\"attributes\":{},\"id\":\"166283\",\"type\":\"UnionRenderers\"},{\"attributes\":{\"callback\":null,\"data\":{\"x\":[1,2,3,4,5,6,7,8,9,10,11,12],\"y\":{\"__ndarray__\":\"AAAAAADjs0AAAAAAALyiQBsv3SSGTJlAAAAAAADqpEAAAAAAAEybQEw3iUGgKqFAhxbZzjfurEBOYhBYec2wQKjGSzfJYatA8tJNYrALtkCe76fGy6G2QEA1XrqJ6K9A\",\"dtype\":\"float64\",\"shape\":[12]}},\"selected\":{\"id\":\"166149\",\"type\":\"Selection\"},\"selection_policy\":{\"id\":\"166148\",\"type\":\"UnionRenderers\"}},\"id\":\"166112\",\"type\":\"ColumnDataSource\"},{\"attributes\":{\"source\":{\"id\":\"166112\",\"type\":\"ColumnDataSource\"}},\"id\":\"166116\",\"type\":\"CDSView\"},{\"attributes\":{\"line_alpha\":0.8,\"line_color\":\"#d53e4f\",\"line_width\":3,\"x\":{\"field\":\"x\"},\"y\":{\"field\":\"y\"}},\"id\":\"166257\",\"type\":\"Line\"},{\"attributes\":{\"label\":{\"value\":\"2003\"},\"renderers\":[{\"id\":\"166115\",\"type\":\"GlyphRenderer\"}]},\"id\":\"166130\",\"type\":\"LegendItem\"},{\"attributes\":{\"label\":{\"value\":\"2014\"},\"renderers\":[{\"id\":\"166230\",\"type\":\"GlyphRenderer\"}]},\"id\":\"166255\",\"type\":\"LegendItem\"},{\"attributes\":{\"source\":{\"id\":\"166131\",\"type\":\"ColumnDataSource\"}},\"id\":\"166135\",\"type\":\"CDSView\"},{\"attributes\":{\"line_alpha\":0.8,\"line_color\":\"#66c2a5\",\"line_width\":3,\"x\":{\"field\":\"x\"},\"y\":{\"field\":\"y\"}},\"id\":\"166096\",\"type\":\"Line\"},{\"attributes\":{\"label\":{\"value\":\"2015\"},\"renderers\":[{\"id\":\"166259\",\"type\":\"GlyphRenderer\"}]},\"id\":\"166286\",\"type\":\"LegendItem\"},{\"attributes\":{},\"id\":\"166038\",\"type\":\"LinearScale\"},{\"attributes\":{\"line_alpha\":0.1,\"line_color\":\"#1f77b4\",\"line_width\":3,\"x\":{\"field\":\"x\"},\"y\":{\"field\":\"y\"}},\"id\":\"166133\",\"type\":\"Line\"},{\"attributes\":{\"axis_label_standoff\":10,\"axis_label_text_color\":{\"value\":\"#E0E0E0\"},\"axis_label_text_font\":\"Helvetica\",\"axis_label_text_font_size\":{\"value\":\"1.25em\"},\"axis_label_text_font_style\":\"normal\",\"axis_line_alpha\":{\"value\":0},\"axis_line_color\":{\"value\":\"#E0E0E0\"},\"formatter\":{\"id\":\"166075\",\"type\":\"BasicTickFormatter\"},\"major_label_text_color\":{\"value\":\"#E0E0E0\"},\"major_label_text_font\":\"Helvetica\",\"major_label_text_font_size\":{\"value\":\"1.025em\"},\"major_tick_line_alpha\":{\"value\":0},\"major_tick_line_color\":{\"value\":\"#E0E0E0\"},\"minor_tick_line_alpha\":{\"value\":0},\"minor_tick_line_color\":{\"value\":\"#E0E0E0\"},\"ticker\":{\"id\":\"166043\",\"type\":\"BasicTicker\"}},\"id\":\"166042\",\"type\":\"LinearAxis\"},{\"attributes\":{\"callback\":null,\"data\":{\"x\":[1,2,3,4,5,6,7,8,9,10,11,12],\"y\":{\"__ndarray__\":\"AAAAAAAipUAAAAAAAJyTQAAAAAAA4J9AAAAAAADclED+1HjpppGRQBFYObTIaapAE4PAyuFfrkAGgZVDyzynQHJoke18961Ad76fGo+utkBiEFg5FE22QNnO91MjL7FA\",\"dtype\":\"float64\",\"shape\":[12]}},\"selected\":{\"id\":\"166172\",\"type\":\"Selection\"},\"selection_policy\":{\"id\":\"166171\",\"type\":\"UnionRenderers\"}},\"id\":\"166131\",\"type\":\"ColumnDataSource\"},{\"attributes\":{\"line_alpha\":0.8,\"line_color\":\"#e6f598\",\"line_width\":3,\"x\":{\"field\":\"x\"},\"y\":{\"field\":\"y\"}},\"id\":\"166132\",\"type\":\"Line\"},{\"attributes\":{\"callback\":null,\"data\":{\"x\":[1,2,3,4,5,6,7,8,9,10,11,12],\"y\":{\"__ndarray__\":\"AAAAAABApkAAAAAAANCRQAAAAAAAwJVAAAAAAADYkEAAAAAAAEKkQAAAAAAAJKdAcmiR7Zx7s0CXbhKDYDG4QJRDi2xnAp1AFa5H4fpfuEDsUbgeBTGzQIKVQ4ssw6ZA\",\"dtype\":\"float64\",\"shape\":[12]}},\"selected\":{\"id\":\"166197\",\"type\":\"Selection\"},\"selection_policy\":{\"id\":\"166196\",\"type\":\"UnionRenderers\"}},\"id\":\"166152\",\"type\":\"ColumnDataSource\"},{\"attributes\":{\"data_source\":{\"id\":\"166131\",\"type\":\"ColumnDataSource\"},\"glyph\":{\"id\":\"166132\",\"type\":\"Line\"},\"hover_glyph\":null,\"muted_glyph\":null,\"nonselection_glyph\":{\"id\":\"166133\",\"type\":\"Line\"},\"selection_glyph\":null,\"view\":{\"id\":\"166135\",\"type\":\"CDSView\"}},\"id\":\"166134\",\"type\":\"GlyphRenderer\"},{\"attributes\":{\"grid_line_alpha\":0.25,\"grid_line_color\":\"#E0E0E0\",\"ticker\":{\"id\":\"166043\",\"type\":\"BasicTicker\"}},\"id\":\"166046\",\"type\":\"Grid\"},{\"attributes\":{\"source\":{\"id\":\"166095\",\"type\":\"ColumnDataSource\"}},\"id\":\"166099\",\"type\":\"CDSView\"},{\"attributes\":{},\"id\":\"166148\",\"type\":\"UnionRenderers\"},{\"attributes\":{\"callback\":null},\"id\":\"166036\",\"type\":\"DataRange1d\"},{\"attributes\":{\"line_alpha\":0.1,\"line_color\":\"#1f77b4\",\"line_width\":3,\"x\":{\"field\":\"x\"},\"y\":{\"field\":\"y\"}},\"id\":\"166097\",\"type\":\"Line\"},{\"attributes\":{},\"id\":\"166055\",\"type\":\"SaveTool\"},{\"attributes\":{\"data_source\":{\"id\":\"166112\",\"type\":\"ColumnDataSource\"},\"glyph\":{\"id\":\"166113\",\"type\":\"Line\"},\"hover_glyph\":null,\"muted_glyph\":null,\"nonselection_glyph\":{\"id\":\"166114\",\"type\":\"Line\"},\"selection_glyph\":null,\"view\":{\"id\":\"166116\",\"type\":\"CDSView\"}},\"id\":\"166115\",\"type\":\"GlyphRenderer\"},{\"attributes\":{\"source\":{\"id\":\"166227\",\"type\":\"ColumnDataSource\"}},\"id\":\"166231\",\"type\":\"CDSView\"},{\"attributes\":{},\"id\":\"166043\",\"type\":\"BasicTicker\"},{\"attributes\":{},\"id\":\"166040\",\"type\":\"LinearScale\"},{\"attributes\":{\"callback\":null,\"data\":{\"x\":[1,2,3,4,5,6,7,8,9,10,11,12],\"y\":{\"__ndarray__\":\"AAAAAAAbskAAAAAAAAqiQAAAAAAANKFAAAAAAAAapEAAAAAAAKCiQMl2vp8aealACKwcWmQMsUAAAAAAIAuxQIlBYOVQfaNAZ2ZmZoaTsUCoxks3CYWvQAaBlUML8a9A\",\"dtype\":\"float64\",\"shape\":[12]}},\"selected\":{\"id\":\"166436\",\"type\":\"Selection\"},\"selection_policy\":{\"id\":\"166435\",\"type\":\"UnionRenderers\"}},\"id\":\"166256\",\"type\":\"ColumnDataSource\"},{\"attributes\":{\"background_fill_alpha\":{\"value\":0.25},\"background_fill_color\":{\"value\":\"#20262B\"},\"border_line_alpha\":{\"value\":0},\"click_policy\":\"hide\",\"glyph_width\":15,\"items\":[{\"id\":\"166079\",\"type\":\"LegendItem\"},{\"id\":\"166094\",\"type\":\"LegendItem\"},{\"id\":\"166111\",\"type\":\"LegendItem\"},{\"id\":\"166130\",\"type\":\"LegendItem\"},{\"id\":\"166151\",\"type\":\"LegendItem\"},{\"id\":\"166174\",\"type\":\"LegendItem\"},{\"id\":\"166199\",\"type\":\"LegendItem\"},{\"id\":\"166226\",\"type\":\"LegendItem\"},{\"id\":\"166255\",\"type\":\"LegendItem\"},{\"id\":\"166286\",\"type\":\"LegendItem\"}],\"label_standoff\":8,\"label_text_color\":{\"value\":\"#E0E0E0\"},\"label_text_font\":\"Helvetica\",\"label_text_font_size\":{\"value\":\"1.025em\"},\"location\":\"top_left\",\"spacing\":8},\"id\":\"166078\",\"type\":\"Legend\"},{\"attributes\":{},\"id\":\"166127\",\"type\":\"UnionRenderers\"},{\"attributes\":{\"source\":{\"id\":\"166256\",\"type\":\"ColumnDataSource\"}},\"id\":\"166260\",\"type\":\"CDSView\"},{\"attributes\":{},\"id\":\"166108\",\"type\":\"UnionRenderers\"},{\"attributes\":{},\"id\":\"166436\",\"type\":\"Selection\"},{\"attributes\":{},\"id\":\"166253\",\"type\":\"Selection\"},{\"attributes\":{\"axis_label_standoff\":10,\"axis_label_text_color\":{\"value\":\"#E0E0E0\"},\"axis_label_text_font\":\"Helvetica\",\"axis_label_text_font_size\":{\"value\":\"1.25em\"},\"axis_label_text_font_style\":\"normal\",\"axis_line_alpha\":{\"value\":0},\"axis_line_color\":{\"value\":\"#E0E0E0\"},\"formatter\":{\"id\":\"166073\",\"type\":\"BasicTickFormatter\"},\"major_label_text_color\":{\"value\":\"#E0E0E0\"},\"major_label_text_font\":\"Helvetica\",\"major_label_text_font_size\":{\"value\":\"1.025em\"},\"major_tick_line_alpha\":{\"value\":0},\"major_tick_line_color\":{\"value\":\"#E0E0E0\"},\"minor_tick_line_alpha\":{\"value\":0},\"minor_tick_line_color\":{\"value\":\"#E0E0E0\"},\"ticker\":{\"id\":\"166048\",\"type\":\"BasicTicker\"}},\"id\":\"166047\",\"type\":\"LinearAxis\"}],\"root_ids\":[\"166033\"]},\"title\":\"Bokeh Application\",\"version\":\"1.3.4\"}};\n",
       "  var render_items = [{\"docid\":\"aaa808e9-b258-4036-90f8-0e62ef658600\",\"roots\":{\"166033\":\"8f853a0c-4941-465e-a23e-5c5573798624\"}}];\n",
       "  root.Bokeh.embed.embed_items_notebook(docs_json, render_items);\n",
       "\n",
       "  }\n",
       "  if (root.Bokeh !== undefined) {\n",
       "    embed_document(root);\n",
       "  } else {\n",
       "    var attempts = 0;\n",
       "    var timer = setInterval(function(root) {\n",
       "      if (root.Bokeh !== undefined) {\n",
       "        embed_document(root);\n",
       "        clearInterval(timer);\n",
       "      }\n",
       "      attempts++;\n",
       "      if (attempts > 100) {\n",
       "        console.log(\"Bokeh: ERROR: Unable to run BokehJS code because BokehJS library is missing\");\n",
       "        clearInterval(timer);\n",
       "      }\n",
       "    }, 10, root)\n",
       "  }\n",
       "})(window);"
      ],
      "application/vnd.bokehjs_exec.v0+json": ""
     },
     "metadata": {
      "application/vnd.bokehjs_exec.v0+json": {
       "id": "166033"
      }
     },
     "output_type": "display_data"
    }
   ],
   "source": [
    "p = figure(plot_width=WIDTH, plot_height=HEIGHT)\n",
    "p.title.text = 'Top 10 firest years: monthly count'\n",
    "\n",
    "plots = []\n",
    "\n",
    "for state, name, color in zip(data, [str(yr) for yr in firest_years], Spectral11):\n",
    "    plots.append(p.line(state['month_num'], state['count'],\n",
    "                        line_width=3, color=color, alpha=0.8, legend=name))\n",
    "\n",
    "p.legend.location = \"top_left\"\n",
    "p.legend.click_policy = \"hide\"\n",
    "\n",
    "\n",
    "show(p)"
   ]
  }
 ],
 "metadata": {
  "kernelspec": {
   "display_name": "Python 3",
   "language": "python",
   "name": "python3"
  },
  "language_info": {
   "codemirror_mode": {
    "name": "ipython",
    "version": 3
   },
   "file_extension": ".py",
   "mimetype": "text/x-python",
   "name": "python",
   "nbconvert_exporter": "python",
   "pygments_lexer": "ipython3",
   "version": "3.7.3"
  },
  "toc": {
   "base_numbering": 1,
   "nav_menu": {},
   "number_sections": true,
   "sideBar": true,
   "skip_h1_title": false,
   "title_cell": "Table of Contents",
   "title_sidebar": "Contents",
   "toc_cell": false,
   "toc_position": {
    "height": "calc(100% - 180px)",
    "left": "10px",
    "top": "150px",
    "width": "207px"
   },
   "toc_section_display": true,
   "toc_window_display": true
  }
 },
 "nbformat": 4,
 "nbformat_minor": 2
}
